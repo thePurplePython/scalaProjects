{
 "cells": [
  {
   "cell_type": "markdown",
   "metadata": {},
   "source": [
    "### grp"
   ]
  },
  {
   "cell_type": "markdown",
   "metadata": {},
   "source": [
    "# Course: _Introduction to Scala_:\n",
    "1.  scalable language\n",
    "2.  workflows, functions, & collections\n",
    "3.  type systems, control structures, & style"
   ]
  },
  {
   "cell_type": "markdown",
   "metadata": {},
   "source": [
    "## _1. Scalable Language_:\n",
    "-  Scala means \"_staicase_\" in Italian\n",
    "-  \"**SCA**lable **LA**nguage\"\n",
    "-  Scala source code compiles to Java bytecode and runs on a Java Virtual Machine (**JVM**) \n",
    "-  Scala is a \"flexible and scalable\" language ... ex: ***legos***\n",
    "-  Scala combines object-oriented and functional programming:\n",
    "    -  every value is an object\n",
    "    -  every operation is a method call\n",
    "    -  functions are first-class values\n",
    "    -  operations of a program should map input values to output values rather than change data in place"
   ]
  },
  {
   "cell_type": "markdown",
   "metadata": {},
   "source": [
    "#### object-oriented example"
   ]
  },
  {
   "cell_type": "code",
   "execution_count": 1,
   "metadata": {},
   "outputs": [
    {
     "name": "stdout",
     "output_type": "stream",
     "text": [
      "3\n"
     ]
    },
    {
     "data": {
      "text/plain": [
       "\u001b[36mdifference\u001b[39m: \u001b[32mInt\u001b[39m = \u001b[32m3\u001b[39m"
      ]
     },
     "execution_count": 1,
     "metadata": {},
     "output_type": "execute_result"
    }
   ],
   "source": [
    "// Calculate the difference between 8 and 5\n",
    "val difference = 8 - 5\n",
    "\n",
    "// Print the difference\n",
    "println(difference)"
   ]
  },
  {
   "cell_type": "markdown",
   "metadata": {},
   "source": [
    "#### immutable variables"
   ]
  },
  {
   "cell_type": "code",
   "execution_count": 2,
   "metadata": {},
   "outputs": [
    {
     "data": {
      "text/plain": [
       "\u001b[36mtwoClubs\u001b[39m: \u001b[32mInt\u001b[39m = \u001b[32m2\u001b[39m\n",
       "\u001b[36mthreeClubs\u001b[39m: \u001b[32mInt\u001b[39m = \u001b[32m3\u001b[39m\n",
       "\u001b[36mfourClubs\u001b[39m: \u001b[32mInt\u001b[39m = \u001b[32m4\u001b[39m"
      ]
     },
     "execution_count": 2,
     "metadata": {},
     "output_type": "execute_result"
    }
   ],
   "source": [
    "// Define immutable variables for clubs 2♣ through 4♣\n",
    "val twoClubs: Int = 2\n",
    "val threeClubs: Int = 3\n",
    "val fourClubs: Int = 4"
   ]
  },
  {
   "cell_type": "code",
   "execution_count": 3,
   "metadata": {},
   "outputs": [
    {
     "data": {
      "text/plain": [
       "\u001b[36mplayerA\u001b[39m: \u001b[32mString\u001b[39m = \u001b[32m\"Alex\"\u001b[39m\n",
       "\u001b[36mplayerB\u001b[39m: \u001b[32mString\u001b[39m = \u001b[32m\"Chen\"\u001b[39m\n",
       "\u001b[36mplayerC\u001b[39m: \u001b[32mString\u001b[39m = \u001b[32m\"Umberto\"\u001b[39m"
      ]
     },
     "execution_count": 3,
     "metadata": {},
     "output_type": "execute_result"
    }
   ],
   "source": [
    "// Define immutable variables for player names\n",
    "val playerA: String = \"Alex\"\n",
    "val playerB: String = \"Chen\"\n",
    "val playerC: String = \"Umberto\""
   ]
  },
  {
   "cell_type": "markdown",
   "metadata": {},
   "source": [
    "#### mutable variables"
   ]
  },
  {
   "cell_type": "code",
   "execution_count": 4,
   "metadata": {},
   "outputs": [
    {
     "data": {
      "text/plain": [
       "\u001b[36maceClubs\u001b[39m: \u001b[32mInt\u001b[39m = \u001b[32m1\u001b[39m\n",
       "\u001b[36maceDiamonds\u001b[39m: \u001b[32mInt\u001b[39m = \u001b[32m1\u001b[39m\n",
       "\u001b[36maceHearts\u001b[39m: \u001b[32mInt\u001b[39m = \u001b[32m1\u001b[39m\n",
       "\u001b[36maceSpades\u001b[39m: \u001b[32mInt\u001b[39m = \u001b[32m1\u001b[39m"
      ]
     },
     "execution_count": 4,
     "metadata": {},
     "output_type": "execute_result"
    }
   ],
   "source": [
    "// Define mutable variables for all aces\n",
    "var aceClubs: Int = 1\n",
    "var aceDiamonds: Int = 1\n",
    "var aceHearts: Int = 1\n",
    "var aceSpades: Int = 1"
   ]
  },
  {
   "cell_type": "code",
   "execution_count": 5,
   "metadata": {},
   "outputs": [
    {
     "name": "stdout",
     "output_type": "stream",
     "text": [
      "21\n"
     ]
    },
    {
     "data": {
      "text/plain": [
       "\u001b[36mplayerA\u001b[39m: \u001b[32mString\u001b[39m = \u001b[32m\"Alex\"\u001b[39m\n",
       "\u001b[36mjackClubs\u001b[39m: \u001b[32mInt\u001b[39m = \u001b[32m10\u001b[39m"
      ]
     },
     "execution_count": 5,
     "metadata": {},
     "output_type": "execute_result"
    }
   ],
   "source": [
    "// Create a mutable variable for player A (Alex)\n",
    "var playerA = \"Alex\"\n",
    "\n",
    "// Change the point value of A♦ from 1 to 11\n",
    "aceDiamonds = 11\n",
    "\n",
    "// Calculate hand value for J♣ and A♦\n",
    "val jackClubs = 10\n",
    "\n",
    "println(jackClubs + aceDiamonds)"
   ]
  },
  {
   "cell_type": "markdown",
   "metadata": {},
   "source": [
    "## _2. Workflows, Functions, & Collections_:\n",
    "-  Interpreted Language vs Compiled Language:\n",
    "    -  **interpreter** => program that directly executes instructions written in a programming language w/o requiring them previously to have been compiled into machine code\n",
    "    -  **compiler** => program that translates source code from a high-level programming language to a lower level language (ex: ***machine code***) to create an executable program\n",
    "-  Scala _compile_ terminal **scalac**\n",
    "-  Scala IDE => **IntelliJ IDEA**, **Scala Kernel (Almond) for Jupyter**\n",
    "-  Scala Builder => **sbt** (compile, run, and test scala applications)\n",
    "-  Functions:\n",
    "    -  list of arguments to produce a result\n",
    "    -  parts (**parameter list**, **body**, **result type**)\n",
    "-  Collections:\n",
    "    -  Arrays (*mutable*) and Lists (*immutable*)"
   ]
  },
  {
   "cell_type": "markdown",
   "metadata": {},
   "source": [
    "#### function"
   ]
  },
  {
   "cell_type": "code",
   "execution_count": 6,
   "metadata": {},
   "outputs": [
    {
     "data": {
      "text/plain": [
       "defined \u001b[32mfunction\u001b[39m \u001b[36mmaxHand\u001b[39m"
      ]
     },
     "execution_count": 6,
     "metadata": {},
     "output_type": "execute_result"
    }
   ],
   "source": [
    "def maxHand(handA: Int, handB: Int): Int = {\n",
    "  if (handA > handB) handA\n",
    "  else handB\n",
    "}"
   ]
  },
  {
   "cell_type": "code",
   "execution_count": 7,
   "metadata": {},
   "outputs": [
    {
     "data": {
      "text/plain": [
       "\u001b[36mqueenDiamonds\u001b[39m: \u001b[32mInt\u001b[39m = \u001b[32m10\u001b[39m\n",
       "\u001b[36mthreeClubs\u001b[39m: \u001b[32mInt\u001b[39m = \u001b[32m3\u001b[39m\n",
       "\u001b[36maceHearts\u001b[39m: \u001b[32mInt\u001b[39m = \u001b[32m1\u001b[39m\n",
       "\u001b[36mfiveSpades\u001b[39m: \u001b[32mInt\u001b[39m = \u001b[32m5\u001b[39m\n",
       "\u001b[36mkingHearts\u001b[39m: \u001b[32mInt\u001b[39m = \u001b[32m10\u001b[39m\n",
       "\u001b[36mjackHearts\u001b[39m: \u001b[32mInt\u001b[39m = \u001b[32m10\u001b[39m"
      ]
     },
     "execution_count": 7,
     "metadata": {},
     "output_type": "execute_result"
    }
   ],
   "source": [
    "val queenDiamonds: Int = 10\n",
    "val threeClubs: Int = 3\n",
    "val aceHearts: Int = 1\n",
    "val fiveSpades: Int = 5\n",
    "val kingHearts: Int = 10\n",
    "val jackHearts: Int = 10"
   ]
  },
  {
   "cell_type": "code",
   "execution_count": 8,
   "metadata": {},
   "outputs": [
    {
     "name": "stdout",
     "output_type": "stream",
     "text": [
      "20\n"
     ]
    },
    {
     "data": {
      "text/plain": [
       "\u001b[36mhandPlayerA\u001b[39m: \u001b[32mInt\u001b[39m = \u001b[32m19\u001b[39m\n",
       "\u001b[36mhandPlayerB\u001b[39m: \u001b[32mInt\u001b[39m = \u001b[32m20\u001b[39m"
      ]
     },
     "execution_count": 8,
     "metadata": {},
     "output_type": "execute_result"
    }
   ],
   "source": [
    "// Calculate hand values\n",
    "var handPlayerA: Int = queenDiamonds + threeClubs + aceHearts + fiveSpades\n",
    "var handPlayerB: Int = kingHearts + jackHearts\n",
    "\n",
    "// Find and print the maximum hand value\n",
    "println(maxHand(handPlayerA, handPlayerB))"
   ]
  },
  {
   "cell_type": "markdown",
   "metadata": {},
   "source": [
    "#### array"
   ]
  },
  {
   "cell_type": "code",
   "execution_count": 9,
   "metadata": {},
   "outputs": [
    {
     "data": {
      "text/plain": [
       "\u001b[36mhands\u001b[39m: \u001b[32mArray\u001b[39m[\u001b[32mInt\u001b[39m] = \u001b[33mArray\u001b[39m(\u001b[32m0\u001b[39m, \u001b[32m0\u001b[39m, \u001b[32m0\u001b[39m)"
      ]
     },
     "execution_count": 9,
     "metadata": {},
     "output_type": "execute_result"
    }
   ],
   "source": [
    "// Create and parameterize an array for a round of Twenty-One\n",
    "val hands: Array[Int] = new Array[Int](3)"
   ]
  },
  {
   "cell_type": "code",
   "execution_count": 10,
   "metadata": {
    "scrolled": true
   },
   "outputs": [
    {
     "data": {
      "text/plain": [
       "\u001b[36mtenClubs\u001b[39m: \u001b[32mInt\u001b[39m = \u001b[32m10\u001b[39m\n",
       "\u001b[36mfourDiamonds\u001b[39m: \u001b[32mInt\u001b[39m = \u001b[32m4\u001b[39m\n",
       "\u001b[36mnineSpades\u001b[39m: \u001b[32mInt\u001b[39m = \u001b[32m9\u001b[39m\n",
       "\u001b[36mnineHearts\u001b[39m: \u001b[32mInt\u001b[39m = \u001b[32m9\u001b[39m\n",
       "\u001b[36mtwoClubs\u001b[39m: \u001b[32mInt\u001b[39m = \u001b[32m2\u001b[39m\n",
       "\u001b[36mthreeSpades\u001b[39m: \u001b[32mInt\u001b[39m = \u001b[32m3\u001b[39m"
      ]
     },
     "execution_count": 10,
     "metadata": {},
     "output_type": "execute_result"
    }
   ],
   "source": [
    "val tenClubs: Int = 10\n",
    "val fourDiamonds: Int = 4\n",
    "val nineSpades: Int = 9\n",
    "val nineHearts: Int = 9\n",
    "val twoClubs: Int = 2\n",
    "val threeSpades: Int = 3"
   ]
  },
  {
   "cell_type": "code",
   "execution_count": 11,
   "metadata": {},
   "outputs": [
    {
     "data": {
      "text/plain": [
       "\u001b[36mhands\u001b[39m: \u001b[32mArray\u001b[39m[\u001b[32mInt\u001b[39m] = \u001b[33mArray\u001b[39m(\u001b[32m14\u001b[39m, \u001b[32m18\u001b[39m, \u001b[32m5\u001b[39m)"
      ]
     },
     "execution_count": 11,
     "metadata": {},
     "output_type": "execute_result"
    }
   ],
   "source": [
    "// Create and parameterize an array for a round of Twenty-One\n",
    "val hands: Array[Int] = new Array[Int](3)\n",
    "\n",
    "// Initialize the first player's hand in the array\n",
    "hands(0) = tenClubs + fourDiamonds\n",
    "\n",
    "// Initialize the second player's hand in the array\n",
    "hands(1) = nineSpades + nineHearts\n",
    "\n",
    "// Initialize the third player's hand in the array\n",
    "hands(2) = twoClubs + threeSpades"
   ]
  },
  {
   "cell_type": "code",
   "execution_count": 12,
   "metadata": {},
   "outputs": [
    {
     "data": {
      "text/plain": [
       "\u001b[36mhands\u001b[39m: \u001b[32mArray\u001b[39m[\u001b[32mInt\u001b[39m] = \u001b[33mArray\u001b[39m(\u001b[32m14\u001b[39m, \u001b[32m18\u001b[39m, \u001b[32m5\u001b[39m)"
      ]
     },
     "execution_count": 12,
     "metadata": {},
     "output_type": "execute_result"
    }
   ],
   "source": [
    "// Create, parameterize, and initialize an array for a round of Twenty-One\n",
    "val hands = Array(tenClubs + fourDiamonds,\n",
    "              nineSpades + nineHearts,\n",
    "              twoClubs + threeSpades)"
   ]
  },
  {
   "cell_type": "code",
   "execution_count": 13,
   "metadata": {},
   "outputs": [
    {
     "data": {
      "text/plain": [
       "\u001b[36mfiveClubs\u001b[39m: \u001b[32mInt\u001b[39m = \u001b[32m5\u001b[39m\n",
       "\u001b[36mqueenSpades\u001b[39m: \u001b[32mInt\u001b[39m = \u001b[32m10\u001b[39m\n",
       "\u001b[36mkingClubs\u001b[39m: \u001b[32mInt\u001b[39m = \u001b[32m10\u001b[39m"
      ]
     },
     "execution_count": 13,
     "metadata": {},
     "output_type": "execute_result"
    }
   ],
   "source": [
    "val fiveClubs: Int = 5\n",
    "val queenSpades: Int = 10\n",
    "val kingClubs: Int = 10"
   ]
  },
  {
   "cell_type": "code",
   "execution_count": 14,
   "metadata": {},
   "outputs": [
    {
     "name": "stdout",
     "output_type": "stream",
     "text": [
      "14\n",
      "18\n",
      "5\n",
      "19\n",
      "28\n",
      "15\n"
     ]
    }
   ],
   "source": [
    "// Initialize player's hand and print out hands before each player hits\n",
    "hands(0) = tenClubs + fourDiamonds\n",
    "hands(1) = nineSpades + nineHearts\n",
    "hands(2) = twoClubs + threeSpades\n",
    "hands.foreach(println)\n",
    "\n",
    "// Add 5♣ to the first player's hand\n",
    "hands(0) = hands(0) + fiveClubs\n",
    "\n",
    "// Add Q♠ to the second player's hand\n",
    "hands(1) = hands(1) + queenSpades\n",
    "\n",
    "// Add K♣ to the third player's hand\n",
    "hands(2) = hands(2) + kingClubs\n",
    "\n",
    "// Print out hands after each player hits\n",
    "hands.foreach(println)"
   ]
  },
  {
   "cell_type": "markdown",
   "metadata": {},
   "source": [
    "#### list"
   ]
  },
  {
   "cell_type": "code",
   "execution_count": 15,
   "metadata": {},
   "outputs": [
    {
     "name": "stdout",
     "output_type": "stream",
     "text": [
      "List(10, 15, 20, 25, 30)\n",
      "List(5, 10, 15, 20, 25, 30)\n"
     ]
    },
    {
     "data": {
      "text/plain": [
       "\u001b[36mprizes\u001b[39m: \u001b[32mList\u001b[39m[\u001b[32mInt\u001b[39m] = \u001b[33mList\u001b[39m(\u001b[32m10\u001b[39m, \u001b[32m15\u001b[39m, \u001b[32m20\u001b[39m, \u001b[32m25\u001b[39m, \u001b[32m30\u001b[39m)\n",
       "\u001b[36mnewPrizes\u001b[39m: \u001b[32mList\u001b[39m[\u001b[32mInt\u001b[39m] = \u001b[33mList\u001b[39m(\u001b[32m5\u001b[39m, \u001b[32m10\u001b[39m, \u001b[32m15\u001b[39m, \u001b[32m20\u001b[39m, \u001b[32m25\u001b[39m, \u001b[32m30\u001b[39m)"
      ]
     },
     "execution_count": 15,
     "metadata": {},
     "output_type": "execute_result"
    }
   ],
   "source": [
    "// Initialize a list with an element for each round's prize\n",
    "val prizes = List(10, 15, 20, 25, 30)\n",
    "println(prizes)\n",
    "\n",
    "// Prepend to prizes to add another round and prize\n",
    "val newPrizes = 5 :: prizes\n",
    "println(newPrizes)"
   ]
  },
  {
   "cell_type": "code",
   "execution_count": 16,
   "metadata": {},
   "outputs": [
    {
     "name": "stdout",
     "output_type": "stream",
     "text": [
      "List(10, 15, 20, 25, 30)\n"
     ]
    },
    {
     "data": {
      "text/plain": [
       "\u001b[36mprizes\u001b[39m: \u001b[32mList\u001b[39m[\u001b[32mInt\u001b[39m] = \u001b[33mList\u001b[39m(\u001b[32m10\u001b[39m, \u001b[32m15\u001b[39m, \u001b[32m20\u001b[39m, \u001b[32m25\u001b[39m, \u001b[32m30\u001b[39m)"
      ]
     },
     "execution_count": 16,
     "metadata": {},
     "output_type": "execute_result"
    }
   ],
   "source": [
    "// Initialize a list with an element each round's prize\n",
    "val prizes = 10 :: 15 :: 20 :: 25 :: 30 :: Nil\n",
    "println(prizes)"
   ]
  },
  {
   "cell_type": "code",
   "execution_count": 17,
   "metadata": {},
   "outputs": [
    {
     "data": {
      "text/plain": [
       "\u001b[36mvenuesNTOA\u001b[39m: \u001b[32mList\u001b[39m[\u001b[32mString\u001b[39m] = \u001b[33mList\u001b[39m(\u001b[32m\"The Grand Ballroom\"\u001b[39m, \u001b[32m\"Atlantis Casino\"\u001b[39m, \u001b[32m\"Doug's House\"\u001b[39m)\n",
       "\u001b[36mvenuesEuroTO\u001b[39m: \u001b[32mList\u001b[39m[\u001b[32mString\u001b[39m] = \u001b[33mList\u001b[39m(\u001b[32m\"Five Seasons Hotel\"\u001b[39m, \u001b[32m\"The Electric Unicorn\"\u001b[39m)\n",
       "\u001b[36mvenuesTOWorld\u001b[39m: \u001b[32mList\u001b[39m[\u001b[32mString\u001b[39m] = \u001b[33mList\u001b[39m(\n",
       "  \u001b[32m\"The Grand Ballroom\"\u001b[39m,\n",
       "  \u001b[32m\"Atlantis Casino\"\u001b[39m,\n",
       "  \u001b[32m\"Doug's House\"\u001b[39m,\n",
       "  \u001b[32m\"Five Seasons Hotel\"\u001b[39m,\n",
       "  \u001b[32m\"The Electric Unicorn\"\u001b[39m\n",
       ")"
      ]
     },
     "execution_count": 17,
     "metadata": {},
     "output_type": "execute_result"
    }
   ],
   "source": [
    "// The original NTOA and EuroTO venue lists\n",
    "val venuesNTOA = List(\"The Grand Ballroom\", \"Atlantis Casino\", \"Doug's House\")\n",
    "val venuesEuroTO = \"Five Seasons Hotel\" :: \"The Electric Unicorn\" :: Nil\n",
    "\n",
    "// Concatenate the North American and European venues\n",
    "val venuesTOWorld = venuesNTOA ::: venuesEuroTO"
   ]
  },
  {
   "cell_type": "markdown",
   "metadata": {},
   "source": [
    "## _3. Type Systems, Control Structures, & Style_:\n",
    "-  Scala is a **static typed** language\n",
    "-  Static vs Dynamic:\n",
    "    -  **static type systems** => the type of a variable is known at compile time (_types are checked before run-time_) ex: Java, Scala, C/C++\n",
    "    -  **dynamic type systems** => the type of a variable is checked on the fly (_types are checked at run-time_) ex: Python, R, JavaScript\n",
    "-  Control Structures (**if-else**, **while**)\n",
    "-  Imperative Programming vs Functional Programming:\n",
    "    -  **imperative**:\n",
    "        -  one command at a time\n",
    "        -  iterate with loops\n",
    "        -  mutate shared state (mutating variables out of scope)\n",
    "        -  side effects\n",
    "        -  **var**\n",
    "        -  **Unit** type\n",
    "    -  **functional**:\n",
    "        -  functions used as first-class values / passed as arguments\n",
    "        -  operations map input values to output values\n",
    "        -  no side effects\n",
    "        -  **val**\n",
    "        -  non-**Unit** value types (Int, Boolean, Double, etc.)"
   ]
  },
  {
   "cell_type": "markdown",
   "metadata": {},
   "source": [
    "#### if expression"
   ]
  },
  {
   "cell_type": "code",
   "execution_count": 18,
   "metadata": {},
   "outputs": [
    {
     "data": {
      "text/plain": [
       "\u001b[36msevenClubs\u001b[39m: \u001b[32mInt\u001b[39m = \u001b[32m7\u001b[39m\n",
       "\u001b[36mkingDiamonds\u001b[39m: \u001b[32mInt\u001b[39m = \u001b[32m10\u001b[39m\n",
       "\u001b[36mfourSpades\u001b[39m: \u001b[32mInt\u001b[39m = \u001b[32m4\u001b[39m"
      ]
     },
     "execution_count": 18,
     "metadata": {},
     "output_type": "execute_result"
    }
   ],
   "source": [
    "val sevenClubs: Int = 7\n",
    "val kingDiamonds: Int = 10\n",
    "val fourSpades: Int = 4"
   ]
  },
  {
   "cell_type": "code",
   "execution_count": 19,
   "metadata": {},
   "outputs": [
    {
     "name": "stdout",
     "output_type": "stream",
     "text": [
      "Twenty-One!\n"
     ]
    },
    {
     "data": {
      "text/plain": [
       "\u001b[36mhand\u001b[39m: \u001b[32mInt\u001b[39m = \u001b[32m21\u001b[39m"
      ]
     },
     "execution_count": 19,
     "metadata": {},
     "output_type": "execute_result"
    }
   ],
   "source": [
    "// Point value of a player's hand\n",
    "val hand = sevenClubs + kingDiamonds + fourSpades\n",
    "\n",
    "// Congratulate the player if they have reached 21\n",
    "if (hand == 21) {\n",
    "  println(\"Twenty-One!\")\n",
    "}"
   ]
  },
  {
   "cell_type": "markdown",
   "metadata": {},
   "source": [
    "#### if-else expression"
   ]
  },
  {
   "cell_type": "code",
   "execution_count": 20,
   "metadata": {},
   "outputs": [
    {
     "name": "stdout",
     "output_type": "stream",
     "text": [
      "Twenty-One! :)"
     ]
    },
    {
     "data": {
      "text/plain": [
       "\u001b[36mhand\u001b[39m: \u001b[32mInt\u001b[39m = \u001b[32m21\u001b[39m\n",
       "\u001b[36minformPlayer\u001b[39m: \u001b[32mString\u001b[39m = \u001b[32m\"Twenty-One! :)\"\u001b[39m"
      ]
     },
     "execution_count": 20,
     "metadata": {},
     "output_type": "execute_result"
    }
   ],
   "source": [
    "// Point value of a player's hand\n",
    "val hand = sevenClubs + kingDiamonds + fourSpades\n",
    "\n",
    "// Inform a player where their current hand stands\n",
    "val informPlayer: String = {\n",
    "  if (hand > 21)\n",
    "    \"Bust! :(\"\n",
    "  else if (hand == 21) \n",
    "    \"Twenty-One! :)\"\n",
    "  else\n",
    "    \"Hit or stay?\"\n",
    "}\n",
    "\n",
    "// Print the message\n",
    "print(informPlayer)"
   ]
  },
  {
   "cell_type": "markdown",
   "metadata": {},
   "source": [
    "#### if-else expression embedded w/ function"
   ]
  },
  {
   "cell_type": "code",
   "execution_count": 21,
   "metadata": {},
   "outputs": [
    {
     "data": {
      "text/plain": [
       "\u001b[36mtenSpades\u001b[39m: \u001b[32mInt\u001b[39m = \u001b[32m10\u001b[39m\n",
       "\u001b[36mfiveClubs\u001b[39m: \u001b[32mInt\u001b[39m = \u001b[32m5\u001b[39m"
      ]
     },
     "execution_count": 21,
     "metadata": {},
     "output_type": "execute_result"
    }
   ],
   "source": [
    "val tenSpades: Int = 10\n",
    "val fiveClubs: Int = 5"
   ]
  },
  {
   "cell_type": "code",
   "execution_count": 22,
   "metadata": {},
   "outputs": [
    {
     "data": {
      "text/plain": [
       "defined \u001b[32mfunction\u001b[39m \u001b[36mbust\u001b[39m"
      ]
     },
     "execution_count": 22,
     "metadata": {},
     "output_type": "execute_result"
    }
   ],
   "source": [
    "// Define a function to determine if hand busts\n",
    "def bust(hand: Int) = {\n",
    "    hand > 21\n",
    "}"
   ]
  },
  {
   "cell_type": "code",
   "execution_count": 23,
   "metadata": {},
   "outputs": [
    {
     "name": "stdout",
     "output_type": "stream",
     "text": [
      "6\n"
     ]
    },
    {
     "data": {
      "text/plain": [
       "defined \u001b[32mfunction\u001b[39m \u001b[36mpointsToBust\u001b[39m\n",
       "\u001b[36mmyHandPointsToBust\u001b[39m: \u001b[32mInt\u001b[39m = \u001b[32m6\u001b[39m"
      ]
     },
     "execution_count": 23,
     "metadata": {},
     "output_type": "execute_result"
    }
   ],
   "source": [
    "// Find the number of points that will cause a bust\n",
    "def pointsToBust(hand: Int): Int = {\n",
    "  // If the hand is a bust, 0 points remain\n",
    "  if (bust(hand))\n",
    "    0\n",
    "  // Otherwise, calculate the difference between 21 and the current hand\n",
    "  else\n",
    "    21 - hand\n",
    "}\n",
    "\n",
    "// Test pointsToBust with 10♠ and 5♣\n",
    "val myHandPointsToBust = pointsToBust(tenSpades + fiveClubs)\n",
    "println(myHandPointsToBust)"
   ]
  },
  {
   "cell_type": "markdown",
   "metadata": {},
   "source": [
    "#### while loop [imperative programming style]"
   ]
  },
  {
   "cell_type": "code",
   "execution_count": 24,
   "metadata": {},
   "outputs": [
    {
     "name": "stdout",
     "output_type": "stream",
     "text": [
      "winner\n",
      "winner\n",
      "chicken dinner\n"
     ]
    },
    {
     "data": {
      "text/plain": [
       "\u001b[36mi\u001b[39m: \u001b[32mInt\u001b[39m = \u001b[32m3\u001b[39m\n",
       "\u001b[36mnumRepetitions\u001b[39m: \u001b[32mInt\u001b[39m = \u001b[32m3\u001b[39m"
      ]
     },
     "execution_count": 24,
     "metadata": {},
     "output_type": "execute_result"
    }
   ],
   "source": [
    "// Define counter variable\n",
    "var i = 0\n",
    "\n",
    "// Define the number of loop iterations\n",
    "val numRepetitions = 3\n",
    "\n",
    "// Loop to print a message for winner of the round\n",
    "while (i < numRepetitions) {\n",
    "  if (i < 2)\n",
    "    println(\"winner\")\n",
    "  else\n",
    "    println(\"chicken dinner\")\n",
    "  // Increment the counter variable\n",
    "  i = i + 1\n",
    "}"
   ]
  },
  {
   "cell_type": "code",
   "execution_count": 25,
   "metadata": {},
   "outputs": [
    {
     "name": "stdout",
     "output_type": "stream",
     "text": [
      "5\n",
      "0\n",
      "13\n",
      "0\n",
      "17\n"
     ]
    },
    {
     "data": {
      "text/plain": [
       "\u001b[36mi\u001b[39m: \u001b[32mInt\u001b[39m = \u001b[32m5\u001b[39m\n",
       "\u001b[36mhands\u001b[39m: \u001b[32mList\u001b[39m[\u001b[32mInt\u001b[39m] = \u001b[33mList\u001b[39m(\u001b[32m16\u001b[39m, \u001b[32m21\u001b[39m, \u001b[32m8\u001b[39m, \u001b[32m25\u001b[39m, \u001b[32m4\u001b[39m)"
      ]
     },
     "execution_count": 25,
     "metadata": {},
     "output_type": "execute_result"
    }
   ],
   "source": [
    "// Define counter variable\n",
    "var i = 0\n",
    "\n",
    "// Create list with five hands of Twenty-One\n",
    "var hands = List(16, 21, 8, 25, 4)\n",
    "\n",
    "// Loop through hands\n",
    "while (i < hands.length) {\n",
    "  // Find and print number of points to bust\n",
    "  println(pointsToBust(hands(i)))\n",
    "  // Increment the counter variable\n",
    "  i += 1\n",
    "}"
   ]
  },
  {
   "cell_type": "markdown",
   "metadata": {},
   "source": [
    "#### foreach loop [functional programming style]"
   ]
  },
  {
   "cell_type": "code",
   "execution_count": 26,
   "metadata": {},
   "outputs": [
    {
     "name": "stdout",
     "output_type": "stream",
     "text": [
      "5\n",
      "0\n",
      "13\n",
      "0\n",
      "17\n"
     ]
    },
    {
     "data": {
      "text/plain": [
       "defined \u001b[32mfunction\u001b[39m \u001b[36mpointsToBust\u001b[39m\n",
       "\u001b[36mhands\u001b[39m: \u001b[32mList\u001b[39m[\u001b[32mInt\u001b[39m] = \u001b[33mList\u001b[39m(\u001b[32m16\u001b[39m, \u001b[32m21\u001b[39m, \u001b[32m8\u001b[39m, \u001b[32m25\u001b[39m, \u001b[32m4\u001b[39m)"
      ]
     },
     "execution_count": 26,
     "metadata": {},
     "output_type": "execute_result"
    }
   ],
   "source": [
    "// Find the number of points that will cause a bust\n",
    "def pointsToBust(hand: Int) = {\n",
    "  // If the hand is a bust, 0 points remain\n",
    "  if (bust(hand))\n",
    "    println(0)\n",
    "  // Otherwise, calculate the difference between 21 and the current hand\n",
    "  else\n",
    "    println(21 - hand)\n",
    "}\n",
    "\n",
    "// Create list with five hands of Twenty-One\n",
    "var hands = List(16, 21, 8, 25, 4)\n",
    "\n",
    "// Loop through hands, finding each hand's number of points to bust\n",
    "hands.foreach(pointsToBust)"
   ]
  },
  {
   "cell_type": "markdown",
   "metadata": {},
   "source": [
    "### grp"
   ]
  }
 ],
 "metadata": {
  "kernelspec": {
   "display_name": "Scala",
   "language": "scala",
   "name": "scala"
  },
  "language_info": {
   "codemirror_mode": "text/x-scala",
   "file_extension": ".scala",
   "mimetype": "text/x-scala",
   "name": "scala211",
   "nbconvert_exporter": "script",
   "pygments_lexer": "scala",
   "version": "2.11.11"
  }
 },
 "nbformat": 4,
 "nbformat_minor": 2
}
