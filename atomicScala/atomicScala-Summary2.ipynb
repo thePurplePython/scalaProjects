{
 "cells": [
  {
   "cell_type": "markdown",
   "metadata": {},
   "source": [
    "#### grp"
   ]
  },
  {
   "cell_type": "markdown",
   "metadata": {},
   "source": [
    "# Atomic Scala Atoms & Exercises (up to Summary 2)"
   ]
  },
  {
   "cell_type": "markdown",
   "metadata": {},
   "source": [
    "https://www.scala-lang.org/"
   ]
  },
  {
   "cell_type": "code",
   "execution_count": 25,
   "metadata": {},
   "outputs": [
    {
     "data": {
      "text/plain": [
       "\u001b[36mres24\u001b[39m: \u001b[32mString\u001b[39m = \u001b[32m\"version 2.11.11\"\u001b[39m"
      ]
     },
     "execution_count": 25,
     "metadata": {},
     "output_type": "execute_result"
    }
   ],
   "source": [
    "util.Properties.versionString"
   ]
  },
  {
   "cell_type": "markdown",
   "metadata": {},
   "source": [
    "## 1. Methods:\n",
    "- mini-program package"
   ]
  },
  {
   "cell_type": "markdown",
   "metadata": {},
   "source": [
    "### def"
   ]
  },
  {
   "cell_type": "code",
   "execution_count": 2,
   "metadata": {},
   "outputs": [
    {
     "name": "stdout",
     "output_type": "stream",
     "text": [
      "Inside multiplyByTwo\n",
      "10\n"
     ]
    },
    {
     "data": {
      "text/plain": [
       "defined \u001b[32mfunction\u001b[39m \u001b[36mmultiplyByTwo\u001b[39m\n",
       "\u001b[36mr\u001b[39m: \u001b[32mInt\u001b[39m = \u001b[32m10\u001b[39m"
      ]
     },
     "execution_count": 2,
     "metadata": {},
     "output_type": "execute_result"
    }
   ],
   "source": [
    "def multiplyByTwo(x:Int):Int = {\n",
    "    println(\"Inside multiplyByTwo\")\n",
    "    x * 2 // Return value\n",
    "}\n",
    "\n",
    "val r = multiplyByTwo(5)\n",
    "println(r)"
   ]
  },
  {
   "cell_type": "code",
   "execution_count": 10,
   "metadata": {},
   "outputs": [
    {
     "name": "stdout",
     "output_type": "stream",
     "text": [
      "Inside addMultiply\n",
      "33.6\n",
      "Inside addMultiply\n",
      "result: 33.6\n"
     ]
    },
    {
     "data": {
      "text/plain": [
       "defined \u001b[32mfunction\u001b[39m \u001b[36maddMultiply\u001b[39m\n",
       "\u001b[36mr2\u001b[39m: \u001b[32mDouble\u001b[39m = \u001b[32m33.6\u001b[39m\n",
       "defined \u001b[32mfunction\u001b[39m \u001b[36mtest\u001b[39m"
      ]
     },
     "execution_count": 10,
     "metadata": {},
     "output_type": "execute_result"
    }
   ],
   "source": [
    "def addMultiply(x:Int,\n",
    "  y:Double, s:String):Double = {\n",
    "  println(s)\n",
    "  (x + y) * 2.1\n",
    "}\n",
    "\n",
    "val r2:Double = addMultiply(7, 9, \"Inside addMultiply\")\n",
    "println(r2)\n",
    "\n",
    "def test(x:Int, y:Double,\n",
    "  s:String, expected:Double):Unit = {\n",
    "  val result = addMultiply(x, y, s)\n",
    "  assert(result == expected,\n",
    "    \"Expected \" + expected + \n",
    "    \" Got \" + result)\n",
    "  println(\"result: \" + result)\n",
    "}\n",
    "\n",
    "test(7, 9, \"Inside addMultiply\", 33.6)"
   ]
  },
  {
   "cell_type": "code",
   "execution_count": 12,
   "metadata": {},
   "outputs": [
    {
     "name": "stdout",
     "output_type": "stream",
     "text": [
      "Inside addMultiply\n"
     ]
    },
    {
     "ename": "",
     "evalue": "",
     "output_type": "error",
     "traceback": [
      "\u001b[31mjava.lang.AssertionError: assertion failed: Expected 33.6 Got 35.7\u001b[39m",
      "  scala.Predef$.assert(\u001b[32mPredef.scala\u001b[39m:\u001b[32m170\u001b[39m)",
      "  $sess.cmd9Wrapper$Helper.test(\u001b[32mcmd9.sc\u001b[39m:\u001b[32m13\u001b[39m)",
      "  $sess.cmd11Wrapper$Helper.<init>(\u001b[32mcmd11.sc\u001b[39m:\u001b[32m1\u001b[39m)",
      "  $sess.cmd11Wrapper.<init>(\u001b[32mcmd11.sc\u001b[39m:\u001b[32m149\u001b[39m)",
      "  $sess.cmd11$.<init>(\u001b[32mcmd11.sc\u001b[39m:\u001b[32m97\u001b[39m)",
      "  $sess.cmd11$.<clinit>(\u001b[32mcmd11.sc\u001b[39m:\u001b[32m-1\u001b[39m)"
     ]
    }
   ],
   "source": [
    "test(7, 10, \"Inside addMultiply\", 33.6)"
   ]
  },
  {
   "cell_type": "markdown",
   "metadata": {},
   "source": [
    "#### exercises"
   ]
  },
  {
   "cell_type": "code",
   "execution_count": 21,
   "metadata": {},
   "outputs": [
    {
     "name": "stdout",
     "output_type": "stream",
     "text": [
      "9\n",
      "36\n",
      "25\n",
      "1.44\n",
      "32.49\n",
      "false\n",
      "true\n",
      "abracadabra\n",
      "zyxwvut\n",
      "abcdef\n",
      "zyxabc\n",
      "abcabcabc\n",
      "123123\n",
      "Normal weight\n",
      "Overweight\n",
      "Underweight\n"
     ]
    },
    {
     "data": {
      "text/plain": [
       "defined \u001b[32mfunction\u001b[39m \u001b[36mgetSquare\u001b[39m\n",
       "\u001b[36ma\u001b[39m: \u001b[32mInt\u001b[39m = \u001b[32m9\u001b[39m\n",
       "\u001b[36mb\u001b[39m: \u001b[32mInt\u001b[39m = \u001b[32m36\u001b[39m\n",
       "\u001b[36mc\u001b[39m: \u001b[32mInt\u001b[39m = \u001b[32m25\u001b[39m\n",
       "defined \u001b[32mfunction\u001b[39m \u001b[36mgetSquareDouble\u001b[39m\n",
       "\u001b[36msd1\u001b[39m: \u001b[32mDouble\u001b[39m = \u001b[32m1.44\u001b[39m\n",
       "\u001b[36msd2\u001b[39m: \u001b[32mDouble\u001b[39m = \u001b[32m32.49\u001b[39m\n",
       "defined \u001b[32mfunction\u001b[39m \u001b[36misArg1GreaterThanArg2\u001b[39m\n",
       "\u001b[36mt1\u001b[39m: \u001b[32mBoolean\u001b[39m = \u001b[32mfalse\u001b[39m\n",
       "\u001b[36mt2\u001b[39m: \u001b[32mBoolean\u001b[39m = \u001b[32mtrue\u001b[39m\n",
       "defined \u001b[32mfunction\u001b[39m \u001b[36mgetMe\u001b[39m\n",
       "\u001b[36mg1\u001b[39m: \u001b[32mString\u001b[39m = \u001b[32m\"abracadabra\"\u001b[39m\n",
       "\u001b[36mg2\u001b[39m: \u001b[32mString\u001b[39m = \u001b[32m\"zyxwvut\"\u001b[39m\n",
       "defined \u001b[32mfunction\u001b[39m \u001b[36maddStrings\u001b[39m\n",
       "\u001b[36ms1\u001b[39m: \u001b[32mString\u001b[39m = \u001b[32m\"abcdef\"\u001b[39m\n",
       "\u001b[36ms2\u001b[39m: \u001b[32mString\u001b[39m = \u001b[32m\"zyxabc\"\u001b[39m\n",
       "defined \u001b[32mfunction\u001b[39m \u001b[36mmanyTimesString\u001b[39m\n",
       "\u001b[36mm1\u001b[39m: \u001b[32mString\u001b[39m = \u001b[32m\"abcabcabc\"\u001b[39m\n",
       "\u001b[36mm2\u001b[39m: \u001b[32mString\u001b[39m = \u001b[32m\"123123\"\u001b[39m\n",
       "defined \u001b[32mfunction\u001b[39m \u001b[36mbmiStatus\u001b[39m\n",
       "\u001b[36mnormal\u001b[39m: \u001b[32mString\u001b[39m = \u001b[32m\"Normal weight\"\u001b[39m\n",
       "\u001b[36moverweight\u001b[39m: \u001b[32mString\u001b[39m = \u001b[32m\"Overweight\"\u001b[39m\n",
       "\u001b[36munderweight\u001b[39m: \u001b[32mString\u001b[39m = \u001b[32m\"Underweight\"\u001b[39m"
      ]
     },
     "execution_count": 21,
     "metadata": {},
     "output_type": "execute_result"
    }
   ],
   "source": [
    "// 1\n",
    "def getSquare(num:Int):Int = {\n",
    "  num * num\n",
    "}\n",
    "\n",
    "val a = getSquare(3)\n",
    "println(a)\n",
    "assert(a == 9, \"Expected 9, Got \" + a)\n",
    "val b = getSquare(6)\n",
    "println(b)\n",
    "assert(b == 36, \"Expected 36, Got \" + b)\n",
    "val c = getSquare(5)\n",
    "println(c)\n",
    "assert(c == 25, \"Expected 25, Got \" + c)\n",
    "\n",
    "// 2\n",
    "def getSquareDouble(num:Double):Double = {\n",
    "  num * num\n",
    "}\n",
    "\n",
    "val sd1 = getSquareDouble(1.2)\n",
    "println(sd1)\n",
    "assert(1.44 == sd1, \"Expected 1.44, Got \" + sd1)\n",
    "val sd2 = getSquareDouble(5.7)\n",
    "println(sd2)\n",
    "assert(32.49 == sd2, \"Expected 32.49, Got \" + sd2)\n",
    "\n",
    "// 3\n",
    "def isArg1GreaterThanArg2(num1:Double, num2:Double):Boolean = {\n",
    "  num1 > num2\n",
    "}\n",
    "\n",
    "val t1 = isArg1GreaterThanArg2(4.1, 4.12)\n",
    "println(t1)\n",
    "assert(false == t1, \"Expected false, Got \" + t1)\n",
    "val t2 = isArg1GreaterThanArg2(2.1, 1.2)\n",
    "println(t2)\n",
    "assert(true == t2, \"Expected true, Got \" + t2)\n",
    "\n",
    "// 4\n",
    "def getMe(str:String):String = {\n",
    "  str.toLowerCase\n",
    "}\n",
    "\n",
    "val g1 = getMe(\"abraCaDabra\")\n",
    "println(g1)\n",
    "assert(\"abracadabra\" == g1, \"Expected abracadabra, Got \" + g1)\n",
    "val g2 = getMe(\"zyxwVUT\")\n",
    "println(g2)\n",
    "assert(\"zyxwvut\"== g2, \"Expected zyxwvut, Got \" + g2)\n",
    "\n",
    "// 5\n",
    "def addStrings(str1:String, str2:String):String = {\n",
    "  str1 + str2\n",
    "}\n",
    "\n",
    "val s1 = addStrings(\"abc\", \"def\")\n",
    "println(s1)\n",
    "assert(\"abcdef\" == s1, \"Expected abcdef, Got \" + s1)\n",
    "val s2 = addStrings(\"zyx\", \"abc\")\n",
    "println(s2)\n",
    "assert(\"zyxabc\" == s2, \"Expected zyxabc, Got \" + s2)\n",
    "\n",
    "// 6\n",
    "def manyTimesString(str:String, num:Int):String = {\n",
    "  str * num\n",
    "}\n",
    "\n",
    "val m1 = manyTimesString(\"abc\", 3)\n",
    "println(m1)\n",
    "assert(\"abcabcabc\" == m1, \"Expected abcabcabc, Got \" + m1)\n",
    "val m2 = manyTimesString(\"123\", 2)\n",
    "println(m2)\n",
    "assert(\"123123\" == m2, \"Expected 123123, Got \" + m2)\n",
    "\n",
    "// 7\n",
    "def bmiStatus(lbs:Double, height:Double):String = {\n",
    "  val bmi = lbs / (height*height) * 703.07\n",
    "  if(bmi < 18.5) \"Underweight\"\n",
    "  else if(bmi < 25) \"Normal weight\"\n",
    "  else \"Overweight\"\n",
    "}\n",
    "\n",
    "val normal = bmiStatus(160, 68)\n",
    "println(normal)\n",
    "assert(\"Normal weight\" == normal,\n",
    "  \"Expected Normal weight, Got \" + normal)\n",
    "val overweight = bmiStatus(180, 60)\n",
    "println(overweight)\n",
    "assert(\"Overweight\" == overweight,\n",
    "  \"Expected Overweight, Got \" + overweight)\n",
    "val underweight = bmiStatus(100, 68)\n",
    "println(underweight)\n",
    "assert(\"Underweight\" == underweight,\n",
    "  \"Expected Underweight, Got \" + underweight)"
   ]
  },
  {
   "cell_type": "markdown",
   "metadata": {},
   "source": [
    "## 2. Classes & Objects:\n",
    "\n",
    "\"In an **object-oriented** (OO) programming language, you think about “nouns” in the problem you’re solving, and translate those nouns to objects, which hold data and perform actions. An object- oriented language is oriented towards creating and using objects.\"\n",
    "\n",
    "\"In a **functional** language, you think about “verbs,” the actions that you want to perform, and you typically describe these as mathematical equations.\"\n",
    "\n",
    "\"Objects contain **vals** and **vars** to store data (these are called *fields*) and perform **operations** using *Methods*. A *class* defines fields and methods for what is essentially a new, user-defined data type. Making a **val** or **var** of a class is called *creating an object or creating an instance*. We even refer to instances of built-in types like **Double** or **String** as objects.\""
   ]
  },
  {
   "cell_type": "markdown",
   "metadata": {},
   "source": [
    "#### exercises"
   ]
  },
  {
   "cell_type": "code",
   "execution_count": 5,
   "metadata": {},
   "outputs": [
    {
     "name": "stdout",
     "output_type": "stream",
     "text": [
      "1\n",
      "2\n",
      "4\n",
      "This\n",
      "is\n",
      "an\n",
      "experiment\n",
      "s1 and s2 are equal\n",
      "s1: Sally\n",
      "s2: Sally\n",
      "s3 and s4 are not equal\n",
      "s3: Sally\n",
      "s4: Sam\n",
      "s5 and s6 are not equal\n",
      "s5: Sally\n",
      "s6: SALLY\n"
     ]
    },
    {
     "data": {
      "text/plain": [
       "\u001b[36mr1\u001b[39m: \u001b[32mRange\u001b[39m = \u001b[33mRange\u001b[39m(\u001b[32m0\u001b[39m, \u001b[32m1\u001b[39m, \u001b[32m2\u001b[39m, \u001b[32m3\u001b[39m, \u001b[32m4\u001b[39m, \u001b[32m5\u001b[39m, \u001b[32m6\u001b[39m, \u001b[32m7\u001b[39m, \u001b[32m8\u001b[39m, \u001b[32m9\u001b[39m)\n",
       "\u001b[36mr2\u001b[39m: \u001b[32mRange\u001b[39m = \u001b[33mRange\u001b[39m(\u001b[32m0\u001b[39m, \u001b[32m2\u001b[39m, \u001b[32m4\u001b[39m, \u001b[32m6\u001b[39m, \u001b[32m8\u001b[39m)\n",
       "\u001b[36mr3\u001b[39m: \u001b[32mRange\u001b[39m = \u001b[33mRange\u001b[39m(\u001b[32m0\u001b[39m, \u001b[32m4\u001b[39m, \u001b[32m8\u001b[39m)\n",
       "\u001b[36ms\u001b[39m: \u001b[32mString\u001b[39m = \u001b[32m\"This is an experiment\"\u001b[39m\n",
       "\u001b[36mafterSplit\u001b[39m: \u001b[32mArray\u001b[39m[\u001b[32mString\u001b[39m] = \u001b[33mArray\u001b[39m(\u001b[32m\"This\"\u001b[39m, \u001b[32m\"is\"\u001b[39m, \u001b[32m\"an\"\u001b[39m, \u001b[32m\"experiment\"\u001b[39m)\n",
       "\u001b[36ms1\u001b[39m: \u001b[32mString\u001b[39m = \u001b[32m\"Sally\"\u001b[39m\n",
       "\u001b[36ms2\u001b[39m: \u001b[32mString\u001b[39m = \u001b[32m\"Sally\"\u001b[39m\n",
       "\u001b[36ms3\u001b[39m: \u001b[32mString\u001b[39m = \u001b[32m\"Sally\"\u001b[39m\n",
       "\u001b[36ms4\u001b[39m: \u001b[32mString\u001b[39m = \u001b[32m\"Sam\"\u001b[39m\n",
       "\u001b[36ms5\u001b[39m: \u001b[32mString\u001b[39m = \u001b[32m\"Sally\"\u001b[39m\n",
       "\u001b[36ms6\u001b[39m: \u001b[32mString\u001b[39m = \u001b[32m\"SALLY\"\u001b[39m"
      ]
     },
     "execution_count": 5,
     "metadata": {},
     "output_type": "execute_result"
    }
   ],
   "source": [
    "// 1\n",
    "val r1 = Range(0, 10)\n",
    "println(r1.step)\n",
    "\n",
    "val r2 = Range(0, 10, 2)\n",
    "println(r2.step)\n",
    "\n",
    "// BONUS\n",
    "val r3 = r1.by(4)\n",
    "println(r3.step)\n",
    "\n",
    "// 2\n",
    "val s = \"This is an experiment\"\n",
    "val afterSplit = s.split(\" \")\n",
    "\n",
    "println(afterSplit(0))\n",
    "println(afterSplit(1))\n",
    "println(afterSplit(2))\n",
    "println(afterSplit(3))\n",
    "\n",
    "// 3\n",
    "val s1 = \"Sally\"\n",
    "val s2 = \"Sally\"\n",
    "\n",
    "if(s1.equals(s2)) {\n",
    "  println(\"s1 and s2 are equal\")\n",
    "} else {\n",
    "  println(\"s1 and s2 are not equal\")\n",
    "}\n",
    "println(\"s1: \" + s1)\n",
    "println(\"s2: \" + s2)\n",
    "\n",
    "// 4\n",
    "val s3 = \"Sally\"\n",
    "val s4 = \"Sam\"\n",
    "\n",
    "if(s3.equals(s4)) {\n",
    "  println(\"s3 and s4 are equal\")\n",
    "} else {\n",
    "  println(\"s3 and s4 are not equal\")\n",
    "}\n",
    "println(\"s3: \" + s3)\n",
    "println(\"s4: \" + s4)\n",
    "\n",
    "// 5\n",
    "val s5 = \"Sally\"\n",
    "val s6 = s5.toUpperCase\n",
    "\n",
    "if(s6.contentEquals(s5)) {\n",
    "  println(\"s5 and s6 are equal\")\n",
    "} else {\n",
    "  println(\"s5 and s6 are not equal\")\n",
    "}\n",
    "println(\"s5: \" + s5)\n",
    "println(\"s6: \" + s6)"
   ]
  },
  {
   "cell_type": "markdown",
   "metadata": {},
   "source": [
    "## 3. ScalaDoc:\n",
    "- https://www.scala-lang.org/api/current/index.html\n",
    "- https://docs.scala-lang.org/api/all.html\n",
    "- https://docs.scala-lang.org/cheatsheets/index.html\n",
    "- https://docs.scala-lang.org/tutorials.html\n",
    "- https://docs.scala-lang.org/overviews/scala-book/introduction.html"
   ]
  },
  {
   "cell_type": "markdown",
   "metadata": {},
   "source": [
    "## 4. Creating Classes:"
   ]
  },
  {
   "cell_type": "markdown",
   "metadata": {},
   "source": [
    "### class"
   ]
  },
  {
   "cell_type": "code",
   "execution_count": 7,
   "metadata": {},
   "outputs": [
    {
     "name": "stdout",
     "output_type": "stream",
     "text": [
      "$sess.cmd6Wrapper$Helper$Giraffe@12848de7\n",
      "$sess.cmd6Wrapper$Helper$Giraffe@32dcb84a\n",
      "$sess.cmd6Wrapper$Helper$Hippo@11a22027\n",
      "$sess.cmd6Wrapper$Helper$Bear@7015faa7\n"
     ]
    },
    {
     "data": {
      "text/plain": [
       "defined \u001b[32mclass\u001b[39m \u001b[36mGiraffe\u001b[39m\n",
       "defined \u001b[32mclass\u001b[39m \u001b[36mBear\u001b[39m\n",
       "defined \u001b[32mclass\u001b[39m \u001b[36mHippo\u001b[39m\n",
       "\u001b[36mg1\u001b[39m: \u001b[32mwrapper\u001b[39m.\u001b[32mwrapper\u001b[39m.\u001b[32mGiraffe\u001b[39m = $sess.cmd6Wrapper$Helper$Giraffe@12848de7\n",
       "\u001b[36mg2\u001b[39m: \u001b[32mwrapper\u001b[39m.\u001b[32mwrapper\u001b[39m.\u001b[32mGiraffe\u001b[39m = $sess.cmd6Wrapper$Helper$Giraffe@32dcb84a\n",
       "\u001b[36mb\u001b[39m: \u001b[32mwrapper\u001b[39m.\u001b[32mwrapper\u001b[39m.\u001b[32mBear\u001b[39m = $sess.cmd6Wrapper$Helper$Bear@7015faa7\n",
       "\u001b[36mh\u001b[39m: \u001b[32mwrapper\u001b[39m.\u001b[32mwrapper\u001b[39m.\u001b[32mHippo\u001b[39m = $sess.cmd6Wrapper$Helper$Hippo@11a22027"
      ]
     },
     "execution_count": 7,
     "metadata": {},
     "output_type": "execute_result"
    }
   ],
   "source": [
    "class Giraffe\n",
    "class Bear\n",
    "class Hippo\n",
    "\n",
    "val g1 = new Giraffe\n",
    "val g2 = new Giraffe\n",
    "val b = new Bear\n",
    "val h = new Hippo\n",
    "\n",
    "println(g1)\n",
    "println(g2)\n",
    "println(h)\n",
    "println(b)"
   ]
  },
  {
   "cell_type": "code",
   "execution_count": 8,
   "metadata": {},
   "outputs": [
    {
     "name": "stdout",
     "output_type": "stream",
     "text": [
      "This is in the class body\n"
     ]
    },
    {
     "data": {
      "text/plain": [
       "defined \u001b[32mclass\u001b[39m \u001b[36mHyena\u001b[39m\n",
       "\u001b[36mhyena\u001b[39m: \u001b[32mHyena\u001b[39m = $sess.cmd7Wrapper$Helper$Hyena@3429b41b"
      ]
     },
     "execution_count": 8,
     "metadata": {},
     "output_type": "execute_result"
    }
   ],
   "source": [
    "class Hyena {\n",
    "    println(\"This is in the class body\")\n",
    "}\n",
    "val hyena = new Hyena"
   ]
  },
  {
   "cell_type": "markdown",
   "metadata": {},
   "source": [
    "#### exercises"
   ]
  },
  {
   "cell_type": "code",
   "execution_count": 11,
   "metadata": {},
   "outputs": [
    {
     "name": "stdout",
     "output_type": "stream",
     "text": [
      "$sess.cmd10Wrapper$Helper$Hippo@45e453c6\n",
      "$sess.cmd10Wrapper$Helper$Lion@6a36bbb3\n",
      "$sess.cmd10Wrapper$Helper$Tiger@66eb3307\n",
      "$sess.cmd10Wrapper$Helper$Monkey@735c4e78\n",
      "$sess.cmd10Wrapper$Helper$Giraffe@144159b6\n",
      "$sess.cmd10Wrapper$Helper$Lion@4bf593ae\n",
      "$sess.cmd10Wrapper$Helper$Giraffe@7439e2dc\n",
      "$sess.cmd10Wrapper$Helper$Giraffe@65875dad\n",
      "I have stripes!\n"
     ]
    },
    {
     "data": {
      "text/plain": [
       "defined \u001b[32mclass\u001b[39m \u001b[36mHippo\u001b[39m\n",
       "defined \u001b[32mclass\u001b[39m \u001b[36mLion\u001b[39m\n",
       "defined \u001b[32mclass\u001b[39m \u001b[36mTiger\u001b[39m\n",
       "defined \u001b[32mclass\u001b[39m \u001b[36mMonkey\u001b[39m\n",
       "defined \u001b[32mclass\u001b[39m \u001b[36mGiraffe\u001b[39m\n",
       "\u001b[36mhippo\u001b[39m: \u001b[32mwrapper\u001b[39m.\u001b[32mwrapper\u001b[39m.\u001b[32mHippo\u001b[39m = $sess.cmd10Wrapper$Helper$Hippo@45e453c6\n",
       "\u001b[36mlion\u001b[39m: \u001b[32mwrapper\u001b[39m.\u001b[32mwrapper\u001b[39m.\u001b[32mLion\u001b[39m = $sess.cmd10Wrapper$Helper$Lion@6a36bbb3\n",
       "\u001b[36mtiger\u001b[39m: \u001b[32mwrapper\u001b[39m.\u001b[32mwrapper\u001b[39m.\u001b[32mTiger\u001b[39m = $sess.cmd10Wrapper$Helper$Tiger@66eb3307\n",
       "\u001b[36mmonkey\u001b[39m: \u001b[32mwrapper\u001b[39m.\u001b[32mwrapper\u001b[39m.\u001b[32mMonkey\u001b[39m = $sess.cmd10Wrapper$Helper$Monkey@735c4e78\n",
       "\u001b[36mgiraffe\u001b[39m: \u001b[32mwrapper\u001b[39m.\u001b[32mwrapper\u001b[39m.\u001b[32mGiraffe\u001b[39m = $sess.cmd10Wrapper$Helper$Giraffe@144159b6\n",
       "\u001b[36mlion2\u001b[39m: \u001b[32mwrapper\u001b[39m.\u001b[32mwrapper\u001b[39m.\u001b[32mLion\u001b[39m = $sess.cmd10Wrapper$Helper$Lion@4bf593ae\n",
       "\u001b[36mgiraffe2\u001b[39m: \u001b[32mwrapper\u001b[39m.\u001b[32mwrapper\u001b[39m.\u001b[32mGiraffe\u001b[39m = $sess.cmd10Wrapper$Helper$Giraffe@7439e2dc\n",
       "\u001b[36mgiraffe3\u001b[39m: \u001b[32mwrapper\u001b[39m.\u001b[32mwrapper\u001b[39m.\u001b[32mGiraffe\u001b[39m = $sess.cmd10Wrapper$Helper$Giraffe@65875dad\n",
       "defined \u001b[32mclass\u001b[39m \u001b[36mZebra\u001b[39m\n",
       "\u001b[36mz\u001b[39m: \u001b[32mwrapper\u001b[39m.\u001b[32mwrapper\u001b[39m.\u001b[32mZebra\u001b[39m = $sess.cmd10Wrapper$Helper$Zebra@5ea40cd6"
      ]
     },
     "execution_count": 11,
     "metadata": {},
     "output_type": "execute_result"
    }
   ],
   "source": [
    "// 1\n",
    "class Hippo\n",
    "class Lion\n",
    "class Tiger\n",
    "class Monkey\n",
    "class Giraffe\n",
    "\n",
    "val hippo = new Hippo\n",
    "val lion = new Lion\n",
    "val tiger = new Tiger\n",
    "val monkey = new Monkey\n",
    "val giraffe = new Giraffe\n",
    "\n",
    "println(hippo)\n",
    "println(lion)\n",
    "println(tiger)\n",
    "println(monkey)\n",
    "println(giraffe)\n",
    "\n",
    "// 2\n",
    "val lion2 = new Lion\n",
    "val giraffe2 = new Giraffe\n",
    "val giraffe3 = new Giraffe\n",
    "\n",
    "println(lion2)\n",
    "println(giraffe2)\n",
    "println(giraffe3)\n",
    "\n",
    "// 3\n",
    "class Zebra {\n",
    "  println(\"I have stripes!\")\n",
    "}\n",
    "val z = new Zebra"
   ]
  },
  {
   "cell_type": "markdown",
   "metadata": {},
   "source": [
    "## 5. Methods Inside Classes:"
   ]
  },
  {
   "cell_type": "markdown",
   "metadata": {},
   "source": [
    "#### method"
   ]
  },
  {
   "cell_type": "code",
   "execution_count": 2,
   "metadata": {},
   "outputs": [
    {
     "data": {
      "text/plain": [
       "defined \u001b[32mclass\u001b[39m \u001b[36mDog\u001b[39m"
      ]
     },
     "execution_count": 2,
     "metadata": {},
     "output_type": "execute_result"
    }
   ],
   "source": [
    "class Dog {\n",
    "    def bark():String = { \"yip!\" }\n",
    "}"
   ]
  },
  {
   "cell_type": "code",
   "execution_count": 21,
   "metadata": {},
   "outputs": [
    {
     "data": {
      "text/plain": [
       "defined \u001b[32mclass\u001b[39m \u001b[36mCat\u001b[39m\n",
       "\u001b[36mcat\u001b[39m: \u001b[32mwrapper\u001b[39m.\u001b[32mwrapper\u001b[39m.\u001b[32mCat\u001b[39m = $sess.cmd20Wrapper$Helper$Cat@2359b1be\n",
       "\u001b[36mm1\u001b[39m: \u001b[32mString\u001b[39m = \u001b[32m\"mew!\"\u001b[39m"
      ]
     },
     "execution_count": 21,
     "metadata": {},
     "output_type": "execute_result"
    }
   ],
   "source": [
    "class Cat {\n",
    "    def meow():String = { \"mew!\" }\n",
    "}\n",
    "\n",
    "val cat = new Cat\n",
    "val m1 = cat.meow()\n",
    "assert(\"mew!\" == m1, \"Expected mew!, Got \" + m1)"
   ]
  },
  {
   "cell_type": "code",
   "execution_count": 22,
   "metadata": {},
   "outputs": [
    {
     "data": {
      "text/plain": [
       "defined \u001b[32mclass\u001b[39m \u001b[36mHamster\u001b[39m\n",
       "\u001b[36mhamster\u001b[39m: \u001b[32mwrapper\u001b[39m.\u001b[32mwrapper\u001b[39m.\u001b[32mHamster\u001b[39m = $sess.cmd21Wrapper$Helper$Hamster@2b522c83\n",
       "\u001b[36me1\u001b[39m: \u001b[32mString\u001b[39m = \u001b[32m\"squeak! Running on wheel\"\u001b[39m"
      ]
     },
     "execution_count": 22,
     "metadata": {},
     "output_type": "execute_result"
    }
   ],
   "source": [
    "class Hamster {\n",
    "    def speak():String = { \"squeak!\" }\n",
    "    def exercise():String = {\n",
    "        speak() + \" Running on wheel\"\n",
    "    }\n",
    "}\n",
    "\n",
    "val hamster = new Hamster\n",
    "val e1 = hamster.exercise()\n",
    "assert(\"squeak! Running on wheel\" == e1, \"Expected squeak! Running on wheel\" + \", Got \" + e1)"
   ]
  },
  {
   "cell_type": "markdown",
   "metadata": {},
   "source": [
    "#### exercises"
   ]
  },
  {
   "cell_type": "code",
   "execution_count": 24,
   "metadata": {},
   "outputs": [
    {
     "name": "stdout",
     "output_type": "stream",
     "text": [
      "Sails raised\n",
      "Sails lowered\n",
      "Motor off\n",
      "Flare used!\n",
      "Flare used!\n",
      "Flare used!\n"
     ]
    },
    {
     "data": {
      "text/plain": [
       "defined \u001b[32mclass\u001b[39m \u001b[36mSailboat\u001b[39m\n",
       "defined \u001b[32mclass\u001b[39m \u001b[36mMotorboat\u001b[39m\n",
       "\u001b[36msailboat\u001b[39m: \u001b[32mwrapper\u001b[39m.\u001b[32mwrapper\u001b[39m.\u001b[32mSailboat\u001b[39m = $sess.cmd23Wrapper$Helper$Sailboat@337a5300\n",
       "\u001b[36mr1\u001b[39m: \u001b[32mString\u001b[39m = \u001b[32m\"Sails raised\"\u001b[39m\n",
       "\u001b[36mr2\u001b[39m: \u001b[32mString\u001b[39m = \u001b[32m\"Sails lowered\"\u001b[39m\n",
       "\u001b[36mmotorboat\u001b[39m: \u001b[32mwrapper\u001b[39m.\u001b[32mwrapper\u001b[39m.\u001b[32mMotorboat\u001b[39m = $sess.cmd23Wrapper$Helper$Motorboat@1792478e\n",
       "\u001b[36ms1\u001b[39m: \u001b[32mString\u001b[39m = \u001b[32m\"Motor on\"\u001b[39m\n",
       "\u001b[36ms2\u001b[39m: \u001b[32mString\u001b[39m = \u001b[32m\"Motor off\"\u001b[39m\n",
       "defined \u001b[32mclass\u001b[39m \u001b[36mFlare\u001b[39m\n",
       "\u001b[36mflare\u001b[39m: \u001b[32mwrapper\u001b[39m.\u001b[32mwrapper\u001b[39m.\u001b[32mFlare\u001b[39m = $sess.cmd23Wrapper$Helper$Flare@591fbb65\n",
       "\u001b[36mf1\u001b[39m: \u001b[32mString\u001b[39m = \u001b[32m\"Flare used!\"\u001b[39m\n",
       "defined \u001b[32mclass\u001b[39m \u001b[36mFlare2\u001b[39m\n",
       "defined \u001b[32mclass\u001b[39m \u001b[36mSailboat2\u001b[39m\n",
       "defined \u001b[32mclass\u001b[39m \u001b[36mMotorboat2\u001b[39m\n",
       "\u001b[36msailboat2\u001b[39m: \u001b[32mSailboat2\u001b[39m = $sess.cmd23Wrapper$Helper$Sailboat2@36adc166\n",
       "\u001b[36msignal\u001b[39m: \u001b[32mString\u001b[39m = \u001b[32m\"Flare used!\"\u001b[39m\n",
       "\u001b[36mmotorboat2\u001b[39m: \u001b[32mMotorboat2\u001b[39m = $sess.cmd23Wrapper$Helper$Motorboat2@572e66e0\n",
       "\u001b[36mflare2\u001b[39m: \u001b[32mString\u001b[39m = \u001b[32m\"Flare used!\"\u001b[39m"
      ]
     },
     "execution_count": 24,
     "metadata": {},
     "output_type": "execute_result"
    }
   ],
   "source": [
    "// 1\n",
    "class Sailboat {\n",
    "  def raise():String = { \"Sails raised\" }\n",
    "  def lower():String = { \"Sails lowered\" }\n",
    "}\n",
    "\n",
    "class Motorboat {\n",
    "  def start():String = { \"Motor on\" }\n",
    "  def stop():String = { \"Motor off\" }\n",
    "}\n",
    "\n",
    "val sailboat = new Sailboat\n",
    "val r1 = sailboat.raise()\n",
    "assert(r1 == \"Sails raised\", \"Expected Sails raised, Got \" + r1)\n",
    "println(r1)\n",
    "\n",
    "val r2 = sailboat.lower()\n",
    "assert(r2 == \"Sails lowered\", \"Expected Sails lowered, Got \" + r2)\n",
    "println(r2)\n",
    "\n",
    "val motorboat = new Motorboat\n",
    "val s1 = motorboat.start()\n",
    "assert(s1 == \"Motor on\", \"Expected Motor on, Got \" +  s1)\n",
    "val s2 = motorboat.stop()\n",
    "assert(s2 == \"Motor off\", \"Expected Motor off, Got \" + s2)\n",
    "println(s2)\n",
    "\n",
    "// 2\n",
    "class Flare {\n",
    "  def light():String = { \"Flare used!\"}\n",
    "}\n",
    "\n",
    "val flare = new Flare\n",
    "val f1 = flare.light\n",
    "assert(f1 == \"Flare used!\", \"Expected Flare used!, Got \" + f1)\n",
    "println(f1)\n",
    "\n",
    "// 3\n",
    "class Flare2 {\n",
    "  def light():String = { \"Flare used!\"}\n",
    "}\n",
    "\n",
    "class Sailboat2 {\n",
    "  def raise():String = { \"Sails raised\" }\n",
    "  def lower():String = { \"Sails lowered\" }\n",
    "  def signal():String = {\n",
    "    new Flare().light()\n",
    "  }\n",
    "}\n",
    "\n",
    "class Motorboat2 {\n",
    "  def start():String = { \"Motor on\" }\n",
    "  def stop():String = { \"Motor off\" }\n",
    "  def signal():String = {\n",
    "    new Flare().light()\n",
    "  }\n",
    "}\n",
    "\n",
    "val sailboat2 = new Sailboat2\n",
    "val signal = sailboat2.signal()\n",
    "assert(signal == \"Flare used!\", \"Expected Flare used! Got \" + signal)\n",
    "println(signal)\n",
    "\n",
    "val motorboat2 = new Motorboat2\n",
    "val flare2 = motorboat2.signal()\n",
    "assert(flare2 == \"Flare used!\", \"Expected Flare used!, Got \" + flare2)\n",
    "println(flare2)"
   ]
  },
  {
   "cell_type": "markdown",
   "metadata": {},
   "source": [
    "## 6. Imports & Packages:\n",
    "\"A fundamental principle in programming is the acronym DRY: **Don’t Repeat Yourself**. Duplicating code is not just extra work. You also create multiple identical pieces of code that you must change whenever you make fixes or improvements. Every duplication is a place to make another mistake.\"\n",
    "\n",
    "- A package is an associated collection of code (**import packagename.classname**)"
   ]
  },
  {
   "cell_type": "markdown",
   "metadata": {},
   "source": [
    "#### util package"
   ]
  },
  {
   "cell_type": "code",
   "execution_count": 11,
   "metadata": {},
   "outputs": [
    {
     "name": "stdout",
     "output_type": "stream",
     "text": [
      "3\n",
      "5\n",
      "4\n"
     ]
    },
    {
     "data": {
      "text/plain": [
       "\u001b[32mimport \u001b[39m\u001b[36mutil.Random\n",
       "\n",
       "\u001b[39m\n",
       "\u001b[36mr\u001b[39m: \u001b[32mRandom\u001b[39m = scala.util.Random@28f4d1cb"
      ]
     },
     "execution_count": 11,
     "metadata": {},
     "output_type": "execute_result"
    }
   ],
   "source": [
    "import util.Random\n",
    "\n",
    "val r = new Random\n",
    "println(r.nextInt(10))\n",
    "println(r.nextInt(10))\n",
    "println(r.nextInt(10))"
   ]
  },
  {
   "cell_type": "markdown",
   "metadata": {},
   "source": [
    "#### import ways"
   ]
  },
  {
   "cell_type": "code",
   "execution_count": 18,
   "metadata": {},
   "outputs": [
    {
     "data": {
      "text/plain": [
       "\u001b[32mimport \u001b[39m\u001b[36mutil.Random\n",
       "\u001b[39m\n",
       "\u001b[32mimport \u001b[39m\u001b[36mutil.Properties\n",
       "\n",
       "\u001b[39m\n",
       "\u001b[32mimport \u001b[39m\u001b[36mutil.Random, util.Properties\n",
       "\n",
       "\u001b[39m\n",
       "\u001b[32mimport \u001b[39m\u001b[36mutil.{Random, Properties}\n",
       "\n",
       "\u001b[39m\n",
       "\u001b[32mimport \u001b[39m\u001b[36mutil.{ Random => Bob, Properties => Jill }\n",
       "\n",
       "\u001b[39m\n",
       "\u001b[32mimport \u001b[39m\u001b[36mutil._ // import everything\u001b[39m"
      ]
     },
     "execution_count": 18,
     "metadata": {},
     "output_type": "execute_result"
    }
   ],
   "source": [
    "import util.Random\n",
    "import util.Properties\n",
    "\n",
    "import util.Random, util.Properties\n",
    "\n",
    "import util.{Random, Properties}\n",
    "\n",
    "import util.{ Random => Bob, Properties => Jill }\n",
    "\n",
    "import util._ // import everything"
   ]
  },
  {
   "cell_type": "markdown",
   "metadata": {},
   "source": [
    "#### create your own package"
   ]
  },
  {
   "cell_type": "code",
   "execution_count": 2,
   "metadata": {},
   "outputs": [],
   "source": [
    "/*\n",
    "package pythagorean \n",
    "\n",
    "class RightTriangle {\n",
    "    def hypotenuse(a:Double, b:Double):Double = {\n",
    "        Math.sqrt(a*a + b*b)\n",
    "    }\n",
    "    def area(a:Double, b:Double):Double = {\n",
    "        a*b/2\n",
    "    }\n",
    "}\n",
    "*/"
   ]
  },
  {
   "cell_type": "markdown",
   "metadata": {},
   "source": [
    "#### To make the package accessible to a script, we must compile the package using the scalac command at the shell prompt\n",
    "\n",
    "> scalac PythagoreanTheorem.scala"
   ]
  },
  {
   "cell_type": "code",
   "execution_count": 19,
   "metadata": {},
   "outputs": [],
   "source": [
    "/*\n",
    "import pythagorean.RightTriangle\n",
    "\n",
    "val rt = new RightTriangle\n",
    "println(rt.hypotenuse(3,4))\n",
    "println(rt.area(3,4))\n",
    "assert(rt.hypotenuse(3,4) == 5)\n",
    "assert(rt.area(3,4) == 6)\n",
    "*/"
   ]
  },
  {
   "cell_type": "markdown",
   "metadata": {},
   "source": [
    "#### execute script with ...\n",
    "> scala ImportPythagorean.scala\n",
    "\n",
    "#### if bug occurs use ...\n",
    "> scala -nocompdaemon ImportPythagorean.scala"
   ]
  },
  {
   "cell_type": "markdown",
   "metadata": {},
   "source": [
    "#### exercises"
   ]
  },
  {
   "cell_type": "code",
   "execution_count": 25,
   "metadata": {},
   "outputs": [],
   "source": [
    "// 1\n",
    "/*\n",
    "package com.atomicscala.pythagorean\n",
    "\n",
    "class RightTriangle {\n",
    "  def hypotenuse(a:Double, b:Double):Double = {\n",
    "    Math.sqrt(a*a + b*b)\n",
    "  }\n",
    "  def area(a:Double, b:Double):Double = {\n",
    "    a*b/2\n",
    "  }\n",
    "}\n",
    "\n",
    "import com.atomicscala.pythagorean.RightTriangle\n",
    "\n",
    "val rt = new RightTriangle\n",
    "println(rt.hypotenuse(3,4))\n",
    "println(rt.area(3,4))\n",
    "assert(rt.hypotenuse(3,4) == 5)\n",
    "assert(rt.area(3,4) == 6)\n",
    "*/\n",
    "\n",
    "// 2\n",
    "/*\n",
    "package com.atomicscala.pythagorean\n",
    "\n",
    "class EquilateralTriangle {\n",
    "  def area(side:Double):Double = {\n",
    "    side*side*Math.sqrt(3)/4\n",
    "  }\n",
    "}\n",
    "\n",
    "import com.atomicscala.pythagorean.EquilateralTriangle\n",
    "\n",
    "val et = new EquilateralTriangle\n",
    "println(et.area(2))\n",
    "assert(et.area(2) == Math.sqrt(3))\n",
    "println(et.area(9.49))\n",
    "assert(Math.round(et.area(9.49)) == 39)\n",
    "*/\n",
    "\n",
    "// 3\n",
    "/*\n",
    "// Approach 1: import specific classes\n",
    "import com.atomicscala.pythagorean.{RightTriangle, EquilateralTriangle}\n",
    "\n",
    "// Approach 2: import everything\n",
    "import com.atomicscala.pythagorean._\n",
    "\n",
    "val rt = new RightTriangle\n",
    "println(rt.hypotenuse(3,4))\n",
    "println(rt.area(3,4))\n",
    "assert(rt.hypotenuse(3,4) == 5)\n",
    "assert(rt.area(3,4) == 6)\n",
    "\n",
    "val et = new EquilateralTriangle\n",
    "println(et.area(2))\n",
    "assert(et.area(2) == Math.sqrt(3))\n",
    "println(et.area(9.49))\n",
    "assert(Math.round(et.area(9.49)) == 39)\n",
    "*/\n",
    "\n",
    "// 4\n",
    "/*\n",
    "package com.atomicscala.trivia\n",
    "\n",
    "class Movies\n",
    "\n",
    "class Science\n",
    "\n",
    "class Literature\n",
    "\n",
    "// Solution 1: import 1 class\n",
    "import com.atomicscala.trivia.Literature\n",
    "\n",
    "val lit = new Literature\n",
    "println(\"Imported 1 class\")\n",
    "\n",
    "// Solution 2: import 2 classes\n",
    "import com.atomicscala.trivia.{Science, Movies}\n",
    "\n",
    "val science = new Science\n",
    "val movies = new Movies\n",
    "println(\"Imported 2 classes\")\n",
    "\n",
    "// Solution 3: import everything\n",
    "import com.atomicscala.trivia._\n",
    "\n",
    "val c1 = new Literature\n",
    "val c2 = new Science\n",
    "val c3 = new Movies\n",
    "println(\"Imported everything\")\n",
    "*/"
   ]
  },
  {
   "cell_type": "markdown",
   "metadata": {},
   "source": [
    "## 7. Testing:\n",
    "\n",
    "https://www.scalatest.org/\n",
    "\n",
    "\"Using **println** to verify code correctness is a weak approach; you must pay attention to the output every time and consciously ensure that it’s right. Using **assert** is better because it happens automatically. However, a failed assert produces noisy output that’s often less than clear. In addition, we’d like a more natural syntax for writing tests.\""
   ]
  },
  {
   "cell_type": "markdown",
   "metadata": {},
   "source": [
    "#### exercises"
   ]
  },
  {
   "cell_type": "code",
   "execution_count": 18,
   "metadata": {},
   "outputs": [],
   "source": [
    "// 1\n",
    "/*\n",
    "import com.atomicscala.AtomicTest._\n",
    "\n",
    "val myValue1 = 20\n",
    "val myValue2 = 10\n",
    "myValue1 is myValue2\n",
    "*/\n",
    "\n",
    "// 2\n",
    "/*\n",
    "import com.atomicscala.AtomicTest._\n",
    "\n",
    "val myValue3 = 10\n",
    "val myValue4 = 10\n",
    "myValue3 is myValue4\n",
    "*/\n",
    "\n",
    "// 3\n",
    "/*\n",
    "import com.atomicscala.AtomicTest._\n",
    "\n",
    "val myValue2 = 10\n",
    "val myValue3 = 10\n",
    "myValue2 is myValue3\n",
    "*/\n",
    "\n",
    "// 4\n",
    "/*\n",
    "import com.atomicscala.AtomicTest._\n",
    "\n",
    "val myValue2 = 10\n",
    "val myValue5 = \"10\"\n",
    "myValue2 is myValue5\n",
    "*/\n",
    "\n",
    "// 4\n",
    "/*\n",
    "def squareArea(x:Int):Int = {\n",
    "  x * x\n",
    "}\n",
    "\n",
    "def rectangleArea(x:Int, y:Int):Int = { \n",
    "  x * x \n",
    "}\n",
    "\n",
    "def trapezoidArea(x:Int, y:Int, h:Int):Double = {\n",
    "  h/2 * (x + y)\n",
    "}\n",
    "\n",
    "squareArea(1) is 1\n",
    "squareArea(2) is 4\n",
    "squareArea(5) is 25\n",
    "rectangleArea(2, 2) is 4\n",
    "rectangleArea(5, 4) is 20\n",
    "trapezoidArea(2, 2, 4) is 8\n",
    "trapezoidArea(3, 4, 1) is 3.5\n",
    "*/"
   ]
  },
  {
   "cell_type": "markdown",
   "metadata": {},
   "source": [
    "## 8. Fields:\n",
    "- **var** or **val** that's part of an object"
   ]
  },
  {
   "cell_type": "markdown",
   "metadata": {},
   "source": [
    "#### fields"
   ]
  },
  {
   "cell_type": "code",
   "execution_count": 2,
   "metadata": {},
   "outputs": [
    {
     "data": {
      "text/plain": [
       "defined \u001b[32mclass\u001b[39m \u001b[36mCup\u001b[39m\n",
       "\u001b[36mc1\u001b[39m: \u001b[32mwrapper\u001b[39m.\u001b[32mwrapper\u001b[39m.\u001b[32mCup\u001b[39m = $sess.cmd1Wrapper$Helper$Cup@314af7eb\n",
       "\u001b[36mc2\u001b[39m: \u001b[32mwrapper\u001b[39m.\u001b[32mwrapper\u001b[39m.\u001b[32mCup\u001b[39m = $sess.cmd1Wrapper$Helper$Cup@4c21235d"
      ]
     },
     "execution_count": 2,
     "metadata": {},
     "output_type": "execute_result"
    }
   ],
   "source": [
    "class Cup {\n",
    "    var percentFull = 0\n",
    "}\n",
    "\n",
    "val c1 = new Cup\n",
    "c1.percentFull = 50\n",
    "val c2 = new Cup\n",
    "c2.percentFull = 100"
   ]
  },
  {
   "cell_type": "code",
   "execution_count": 12,
   "metadata": {},
   "outputs": [
    {
     "data": {
      "text/plain": [
       "defined \u001b[32mclass\u001b[39m \u001b[36mCup2\u001b[39m\n",
       "\u001b[36mcup\u001b[39m: \u001b[32mwrapper\u001b[39m.\u001b[32mwrapper\u001b[39m.\u001b[32mCup2\u001b[39m = $sess.cmd11Wrapper$Helper$Cup2@5248b9c0\n",
       "\u001b[36mres11_2\u001b[39m: \u001b[32mInt\u001b[39m = \u001b[32m50\u001b[39m\n",
       "\u001b[36mres11_3\u001b[39m: \u001b[32mInt\u001b[39m = \u001b[32m100\u001b[39m"
      ]
     },
     "execution_count": 12,
     "metadata": {},
     "output_type": "execute_result"
    }
   ],
   "source": [
    "class Cup2 {\n",
    "    var percentFull = 0\n",
    "    val max = 100\n",
    "    def add(increase:Int):Int = {\n",
    "        percentFull += increase\n",
    "        if(percentFull > max) {\n",
    "            percentFull = max\n",
    "        }\n",
    "        percentFull // Return this value\n",
    "    }\n",
    "}\n",
    "val cup = new Cup2\n",
    "cup.add(50)\n",
    "cup.add(200)"
   ]
  },
  {
   "cell_type": "markdown",
   "metadata": {},
   "source": [
    "#### exercises"
   ]
  },
  {
   "cell_type": "code",
   "execution_count": 18,
   "metadata": {},
   "outputs": [
    {
     "data": {
      "text/plain": [
       "defined \u001b[32mclass\u001b[39m \u001b[36mCup2\u001b[39m\n",
       "\u001b[36mcup2\u001b[39m: \u001b[32mwrapper\u001b[39m.\u001b[32mwrapper\u001b[39m.\u001b[32mCup2\u001b[39m = $sess.cmd17Wrapper$Helper$Cup2@53186465\n",
       "\u001b[36mres17_2\u001b[39m: \u001b[32mInt\u001b[39m = \u001b[32m45\u001b[39m\n",
       "\u001b[36mres17_3\u001b[39m: \u001b[32mInt\u001b[39m = \u001b[32m30\u001b[39m\n",
       "\u001b[36mres17_4\u001b[39m: \u001b[32mInt\u001b[39m = \u001b[32m-20\u001b[39m\n",
       "defined \u001b[32mclass\u001b[39m \u001b[36mCup3\u001b[39m\n",
       "\u001b[36mcup3\u001b[39m: \u001b[32mwrapper\u001b[39m.\u001b[32mwrapper\u001b[39m.\u001b[32mCup3\u001b[39m = $sess.cmd17Wrapper$Helper$Cup3@4c51de82\n",
       "\u001b[36mres17_7\u001b[39m: \u001b[32mInt\u001b[39m = \u001b[32m45\u001b[39m\n",
       "\u001b[36mres17_8\u001b[39m: \u001b[32mInt\u001b[39m = \u001b[32m0\u001b[39m\n",
       "\u001b[36mres17_9\u001b[39m: \u001b[32mInt\u001b[39m = \u001b[32m10\u001b[39m\n",
       "\u001b[36mres17_10\u001b[39m: \u001b[32mInt\u001b[39m = \u001b[32m1\u001b[39m\n",
       "\u001b[36mres17_11\u001b[39m: \u001b[32mInt\u001b[39m = \u001b[32m0\u001b[39m\n",
       "defined \u001b[32mclass\u001b[39m \u001b[36mCup4\u001b[39m\n",
       "\u001b[36mcup4\u001b[39m: \u001b[32mwrapper\u001b[39m.\u001b[32mwrapper\u001b[39m.\u001b[32mCup4\u001b[39m = $sess.cmd17Wrapper$Helper$Cup4@61477221\n",
       "defined \u001b[32mclass\u001b[39m \u001b[36mCup5\u001b[39m\n",
       "\u001b[36mcup5\u001b[39m: \u001b[32mwrapper\u001b[39m.\u001b[32mwrapper\u001b[39m.\u001b[32mCup5\u001b[39m = $sess.cmd17Wrapper$Helper$Cup5@14b19f2f\n",
       "\u001b[36mres17_18\u001b[39m: \u001b[32mInt\u001b[39m = \u001b[32m56\u001b[39m"
      ]
     },
     "execution_count": 18,
     "metadata": {},
     "output_type": "execute_result"
    }
   ],
   "source": [
    "// 1\n",
    "class Cup2 {\n",
    "  var percentFull = 0\n",
    "  val max = 100\n",
    "  def add(increase:Int):Int = {\n",
    "    percentFull += increase\n",
    "    if(percentFull > max) percentFull = max\n",
    "    percentFull // Return value\n",
    "  }\n",
    "}\n",
    "val cup2 = new Cup2\n",
    "cup2.add(45)\n",
    "cup2.add(-15)\n",
    "cup2.add(-50)\n",
    "\n",
    "// 2\n",
    "class Cup3 {\n",
    "  var percentFull = 0\n",
    "  val max = 100\n",
    "  def add(increase:Int):Int = {\n",
    "    percentFull += increase\n",
    "    if(percentFull > max) percentFull = max\n",
    "    if(percentFull < 0) percentFull = 0\n",
    "    percentFull // Return this value\n",
    "  }\n",
    "}\n",
    "val cup3 = new Cup3\n",
    "cup3.add(45)\n",
    "cup3.add(-55)\n",
    "cup3.add(10)\n",
    "cup3.add(-9)\n",
    "cup3.add(-2)\n",
    "\n",
    "// 3\n",
    "class Cup4 {\n",
    "  var percentFull = 0\n",
    "  val max = 100\n",
    "  def add(increase:Int):Int = {\n",
    "    percentFull += increase\n",
    "    if(percentFull > max) percentFull = max\n",
    "    if(percentFull < 0) percentFull = 0\n",
    "    percentFull // Return this value\n",
    "  }\n",
    "}\n",
    "val cup4 = new Cup4\n",
    "cup4.percentFull = 56\n",
    "\n",
    "// 4\n",
    "class Cup5 {\n",
    "  var percentFull = 0\n",
    "  val max = 100\n",
    "  def add(increase:Int):Int = {\n",
    "    percentFull += increase\n",
    "    if(percentFull > max) percentFull = max\n",
    "    percentFull // Return this value\n",
    "  }\n",
    "  def set(x:Int):Unit = { percentFull = x }\n",
    "  def get():Int = { percentFull }\n",
    "}\n",
    "val cup5 = new Cup5\n",
    "cup5.set(56)\n",
    "cup5.get()"
   ]
  },
  {
   "cell_type": "markdown",
   "metadata": {},
   "source": [
    "## 9. For Loops:\n",
    "- perform operations on a sequence of values\n",
    "- ***to*** and ***until*** are examples of ***infix notation***"
   ]
  },
  {
   "cell_type": "markdown",
   "metadata": {},
   "source": [
    "#### for loops"
   ]
  },
  {
   "cell_type": "code",
   "execution_count": 21,
   "metadata": {},
   "outputs": [
    {
     "data": {
      "text/plain": [
       "\u001b[36mresult\u001b[39m: \u001b[32mString\u001b[39m = \u001b[32m\"0 1 2 3 4 5 6 7 8 9 \"\u001b[39m"
      ]
     },
     "execution_count": 21,
     "metadata": {},
     "output_type": "execute_result"
    }
   ],
   "source": [
    "var result = \"\"\n",
    "for(i <- 0 to 9) {\n",
    "    result += i + \" \"\n",
    "}"
   ]
  },
  {
   "cell_type": "code",
   "execution_count": 23,
   "metadata": {},
   "outputs": [
    {
     "data": {
      "text/plain": [
       "\u001b[36mresult\u001b[39m: \u001b[32mString\u001b[39m = \u001b[32m\"0 1 2 3 4 5 6 7 8 9 \"\u001b[39m"
      ]
     },
     "execution_count": 23,
     "metadata": {},
     "output_type": "execute_result"
    }
   ],
   "source": [
    "var result = \"\"\n",
    "for(i <- 0 until 10) {\n",
    "    result += i + \" \"\n",
    "}"
   ]
  },
  {
   "cell_type": "code",
   "execution_count": 24,
   "metadata": {},
   "outputs": [
    {
     "data": {
      "text/plain": [
       "\u001b[36mresult\u001b[39m: \u001b[32mString\u001b[39m = \u001b[32m\"0 1 2 3 4 5 6 7 8 9 \"\u001b[39m"
      ]
     },
     "execution_count": 24,
     "metadata": {},
     "output_type": "execute_result"
    }
   ],
   "source": [
    "var result = \"\"\n",
    "for(i <- Range(0, 10)) {\n",
    "    result += i + \" \"\n",
    "}"
   ]
  },
  {
   "cell_type": "code",
   "execution_count": 25,
   "metadata": {},
   "outputs": [
    {
     "data": {
      "text/plain": [
       "\u001b[36mresult\u001b[39m: \u001b[32mString\u001b[39m = \u001b[32m\"0 2 4 6 8 10 12 14 16 18 \"\u001b[39m"
      ]
     },
     "execution_count": 25,
     "metadata": {},
     "output_type": "execute_result"
    }
   ],
   "source": [
    "var result = \"\"\n",
    "for(i <- Range(0, 20, 2)) {\n",
    "    result += i + \" \"\n",
    "}"
   ]
  },
  {
   "cell_type": "code",
   "execution_count": 26,
   "metadata": {},
   "outputs": [
    {
     "name": "stdout",
     "output_type": "stream",
     "text": [
      "adding 0 to 0\n",
      "adding 2 to 0\n",
      "adding 4 to 2\n",
      "adding 6 to 6\n",
      "adding 8 to 12\n",
      "adding 10 to 20\n",
      "adding 12 to 30\n",
      "adding 14 to 42\n",
      "adding 16 to 56\n",
      "adding 18 to 72\n"
     ]
    },
    {
     "data": {
      "text/plain": [
       "\u001b[36msum\u001b[39m: \u001b[32mInt\u001b[39m = \u001b[32m90\u001b[39m"
      ]
     },
     "execution_count": 26,
     "metadata": {},
     "output_type": "execute_result"
    }
   ],
   "source": [
    "var sum = 0\n",
    "for(i <- Range(0, 20, 2)) {\n",
    "    println(\"adding \" + i + \" to \" + sum)\n",
    "    sum += i\n",
    "}"
   ]
  },
  {
   "cell_type": "markdown",
   "metadata": {},
   "source": [
    "#### include endpoint"
   ]
  },
  {
   "cell_type": "code",
   "execution_count": 27,
   "metadata": {},
   "outputs": [
    {
     "data": {
      "text/plain": [
       "\u001b[36mres26\u001b[39m: \u001b[32mRange\u001b[39m = \u001b[33mRange\u001b[39m(\u001b[32m0\u001b[39m, \u001b[32m1\u001b[39m, \u001b[32m2\u001b[39m, \u001b[32m3\u001b[39m, \u001b[32m4\u001b[39m, \u001b[32m5\u001b[39m, \u001b[32m6\u001b[39m, \u001b[32m7\u001b[39m, \u001b[32m8\u001b[39m, \u001b[32m9\u001b[39m, \u001b[32m10\u001b[39m)"
      ]
     },
     "execution_count": 27,
     "metadata": {},
     "output_type": "execute_result"
    }
   ],
   "source": [
    "Range(0, 10).inclusive"
   ]
  },
  {
   "cell_type": "code",
   "execution_count": 28,
   "metadata": {},
   "outputs": [
    {
     "data": {
      "text/plain": [
       "\u001b[36mres27\u001b[39m: \u001b[32mRange\u001b[39m = \u001b[33mRange\u001b[39m(\u001b[32m0\u001b[39m, \u001b[32m1\u001b[39m, \u001b[32m2\u001b[39m, \u001b[32m3\u001b[39m, \u001b[32m4\u001b[39m, \u001b[32m5\u001b[39m, \u001b[32m6\u001b[39m, \u001b[32m7\u001b[39m, \u001b[32m8\u001b[39m, \u001b[32m9\u001b[39m, \u001b[32m10\u001b[39m)"
      ]
     },
     "execution_count": 28,
     "metadata": {},
     "output_type": "execute_result"
    }
   ],
   "source": [
    "Range(0, 11)"
   ]
  },
  {
   "cell_type": "markdown",
   "metadata": {},
   "source": [
    "#### exercises"
   ]
  },
  {
   "cell_type": "code",
   "execution_count": 32,
   "metadata": {},
   "outputs": [
    {
     "data": {
      "text/plain": [
       "\u001b[36mr1\u001b[39m: \u001b[32mRange\u001b[39m = \u001b[33mRange\u001b[39m(\u001b[32m0\u001b[39m, \u001b[32m1\u001b[39m, \u001b[32m2\u001b[39m, \u001b[32m3\u001b[39m, \u001b[32m4\u001b[39m, \u001b[32m5\u001b[39m, \u001b[32m6\u001b[39m, \u001b[32m7\u001b[39m, \u001b[32m8\u001b[39m, \u001b[32m9\u001b[39m)\n",
       "\u001b[36mr2\u001b[39m: \u001b[32mRange\u001b[39m = \u001b[33mRange\u001b[39m(\u001b[32m0\u001b[39m, \u001b[32m1\u001b[39m, \u001b[32m2\u001b[39m, \u001b[32m3\u001b[39m, \u001b[32m4\u001b[39m, \u001b[32m5\u001b[39m, \u001b[32m6\u001b[39m, \u001b[32m7\u001b[39m, \u001b[32m8\u001b[39m, \u001b[32m9\u001b[39m, \u001b[32m10\u001b[39m)\n",
       "\u001b[36mtotal\u001b[39m: \u001b[32mInt\u001b[39m = \u001b[32m55\u001b[39m\n",
       "\u001b[36mtotalEvens\u001b[39m: \u001b[32mInt\u001b[39m = \u001b[32m30\u001b[39m\n",
       "\u001b[36mevens\u001b[39m: \u001b[32mInt\u001b[39m = \u001b[32m30\u001b[39m\n",
       "\u001b[36modds\u001b[39m: \u001b[32mInt\u001b[39m = \u001b[32m25\u001b[39m\n",
       "\u001b[36mevens2\u001b[39m: \u001b[32mInt\u001b[39m = \u001b[32m30\u001b[39m\n",
       "\u001b[36modds2\u001b[39m: \u001b[32mInt\u001b[39m = \u001b[32m25\u001b[39m"
      ]
     },
     "execution_count": 32,
     "metadata": {},
     "output_type": "execute_result"
    }
   ],
   "source": [
    "// 1\n",
    "val r1 = Range(0, 10)\n",
    "\n",
    "// 2\n",
    "val r2 = Range(0, 10).inclusive\n",
    "\n",
    "// 3\n",
    "var total:Int = 0\n",
    "for(i <- Range(0, 10).inclusive)\n",
    "  total = total + i\n",
    "\n",
    "// 4\n",
    "var totalEvens:Int = 0\n",
    "for(i <- Range(0, 10).inclusive) {\n",
    "  if(i % 2 == 0)\n",
    "    totalEvens = totalEvens + i\n",
    "}\n",
    "\n",
    "// 5\n",
    "var evens:Int = 0\n",
    "var odds:Int = 0\n",
    "\n",
    "for(i <- 0 to 10) {\n",
    "  if(i % 2 == 0) evens = evens + i\n",
    "  else odds = odds + i\n",
    "}\n",
    "\n",
    "// 6\n",
    "var evens2:Int = 0\n",
    "var odds2:Int = 0\n",
    "\n",
    "for(i<- Range.inclusive(0, 10)) {\n",
    "  if(i % 2 == 0) evens2 = evens2 + i\n",
    "  else odds2 = odds2 + i\n",
    "}"
   ]
  },
  {
   "cell_type": "markdown",
   "metadata": {},
   "source": [
    "## 10. Vectors:\n",
    "- ***container*** (something that holds other objects) or ***collection***"
   ]
  },
  {
   "cell_type": "markdown",
   "metadata": {},
   "source": [
    "#### vector for loop"
   ]
  },
  {
   "cell_type": "code",
   "execution_count": 42,
   "metadata": {},
   "outputs": [
    {
     "data": {
      "text/plain": [
       "\u001b[36mv1\u001b[39m: \u001b[32mVector\u001b[39m[\u001b[32mInt\u001b[39m] = \u001b[33mVector\u001b[39m(\u001b[32m1\u001b[39m, \u001b[32m3\u001b[39m, \u001b[32m5\u001b[39m, \u001b[32m7\u001b[39m, \u001b[32m11\u001b[39m, \u001b[32m13\u001b[39m)\n",
       "\u001b[36mresult\u001b[39m: \u001b[32mString\u001b[39m = \u001b[32m\"1 3 5 7 11 13 \"\u001b[39m"
      ]
     },
     "execution_count": 42,
     "metadata": {},
     "output_type": "execute_result"
    }
   ],
   "source": [
    "val v1 = Vector(1, 3, 5, 7, 11, 13)\n",
    "\n",
    "var result= \"\"\n",
    "for(i<-v1) {\n",
    "    result += i + \" \"\n",
    "}"
   ]
  },
  {
   "cell_type": "markdown",
   "metadata": {},
   "source": [
    "#### vector reverse"
   ]
  },
  {
   "cell_type": "code",
   "execution_count": 43,
   "metadata": {},
   "outputs": [
    {
     "data": {
      "text/plain": [
       "\u001b[36mv3\u001b[39m: \u001b[32mVector\u001b[39m[\u001b[32mDouble\u001b[39m] = \u001b[33mVector\u001b[39m(\u001b[32m1.1\u001b[39m, \u001b[32m2.2\u001b[39m, \u001b[32m3.3\u001b[39m, \u001b[32m4.4\u001b[39m)\n",
       "\u001b[36mres42_1\u001b[39m: \u001b[32mVector\u001b[39m[\u001b[32mDouble\u001b[39m] = \u001b[33mVector\u001b[39m(\u001b[32m4.4\u001b[39m, \u001b[32m3.3\u001b[39m, \u001b[32m2.2\u001b[39m, \u001b[32m1.1\u001b[39m)"
      ]
     },
     "execution_count": 43,
     "metadata": {},
     "output_type": "execute_result"
    }
   ],
   "source": [
    "val v3 = Vector(1.1, 2.2, 3.3, 4.4)\n",
    "v3.reverse"
   ]
  },
  {
   "cell_type": "markdown",
   "metadata": {},
   "source": [
    "#### vector sort"
   ]
  },
  {
   "cell_type": "code",
   "execution_count": 44,
   "metadata": {},
   "outputs": [
    {
     "data": {
      "text/plain": [
       "\u001b[36mv4\u001b[39m: \u001b[32mVector\u001b[39m[\u001b[32mString\u001b[39m] = \u001b[33mVector\u001b[39m(\u001b[32m\"Twas\"\u001b[39m, \u001b[32m\"Brillig\"\u001b[39m, \u001b[32m\"And\"\u001b[39m, \u001b[32m\"Slithy\"\u001b[39m, \u001b[32m\"Toves\"\u001b[39m)\n",
       "\u001b[36mres43_1\u001b[39m: \u001b[32mVector\u001b[39m[\u001b[32mString\u001b[39m] = \u001b[33mVector\u001b[39m(\u001b[32m\"And\"\u001b[39m, \u001b[32m\"Brillig\"\u001b[39m, \u001b[32m\"Slithy\"\u001b[39m, \u001b[32m\"Toves\"\u001b[39m, \u001b[32m\"Twas\"\u001b[39m)"
      ]
     },
     "execution_count": 44,
     "metadata": {},
     "output_type": "execute_result"
    }
   ],
   "source": [
    "var v4 = Vector(\"Twas\", \"Brillig\", \"And\", \"Slithy\", \"Toves\")\n",
    "v4.sorted"
   ]
  },
  {
   "cell_type": "markdown",
   "metadata": {},
   "source": [
    "#### vector head and tail"
   ]
  },
  {
   "cell_type": "code",
   "execution_count": 45,
   "metadata": {},
   "outputs": [
    {
     "data": {
      "text/plain": [
       "\u001b[36mres44\u001b[39m: \u001b[32mString\u001b[39m = \u001b[32m\"Twas\"\u001b[39m"
      ]
     },
     "execution_count": 45,
     "metadata": {},
     "output_type": "execute_result"
    }
   ],
   "source": [
    "v4.head"
   ]
  },
  {
   "cell_type": "code",
   "execution_count": 46,
   "metadata": {},
   "outputs": [
    {
     "data": {
      "text/plain": [
       "\u001b[36mres45\u001b[39m: \u001b[32mVector\u001b[39m[\u001b[32mString\u001b[39m] = \u001b[33mVector\u001b[39m(\u001b[32m\"Brillig\"\u001b[39m, \u001b[32m\"And\"\u001b[39m, \u001b[32m\"Slithy\"\u001b[39m, \u001b[32m\"Toves\"\u001b[39m)"
      ]
     },
     "execution_count": 46,
     "metadata": {},
     "output_type": "execute_result"
    }
   ],
   "source": [
    "v4.tail // includes every element except the 1st in the Vector"
   ]
  },
  {
   "cell_type": "markdown",
   "metadata": {},
   "source": [
    "#### vector index"
   ]
  },
  {
   "cell_type": "code",
   "execution_count": 49,
   "metadata": {},
   "outputs": [
    {
     "name": "stdout",
     "output_type": "stream",
     "text": [
      "Twas\n"
     ]
    }
   ],
   "source": [
    "println(v4(0))"
   ]
  },
  {
   "cell_type": "markdown",
   "metadata": {},
   "source": [
    "#### exercises"
   ]
  },
  {
   "cell_type": "code",
   "execution_count": 72,
   "metadata": {},
   "outputs": [
    {
     "name": "stdout",
     "output_type": "stream",
     "text": [
      "Vector(This, Is, A, Vector, Of, Strings)\n",
      "Vector(4, 5, 6, 7, 8)\n",
      "Vector(Range(0, 1), Range(0, 1, 2, 3, 4))\n",
      "Vector(Vector(0, 1, 2), Vector(3, 4, 5))\n",
      "ehT\n",
      "god\n",
      "detisiv\n",
      "eht\n",
      "esuoherif\n",
      "firehouse\n",
      "the\n",
      "visited\n",
      "dog\n",
      "The\n",
      "Min is a\n",
      "Max is words\n",
      "Sum is (not defined)\n",
      "Reverse is List(nonsense, is, words, of, list, a, sometimes)\n",
      "Min is 1\n",
      "Max is 9\n",
      "Sum is (defined) 39\n",
      "Reverse is List(9, 5, 9, 7, 5, 3, 1)\n",
      "Min is 1\n",
      "Max is 9\n",
      "Sum is (defined) 24\n",
      "Reverse is not defined\n",
      "sorted is not defined\n",
      "reverse is not defined\n"
     ]
    },
    {
     "data": {
      "text/plain": [
       "\u001b[36mv1\u001b[39m: \u001b[32mVector\u001b[39m[\u001b[32mString\u001b[39m] = \u001b[33mVector\u001b[39m(\u001b[32m\"This\"\u001b[39m, \u001b[32m\"Is\"\u001b[39m, \u001b[32m\"A\"\u001b[39m, \u001b[32m\"Vector\"\u001b[39m, \u001b[32m\"Of\"\u001b[39m, \u001b[32m\"Strings\"\u001b[39m)\n",
       "\u001b[36mv2\u001b[39m: \u001b[32mVector\u001b[39m[\u001b[32mInt\u001b[39m] = \u001b[33mVector\u001b[39m(\u001b[32m4\u001b[39m, \u001b[32m5\u001b[39m, \u001b[32m6\u001b[39m, \u001b[32m7\u001b[39m, \u001b[32m8\u001b[39m)\n",
       "\u001b[36mv3\u001b[39m: \u001b[32mVector\u001b[39m[\u001b[32mRange\u001b[39m] = \u001b[33mVector\u001b[39m(\u001b[33mRange\u001b[39m(\u001b[32m0\u001b[39m, \u001b[32m1\u001b[39m), \u001b[33mRange\u001b[39m(\u001b[32m0\u001b[39m, \u001b[32m1\u001b[39m, \u001b[32m2\u001b[39m, \u001b[32m3\u001b[39m, \u001b[32m4\u001b[39m))\n",
       "\u001b[36mv4\u001b[39m: \u001b[32mVector\u001b[39m[\u001b[32mVector\u001b[39m[\u001b[32mInt\u001b[39m]] = \u001b[33mVector\u001b[39m(\u001b[33mVector\u001b[39m(\u001b[32m0\u001b[39m, \u001b[32m1\u001b[39m, \u001b[32m2\u001b[39m), \u001b[33mVector\u001b[39m(\u001b[32m3\u001b[39m, \u001b[32m4\u001b[39m, \u001b[32m5\u001b[39m))\n",
       "\u001b[36mv5\u001b[39m: \u001b[32mVector\u001b[39m[\u001b[32mString\u001b[39m] = \u001b[33mVector\u001b[39m(\u001b[32m\"The\"\u001b[39m, \u001b[32m\"dog\"\u001b[39m, \u001b[32m\"visited\"\u001b[39m, \u001b[32m\"the\"\u001b[39m, \u001b[32m\"firehouse\"\u001b[39m)\n",
       "\u001b[36msentence\u001b[39m: \u001b[32mString\u001b[39m = \u001b[32m\"The dog visited the firehouse \"\u001b[39m\n",
       "\u001b[36msentence2\u001b[39m: \u001b[32mString\u001b[39m = \u001b[32m\"The dog visited the firehouse \"\u001b[39m\n",
       "\u001b[36mtheString\u001b[39m: \u001b[32mString\u001b[39m = \u001b[32m\"The dog visited the firehouse!\"\u001b[39m\n",
       "\u001b[36mv6\u001b[39m: \u001b[32mVector\u001b[39m[\u001b[32mString\u001b[39m] = \u001b[33mVector\u001b[39m(\u001b[32m\"The\"\u001b[39m, \u001b[32m\"dog\"\u001b[39m, \u001b[32m\"visited\"\u001b[39m, \u001b[32m\"the\"\u001b[39m, \u001b[32m\"firehouse\"\u001b[39m)\n",
       "\u001b[36mv7\u001b[39m: \u001b[32mVector\u001b[39m[\u001b[32mString\u001b[39m] = \u001b[33mVector\u001b[39m(\u001b[32m\"The\"\u001b[39m, \u001b[32m\"dog\"\u001b[39m, \u001b[32m\"visited\"\u001b[39m, \u001b[32m\"the\"\u001b[39m, \u001b[32m\"firehouse\"\u001b[39m)\n",
       "\u001b[36mintVector\u001b[39m: \u001b[32mVector\u001b[39m[\u001b[32mInt\u001b[39m] = \u001b[33mVector\u001b[39m(\u001b[32m10\u001b[39m, \u001b[32m20\u001b[39m, \u001b[32m30\u001b[39m, \u001b[32m40\u001b[39m, \u001b[32m50\u001b[39m)\n",
       "\u001b[36mdoubleVector\u001b[39m: \u001b[32mVector\u001b[39m[\u001b[32mDouble\u001b[39m] = \u001b[33mVector\u001b[39m(\u001b[32m10.1\u001b[39m, \u001b[32m20.2\u001b[39m, \u001b[32m30.3\u001b[39m, \u001b[32m40.4\u001b[39m, \u001b[32m50.5\u001b[39m)\n",
       "\u001b[36mres71_19\u001b[39m: \u001b[32mInt\u001b[39m = \u001b[32m150\u001b[39m\n",
       "\u001b[36mres71_20\u001b[39m: \u001b[32mInt\u001b[39m = \u001b[32m10\u001b[39m\n",
       "\u001b[36mres71_21\u001b[39m: \u001b[32mInt\u001b[39m = \u001b[32m50\u001b[39m\n",
       "\u001b[36mres71_22\u001b[39m: \u001b[32mDouble\u001b[39m = \u001b[32m151.5\u001b[39m\n",
       "\u001b[36mres71_23\u001b[39m: \u001b[32mDouble\u001b[39m = \u001b[32m10.1\u001b[39m\n",
       "\u001b[36mres71_24\u001b[39m: \u001b[32mDouble\u001b[39m = \u001b[32m50.5\u001b[39m\n",
       "\u001b[36mv8\u001b[39m: \u001b[32mVector\u001b[39m[\u001b[32mString\u001b[39m] = \u001b[33mVector\u001b[39m(\u001b[32m\"the\"\u001b[39m, \u001b[32m\"dog\"\u001b[39m, \u001b[32m\"visited\"\u001b[39m, \u001b[32m\"the\"\u001b[39m, \u001b[32m\"firehouse\"\u001b[39m)\n",
       "\u001b[36mres71_26\u001b[39m: \u001b[32mString\u001b[39m = \u001b[32m\"visited\"\u001b[39m\n",
       "\u001b[36mres71_27\u001b[39m: \u001b[32mString\u001b[39m = \u001b[32m\"dog\"\u001b[39m\n",
       "\u001b[36mrangeSum\u001b[39m: \u001b[32mInt\u001b[39m = \u001b[32m55\u001b[39m\n",
       "\u001b[36ml\u001b[39m: \u001b[32mList\u001b[39m[\u001b[32mString\u001b[39m] = \u001b[33mList\u001b[39m(\u001b[32m\"sometimes\"\u001b[39m, \u001b[32m\"a\"\u001b[39m, \u001b[32m\"list\"\u001b[39m, \u001b[32m\"of\"\u001b[39m, \u001b[32m\"words\"\u001b[39m, \u001b[32m\"is\"\u001b[39m, \u001b[32m\"nonsense\"\u001b[39m)\n",
       "\u001b[36mintList\u001b[39m: \u001b[32mList\u001b[39m[\u001b[32mInt\u001b[39m] = \u001b[33mList\u001b[39m(\u001b[32m1\u001b[39m, \u001b[32m3\u001b[39m, \u001b[32m5\u001b[39m, \u001b[32m7\u001b[39m, \u001b[32m9\u001b[39m, \u001b[32m5\u001b[39m, \u001b[32m9\u001b[39m)\n",
       "\u001b[36ms\u001b[39m: \u001b[32mSet\u001b[39m[\u001b[32mInt\u001b[39m] = \u001b[33mSet\u001b[39m(\u001b[32m5\u001b[39m, \u001b[32m1\u001b[39m, \u001b[32m6\u001b[39m, \u001b[32m9\u001b[39m, \u001b[32m3\u001b[39m)\n",
       "\u001b[36ms2\u001b[39m: \u001b[32mSet\u001b[39m[\u001b[32mString\u001b[39m] = \u001b[33mSet\u001b[39m(\u001b[32m\"this\"\u001b[39m, \u001b[32m\"has\"\u001b[39m, \u001b[32m\"that\"\u001b[39m, \u001b[32m\"match\"\u001b[39m, \u001b[32m\"words\"\u001b[39m, \u001b[32m\"other\"\u001b[39m)\n",
       "\u001b[36mmyVector1\u001b[39m: \u001b[32mVector\u001b[39m[\u001b[32mInt\u001b[39m] = \u001b[33mVector\u001b[39m(\u001b[32m1\u001b[39m, \u001b[32m2\u001b[39m, \u001b[32m3\u001b[39m, \u001b[32m4\u001b[39m, \u001b[32m5\u001b[39m, \u001b[32m6\u001b[39m)\n",
       "\u001b[36mmyVector2\u001b[39m: \u001b[32mVector\u001b[39m[\u001b[32mInt\u001b[39m] = \u001b[33mVector\u001b[39m(\u001b[32m1\u001b[39m, \u001b[32m2\u001b[39m, \u001b[32m3\u001b[39m, \u001b[32m4\u001b[39m, \u001b[32m5\u001b[39m, \u001b[32m6\u001b[39m)"
      ]
     },
     "execution_count": 72,
     "metadata": {},
     "output_type": "execute_result"
    }
   ],
   "source": [
    "// 1\n",
    "val v1 = Vector(\"This\", \"Is\", \"A\", \"Vector\", \"Of\", \"Strings\")\n",
    "println(v1)\n",
    "val v2 = Vector(4, 5, 6, 7, 8)\n",
    "println(v2)\n",
    "val v3 = Vector(Range(0, 2), Range(0, 5))\n",
    "println(v3)\n",
    "\n",
    "// 2\n",
    "val v4 = Vector(Vector(0, 1, 2), Vector(3, 4, 5))\n",
    "println(v4)\n",
    "\n",
    "// 3\n",
    "val v5 = Vector(\"The\", \"dog\", \"visited\", \"the\", \"firehouse\")\n",
    "var sentence: String = \"\"\n",
    "for(word <- v5) {\n",
    "  sentence = sentence + word + \" \"\n",
    "}\n",
    "\n",
    "// 4\n",
    "var sentence2 = \"The dog visited the firehouse \"\n",
    "val theString = sentence2.replace(\"firehouse \", \"firehouse!\")\n",
    "\n",
    "// 5\n",
    "val v6 = Vector(\"The\", \"dog\", \"visited\", \"the\", \"firehouse\")\n",
    "for(word <- v6) {\n",
    "  println(word.reverse)\n",
    "}\n",
    "\n",
    "// 6\n",
    "val v7 = Vector(\"The\", \"dog\", \"visited\", \"the\", \"firehouse\")\n",
    "\n",
    "for(word <- v7.reverse) {\n",
    "  println(word)\n",
    "}\n",
    "\n",
    "// 7\n",
    "val intVector = Vector(10, 20, 30, 40, 50)\n",
    "val doubleVector = Vector(10.1D, 20.2D, 30.3D, 40.4D, 50.5D)\n",
    "intVector.sum\n",
    "intVector.min\n",
    "intVector.max\n",
    "doubleVector.sum\n",
    "doubleVector.min\n",
    "doubleVector.max\n",
    "\n",
    "// 8\n",
    "val v8 = Vector(\"the\", \"dog\", \"visited\", \"the\", \"firehouse\")\n",
    "v8.max\n",
    "v8.min\n",
    "\n",
    "// 9\n",
    "val rangeSum = Range.inclusive(0, 10).sum\n",
    "\n",
    "// 10\n",
    "val l = List(\"sometimes\", \"a\", \"list\", \"of\", \"words\", \"is\", \"nonsense\")\n",
    "println(\"Min is \" + l.min)\n",
    "println(\"Max is \" + l.max)\n",
    "println(\"Sum is (not defined)\")\n",
    "println(\"Reverse is \" + l.reverse)\n",
    "\n",
    "val intList = List(1, 3, 5, 7, 9, 5, 9)\n",
    "println(\"Min is \" + intList.min)\n",
    "println(\"Max is \" + intList.max)\n",
    "println(\"Sum is (defined) \" + intList.sum)\n",
    "println(\"Reverse is \" + intList.reverse)\n",
    "\n",
    "val s = Set(1, 3, 5, 6, 9, 5, 9)\n",
    "println(\"Min is \" + s.min)\n",
    "println(\"Max is \" + s.max)\n",
    "println(\"Sum is (defined) \" + s.sum)\n",
    "println(\"Reverse is not defined\")\n",
    "\n",
    "/* Solution: All of the same operations exist on List as on Vector,\n",
    "including being able to access each element of the list. Set differs\n",
    "from Vector and List in that it only allows one of each value and\n",
    "it doesn't display in insertion order */\n",
    "\n",
    "// 11\n",
    "val s2 = Set(\"this\", \"has\", \"words\", \"that\", \"match\", \"other\", \"words\")\n",
    "// s2.sorted\n",
    "println(\"sorted is not defined\")\n",
    "// s2.reverse\n",
    "println(\"reverse is not defined\")\n",
    "\n",
    "// 12\n",
    "val myVector1 = Vector(1, 2, 3, 4, 5, 6)\n",
    "val myVector2 = Vector(1, 2, 3, 4, 5, 6)"
   ]
  },
  {
   "cell_type": "markdown",
   "metadata": {},
   "source": [
    "## 11. More Conditionals:"
   ]
  },
  {
   "cell_type": "markdown",
   "metadata": {},
   "source": [
    "#### booleans"
   ]
  },
  {
   "cell_type": "code",
   "execution_count": 77,
   "metadata": {},
   "outputs": [
    {
     "data": {
      "text/plain": [
       "defined \u001b[32mfunction\u001b[39m \u001b[36mtrueOrFalse\u001b[39m\n",
       "\u001b[36mb\u001b[39m: \u001b[32mInt\u001b[39m = \u001b[32m1\u001b[39m\n",
       "\u001b[36mres76_2\u001b[39m: \u001b[32mString\u001b[39m = \u001b[32m\"It's true!\"\u001b[39m\n",
       "\u001b[36mres76_3\u001b[39m: \u001b[32mString\u001b[39m = \u001b[32m\"It's false\"\u001b[39m"
      ]
     },
     "execution_count": 77,
     "metadata": {},
     "output_type": "execute_result"
    }
   ],
   "source": [
    "def trueOrFalse(exp:Boolean):String = {\n",
    "    if(exp) {\n",
    "        return \"It's true!\" // Need 'return'\n",
    "    }\n",
    "    \"It's false\"\n",
    "}\n",
    "\n",
    "val b = 1\n",
    "trueOrFalse(b < 3)\n",
    "trueOrFalse(b > 3)"
   ]
  },
  {
   "cell_type": "code",
   "execution_count": 79,
   "metadata": {},
   "outputs": [
    {
     "data": {
      "text/plain": [
       "defined \u001b[32mfunction\u001b[39m \u001b[36moneOrTheOther\u001b[39m\n",
       "\u001b[36mv\u001b[39m: \u001b[32mVector\u001b[39m[\u001b[32mInt\u001b[39m] = \u001b[33mVector\u001b[39m(\u001b[32m1\u001b[39m)\n",
       "\u001b[36mv2\u001b[39m: \u001b[32mVector\u001b[39m[\u001b[32mInt\u001b[39m] = \u001b[33mVector\u001b[39m(\u001b[32m3\u001b[39m, \u001b[32m4\u001b[39m)\n",
       "\u001b[36mres78_3\u001b[39m: \u001b[32mString\u001b[39m = \u001b[32m\"True!\"\u001b[39m\n",
       "\u001b[36mres78_4\u001b[39m: \u001b[32mString\u001b[39m = \u001b[32m\"It's false\"\u001b[39m"
      ]
     },
     "execution_count": 79,
     "metadata": {},
     "output_type": "execute_result"
    }
   ],
   "source": [
    "def oneOrTheOther(exp:Boolean):String = {\n",
    "    if(exp) {\n",
    "        \"True!\" // No 'return' necessary\n",
    "    }\n",
    "    else {\n",
    "        \"It's false\"\n",
    "    }\n",
    "}\n",
    "\n",
    "val v = Vector(1)\n",
    "val v2 = Vector(3, 4)\n",
    "oneOrTheOther(v == v.reverse)\n",
    "oneOrTheOther(v2 == v2.reverse)"
   ]
  },
  {
   "cell_type": "code",
   "execution_count": 81,
   "metadata": {},
   "outputs": [
    {
     "data": {
      "text/plain": [
       "defined \u001b[32mfunction\u001b[39m \u001b[36mcheckTruth\u001b[39m\n",
       "\u001b[36mres80_1\u001b[39m: \u001b[32mString\u001b[39m = \u001b[32m\"Both are true\"\u001b[39m\n",
       "\u001b[36mres80_2\u001b[39m: \u001b[32mString\u001b[39m = \u001b[32m\"First: true, second: false\"\u001b[39m\n",
       "\u001b[36mres80_3\u001b[39m: \u001b[32mString\u001b[39m = \u001b[32m\"First: false, second: true\"\u001b[39m\n",
       "\u001b[36mres80_4\u001b[39m: \u001b[32mString\u001b[39m = \u001b[32m\"Both are false\"\u001b[39m"
      ]
     },
     "execution_count": 81,
     "metadata": {},
     "output_type": "execute_result"
    }
   ],
   "source": [
    "def checkTruth(\n",
    "    exp1:Boolean, exp2:Boolean):String = {\n",
    "    if(exp1 && exp2) {\n",
    "    \"Both are true\"\n",
    "    }\n",
    "    else if(!exp1 && !exp2) {\n",
    "    \"Both are false\"\n",
    "  }\n",
    "  else if(exp1) {\n",
    "    \"First: true, second: false\"\n",
    "  }\n",
    "  else {\n",
    "    \"First: false, second: true\"\n",
    "  }\n",
    "}\n",
    "checkTruth(true||false,true)\n",
    "checkTruth(1 > 0 && -1 < 0, 1 == 2)\n",
    "checkTruth(1 >= 2, 1 >= 1)\n",
    "checkTruth(true && false, false && true)"
   ]
  },
  {
   "cell_type": "markdown",
   "metadata": {},
   "source": [
    "#### exercises"
   ]
  },
  {
   "cell_type": "code",
   "execution_count": 87,
   "metadata": {},
   "outputs": [
    {
     "name": "stdout",
     "output_type": "stream",
     "text": [
      "Elements read left to right match those read right to left.\n",
      "If length is even, middle elements must be repeated.\n",
      "If length is odd, middle element doesn't matter.\n"
     ]
    },
    {
     "data": {
      "text/plain": [
       "\u001b[36mbothWaysEven\u001b[39m: \u001b[32mVector\u001b[39m[\u001b[32mInt\u001b[39m] = \u001b[33mVector\u001b[39m(\u001b[32m1\u001b[39m, \u001b[32m2\u001b[39m, \u001b[32m3\u001b[39m, \u001b[32m3\u001b[39m, \u001b[32m2\u001b[39m, \u001b[32m1\u001b[39m)\n",
       "\u001b[36mres86_4\u001b[39m: \u001b[32mVector\u001b[39m[\u001b[32mInt\u001b[39m] = \u001b[33mVector\u001b[39m(\u001b[32m1\u001b[39m, \u001b[32m2\u001b[39m, \u001b[32m3\u001b[39m, \u001b[32m3\u001b[39m, \u001b[32m2\u001b[39m, \u001b[32m1\u001b[39m)\n",
       "\u001b[36mbothWaysOdd\u001b[39m: \u001b[32mVector\u001b[39m[\u001b[32mInt\u001b[39m] = \u001b[33mVector\u001b[39m(\u001b[32m1\u001b[39m, \u001b[32m2\u001b[39m, \u001b[32m3\u001b[39m, \u001b[32m2\u001b[39m, \u001b[32m1\u001b[39m)\n",
       "\u001b[36mres86_6\u001b[39m: \u001b[32mVector\u001b[39m[\u001b[32mInt\u001b[39m] = \u001b[33mVector\u001b[39m(\u001b[32m1\u001b[39m, \u001b[32m2\u001b[39m, \u001b[32m3\u001b[39m, \u001b[32m2\u001b[39m, \u001b[32m1\u001b[39m)\n",
       "defined \u001b[32mfunction\u001b[39m \u001b[36misPalindrome\u001b[39m\n",
       "\u001b[36mres86_8\u001b[39m: \u001b[32mBoolean\u001b[39m = \u001b[32mtrue\u001b[39m\n",
       "\u001b[36mres86_9\u001b[39m: \u001b[32mBoolean\u001b[39m = \u001b[32mtrue\u001b[39m\n",
       "\u001b[36mres86_10\u001b[39m: \u001b[32mBoolean\u001b[39m = \u001b[32mfalse\u001b[39m\n",
       "defined \u001b[32mfunction\u001b[39m \u001b[36misPalIgnoreCase\u001b[39m\n",
       "\u001b[36mres86_12\u001b[39m: \u001b[32mBoolean\u001b[39m = \u001b[32mtrue\u001b[39m\n",
       "\u001b[36mres86_13\u001b[39m: \u001b[32mBoolean\u001b[39m = \u001b[32mtrue\u001b[39m\n",
       "\u001b[36mres86_14\u001b[39m: \u001b[32mBoolean\u001b[39m = \u001b[32mfalse\u001b[39m\n",
       "defined \u001b[32mfunction\u001b[39m \u001b[36misPalIgnoreSpecial\u001b[39m\n",
       "\u001b[36mres86_16\u001b[39m: \u001b[32mBoolean\u001b[39m = \u001b[32mtrue\u001b[39m\n",
       "\u001b[36mres86_17\u001b[39m: \u001b[32mBoolean\u001b[39m = \u001b[32mfalse\u001b[39m"
      ]
     },
     "execution_count": 87,
     "metadata": {},
     "output_type": "execute_result"
    }
   ],
   "source": [
    "// 1\n",
    "println(\"Elements read left to right match those read right to left.\")\n",
    "println(\"If length is even, middle elements must be repeated.\")\n",
    "println(\"If length is odd, middle element doesn't matter.\")\n",
    "val bothWaysEven = Vector(1, 2, 3, 3, 2, 1)\n",
    "bothWaysEven.reverse\n",
    "val bothWaysOdd = Vector(1, 2, 3, 2, 1)\n",
    "bothWaysOdd.reverse\n",
    "\n",
    "// 2\n",
    "def isPalindrome(str:String):Boolean = {\n",
    "  val s = str.reverse\n",
    "  s.equals(str)\n",
    "}\n",
    "isPalindrome(\"mom\")\n",
    "isPalindrome(\"dad\")\n",
    "isPalindrome(\"street\")\n",
    "\n",
    "// 3\n",
    "def isPalIgnoreCase(str:String):Boolean = {\n",
    "  val s = str.toUpperCase.reverse\n",
    "  s.equals(str.toUpperCase)\n",
    "}\n",
    "isPalIgnoreCase(\"Bob\")\n",
    "isPalIgnoreCase(\"DAD\")\n",
    "isPalIgnoreCase(\"Blob\")\n",
    "\n",
    "// 4\n",
    "def isPalIgnoreSpecial(str:String):Boolean = {\n",
    "  var createdStr = \"\"\n",
    "  for(c <- str) {\n",
    "    val theValue = c.toInt\n",
    "    if(theValue > 64 && theValue < 123) {\n",
    "      createdStr += c\n",
    "    }\n",
    "    else if(theValue > 47 && theValue < 58) {\n",
    "      createdStr += c\n",
    "    }\n",
    "  }\n",
    "  val s1 = createdStr.toUpperCase.reverse\n",
    "  val s2 = createdStr.toUpperCase\n",
    "  s1.equals(s2)\n",
    "}\n",
    "\n",
    "isPalIgnoreSpecial(\"Madam I'm adam\")\n",
    "isPalIgnoreSpecial(\"trees\")"
   ]
  },
  {
   "cell_type": "markdown",
   "metadata": {},
   "source": [
    "# Summary 2"
   ]
  },
  {
   "cell_type": "markdown",
   "metadata": {},
   "source": [
    "#### tic tac toe class"
   ]
  },
  {
   "cell_type": "code",
   "execution_count": 90,
   "metadata": {},
   "outputs": [
    {
     "data": {
      "text/plain": [
       "defined \u001b[32mclass\u001b[39m \u001b[36mCell\u001b[39m\n",
       "defined \u001b[32mclass\u001b[39m \u001b[36mGrid\u001b[39m\n",
       "\u001b[36mgrid\u001b[39m: \u001b[32mwrapper\u001b[39m.\u001b[32mwrapper\u001b[39m.\u001b[32mGrid\u001b[39m = $sess.cmd89Wrapper$Helper$Grid@7b8bdd4\n",
       "\u001b[36mres89_3\u001b[39m: \u001b[32mString\u001b[39m = \u001b[32m\"successful move\"\u001b[39m\n",
       "\u001b[36mres89_4\u001b[39m: \u001b[32mString\u001b[39m = \u001b[32m\"invalid move\"\u001b[39m\n",
       "\u001b[36mres89_5\u001b[39m: \u001b[32mString\u001b[39m = \u001b[32m\"invalid move\"\u001b[39m"
      ]
     },
     "execution_count": 90,
     "metadata": {},
     "output_type": "execute_result"
    }
   ],
   "source": [
    "class Cell {\n",
    "    var entry = ' '\n",
    "    def set(e:Char):String = {\n",
    "        if(entry==' ' && (e=='X' || e=='O')) {\n",
    "            entry = e\n",
    "            \"successful move\"\n",
    "        } else\n",
    "        \"invalid move\"\n",
    "    }\n",
    "}\n",
    "\n",
    "class Grid {\n",
    "    val cells = Vector(\n",
    "        Vector(new Cell, new Cell, new Cell),\n",
    "        Vector(new Cell, new Cell, new Cell),\n",
    "        Vector(new Cell, new Cell, new Cell)\n",
    "    )\n",
    "    def play(e:Char, x:Int, y:Int):String = {\n",
    "        if(x < 0 || x > 2 || y < 0 || y > 2)\n",
    "            \"invalid move\"\n",
    "        else\n",
    "            cells(x)(y).set(e)\n",
    "    }\n",
    "}\n",
    "\n",
    "val grid = new Grid\n",
    "grid.play('X', 1, 1)\n",
    "grid.play('X', 1, 1)\n",
    "grid.play('O', 1, 3)"
   ]
  },
  {
   "cell_type": "markdown",
   "metadata": {},
   "source": [
    "#### exercises"
   ]
  },
  {
   "cell_type": "code",
   "execution_count": 98,
   "metadata": {},
   "outputs": [
    {
     "name": "stdout",
     "output_type": "stream",
     "text": [
      "Vector(a, 45, silly, 76.4)\n",
      "v contains 'Any'\n",
      "v.max is not defined\n"
     ]
    },
    {
     "data": {
      "text/plain": [
       "\u001b[36mcVec\u001b[39m: \u001b[32mVector\u001b[39m[\u001b[32mChar\u001b[39m] = \u001b[33mVector\u001b[39m(\u001b[32m'f'\u001b[39m, \u001b[32m'z'\u001b[39m, \u001b[32m'g'\u001b[39m, \u001b[32m'a'\u001b[39m, \u001b[32m'p'\u001b[39m)\n",
       "\u001b[36mres97_1\u001b[39m: \u001b[32mVector\u001b[39m[\u001b[32mChar\u001b[39m] = \u001b[33mVector\u001b[39m(\u001b[32m'a'\u001b[39m, \u001b[32m'f'\u001b[39m, \u001b[32m'g'\u001b[39m, \u001b[32m'p'\u001b[39m, \u001b[32m'z'\u001b[39m)\n",
       "\u001b[36mres97_2\u001b[39m: \u001b[32mChar\u001b[39m = \u001b[32m'a'\u001b[39m\n",
       "\u001b[36mres97_3\u001b[39m: \u001b[32mChar\u001b[39m = \u001b[32m'z'\u001b[39m\n",
       "\u001b[36mcVecString\u001b[39m: \u001b[32mString\u001b[39m = \u001b[32m\"a f g p z \"\u001b[39m\n",
       "\u001b[36miVec\u001b[39m: \u001b[32mVector\u001b[39m[\u001b[32mInt\u001b[39m] = \u001b[33mVector\u001b[39m(\u001b[32m1\u001b[39m, \u001b[32m455\u001b[39m, \u001b[32m23\u001b[39m, \u001b[32m-8\u001b[39m, \u001b[32m4\u001b[39m, \u001b[32m9\u001b[39m, \u001b[32m12\u001b[39m, \u001b[32m2\u001b[39m)\n",
       "\u001b[36mres97_7\u001b[39m: \u001b[32mVector\u001b[39m[\u001b[32mInt\u001b[39m] = \u001b[33mVector\u001b[39m(\u001b[32m-8\u001b[39m, \u001b[32m1\u001b[39m, \u001b[32m2\u001b[39m, \u001b[32m4\u001b[39m, \u001b[32m9\u001b[39m, \u001b[32m12\u001b[39m, \u001b[32m23\u001b[39m, \u001b[32m455\u001b[39m)\n",
       "\u001b[36mres97_8\u001b[39m: \u001b[32mInt\u001b[39m = \u001b[32m-8\u001b[39m\n",
       "\u001b[36mres97_9\u001b[39m: \u001b[32mInt\u001b[39m = \u001b[32m455\u001b[39m\n",
       "\u001b[36miVecString\u001b[39m: \u001b[32mString\u001b[39m = \u001b[32m\"-8 1 2 4 9 12 23 455 \"\u001b[39m\n",
       "\u001b[36msVec\u001b[39m: \u001b[32mVector\u001b[39m[\u001b[32mString\u001b[39m] = \u001b[33mVector\u001b[39m(\u001b[32m\"My\"\u001b[39m, \u001b[32m\"dog\"\u001b[39m, \u001b[32m\"ate\"\u001b[39m, \u001b[32m\"my\"\u001b[39m, \u001b[32m\"homework\"\u001b[39m)\n",
       "\u001b[36mres97_13\u001b[39m: \u001b[32mVector\u001b[39m[\u001b[32mString\u001b[39m] = \u001b[33mVector\u001b[39m(\u001b[32m\"My\"\u001b[39m, \u001b[32m\"ate\"\u001b[39m, \u001b[32m\"dog\"\u001b[39m, \u001b[32m\"homework\"\u001b[39m, \u001b[32m\"my\"\u001b[39m)\n",
       "\u001b[36mres97_14\u001b[39m: \u001b[32mString\u001b[39m = \u001b[32m\"My\"\u001b[39m\n",
       "\u001b[36mres97_15\u001b[39m: \u001b[32mString\u001b[39m = \u001b[32m\"my\"\u001b[39m\n",
       "\u001b[36msVecString\u001b[39m: \u001b[32mString\u001b[39m = \u001b[32m\"My ate dog homework my \"\u001b[39m\n",
       "\u001b[36mcVec2\u001b[39m: \u001b[32mVector\u001b[39m[\u001b[32mChar\u001b[39m] = \u001b[33mVector\u001b[39m(\u001b[32m'f'\u001b[39m, \u001b[32m'z'\u001b[39m, \u001b[32m'g'\u001b[39m, \u001b[32m'a'\u001b[39m, \u001b[32m'p'\u001b[39m)\n",
       "\u001b[36miVec2\u001b[39m: \u001b[32mVector\u001b[39m[\u001b[32mInt\u001b[39m] = \u001b[33mVector\u001b[39m(\u001b[32m1\u001b[39m, \u001b[32m455\u001b[39m, \u001b[32m23\u001b[39m, \u001b[32m-8\u001b[39m, \u001b[32m4\u001b[39m, \u001b[32m9\u001b[39m, \u001b[32m12\u001b[39m, \u001b[32m2\u001b[39m)\n",
       "\u001b[36msVec2\u001b[39m: \u001b[32mVector\u001b[39m[\u001b[32mString\u001b[39m] = \u001b[33mVector\u001b[39m(\u001b[32m\"My\"\u001b[39m, \u001b[32m\"dog\"\u001b[39m, \u001b[32m\"ate\"\u001b[39m, \u001b[32m\"my\"\u001b[39m, \u001b[32m\"homework\"\u001b[39m)\n",
       "\u001b[36mallVec2\u001b[39m: \u001b[32mVector\u001b[39m[\u001b[32mVector\u001b[39m[\u001b[32mAny\u001b[39m]] = \u001b[33mVector\u001b[39m(\n",
       "  \u001b[33mVector\u001b[39m(f, z, g, a, p),\n",
       "  \u001b[33mVector\u001b[39m(1, 455, 23, -8, 4, 9, 12, 2),\n",
       "  \u001b[33mVector\u001b[39m(My, dog, ate, my, homework)\n",
       ")\n",
       "\u001b[36mallString\u001b[39m: \u001b[32mString\u001b[39m = \u001b[32m\"f z g a p 1 455 23 -8 4 9 12 2 My dog ate my homework \"\u001b[39m\n",
       "\u001b[36mv\u001b[39m: \u001b[32mVector\u001b[39m[\u001b[32mAny\u001b[39m] = \u001b[33mVector\u001b[39m(a, 45, silly, 76.4)\n",
       "defined \u001b[32mclass\u001b[39m \u001b[36mTemperature\u001b[39m\n",
       "defined \u001b[32mfunction\u001b[39m \u001b[36mtestFahrenheit\u001b[39m\n",
       "defined \u001b[32mfunction\u001b[39m \u001b[36mtestCelsius\u001b[39m\n",
       "defined \u001b[32mfunction\u001b[39m \u001b[36mtestKelvin\u001b[39m\n",
       "\u001b[36mt\u001b[39m: \u001b[32mwrapper\u001b[39m.\u001b[32mwrapper\u001b[39m.\u001b[32mTemperature\u001b[39m = $sess.cmd97Wrapper$Helper$Temperature@6cc392d0\n",
       "\u001b[36mres97_34\u001b[39m: \u001b[32mDouble\u001b[39m = \u001b[32m-40.0\u001b[39m\n",
       "\u001b[36mres97_36\u001b[39m: \u001b[32mDouble\u001b[39m = \u001b[32m574.5875\u001b[39m\n",
       "\u001b[36mres97_38\u001b[39m: \u001b[32mDouble\u001b[39m = \u001b[32m0.0\u001b[39m"
      ]
     },
     "execution_count": 98,
     "metadata": {},
     "output_type": "execute_result"
    }
   ],
   "source": [
    "// 1\n",
    "val cVec = Vector('f', 'z', 'g', 'a', 'p')\n",
    "cVec.sorted\n",
    "cVec.min\n",
    "cVec.max\n",
    "var cVecString = \"\"\n",
    "for(i <- cVec.sorted) {\n",
    "  cVecString += i + \" \"\n",
    "}\n",
    "\n",
    "val iVec = Vector(1, 455, 23, -8, 4, 9, 12, 2)\n",
    "iVec.sorted\n",
    "iVec.min\n",
    "iVec.max\n",
    "var iVecString = \"\"\n",
    "for(i <- iVec.sorted) {\n",
    "  iVecString += i + \" \"\n",
    "}\n",
    "\n",
    "val sVec = Vector(\"My\", \"dog\", \"ate\", \"my\", \"homework\")\n",
    "sVec.sorted\n",
    "sVec.min\n",
    "sVec.max\n",
    "var sVecString = \"\"\n",
    "for(i <- sVec.sorted) {\n",
    "  sVecString += i + \" \"\n",
    "}\n",
    "\n",
    "// 2\n",
    "val cVec2 = Vector('f', 'z', 'g', 'a', 'p')\n",
    "val iVec2 = Vector(1, 455, 23, -8, 4, 9, 12, 2)\n",
    "val sVec2 = Vector(\"My\", \"dog\", \"ate\", \"my\", \"homework\")\n",
    "val allVec2 = Vector(cVec2, iVec2, sVec2)\n",
    "\n",
    "var allString = \"\"\n",
    "for(outer <- allVec2) {\n",
    "  for(inner <- outer) {\n",
    "     allString += inner + \" \"\n",
    "  }\n",
    "}\n",
    "\n",
    "// 3\n",
    "val v = Vector('a', 45, \"silly\", 76.4)\n",
    "println(v)\n",
    "// v.max\n",
    "println(\"v contains 'Any'\")\n",
    "println(\"v.max is not defined\")\n",
    "\n",
    "// 4\n",
    "/*\n",
    "package com.atomicscala.BasicLibrary\n",
    "\n",
    "class WhizBang {\n",
    "  def cube(x:Int):Int = { x * x * x }\n",
    "  def bang(s:String):String = { s + \"!\" }\n",
    "}\n",
    "\n",
    "val wb = new WhizBang\n",
    "wb.cube(3) is 27\n",
    "wb.bang(\"pop\")\n",
    "*/\n",
    "\n",
    "// 5\n",
    "/*\n",
    "package com.atomicscala.Bodies\n",
    "\n",
    "class NoBody {\n",
    "  def who():String = {\n",
    "    \"Nobody's home\"\n",
    "  }\n",
    "}\n",
    "\n",
    "class SomeBody {\n",
    "  def name():String = {\n",
    "    \"Janet Doe\"\n",
    "  }\n",
    "  println(name + \" is SomeBody\")\n",
    "}\n",
    "\n",
    "class EveryBody {\n",
    "  val all = Vector(new SomeBody, new SomeBody, new SomeBody)\n",
    "}\n",
    "\n",
    "val nb = new NoBody\n",
    "nb.who is \"Nobody's home\"\n",
    "\n",
    "val sb = new SomeBody\n",
    "sb.name is \"Janet Doe\"\n",
    "\n",
    "val eb = new EveryBody\n",
    "var everyone = \"\"\n",
    "for(i <- eb.all) {\n",
    "  everyone += i.name + \", \"\n",
    "}\n",
    "*/\n",
    "\n",
    "// 6\n",
    "class Temperature {\n",
    "  var current = 0.0\n",
    "  var scale = \"f\"\n",
    "  def setFahrenheit(now:Double):Unit = {\n",
    "    current = now\n",
    "    scale = \"f\"\n",
    "  }\n",
    "  def setCelsius(now:Double):Unit = {\n",
    "    current = now\n",
    "    scale = \"c\"\n",
    "  }\n",
    "  def setKelvin(now:Double):Unit = {\n",
    "    current = now\n",
    "    scale = \"k\"\n",
    "  }\n",
    "  def getFahrenheit():Double = {\n",
    "    if(scale == \"f\") {\n",
    "      current\n",
    "    } else if(scale == \"c\" || scale == \"k\") {\n",
    "      getCelsius() * 9.0/5.0 + 32.0\n",
    "    } else {\n",
    "      -1.0\n",
    "    }\n",
    "  }\n",
    "  def getCelsius():Double = {\n",
    "    if(scale == \"c\") {\n",
    "      current\n",
    "    } else if(scale == \"f\") {\n",
    "      (current - 32.0) * 5.0/9.0\n",
    "    } else if(scale == \"k\") {\n",
    "      current - 273.15\n",
    "    } else {\n",
    "      -1.0\n",
    "    }\n",
    "  }\n",
    "  def getKelvin():Double = {\n",
    "    if(scale == \"k\") {\n",
    "      current\n",
    "    } else if(scale == \"f\" || scale == \"c\") {\n",
    "      getCelsius() + 273.15\n",
    "    } else {\n",
    "      -1.0\n",
    "    }\n",
    "  }\n",
    "}\n",
    "\n",
    "def testFahrenheit(temp:Double):Unit = {\n",
    "  // Convert back and forth to verify:\n",
    "  val t1 = new Temperature\n",
    "  t1.setFahrenheit(temp)\n",
    "  val t2 = new Temperature\n",
    "  t2.setCelsius(t1.getCelsius())\n",
    "  t2.getFahrenheit()\n",
    "  t2.setKelvin(t1.getKelvin())\n",
    "  t2.getFahrenheit()\n",
    "}\n",
    "\n",
    "def testCelsius(temp:Double):Unit = {\n",
    "  val t1 = new Temperature\n",
    "  t1.setCelsius(temp)\n",
    "  val t2 = new Temperature\n",
    "  t2.setFahrenheit(t1.getFahrenheit())\n",
    "  t2.getCelsius()\n",
    "  t2.setKelvin(t1.getKelvin())\n",
    "  t2.getCelsius()\n",
    "}\n",
    "\n",
    "def testKelvin(temp:Double):Unit = {\n",
    "  val t1 = new Temperature\n",
    "  t1.setKelvin(temp)\n",
    "  val t2 = new Temperature\n",
    "  t2.setFahrenheit(t1.getFahrenheit())\n",
    "  t2.getKelvin()\n",
    "  t2.setCelsius(t1.getCelsius())\n",
    "  t2.getKelvin()\n",
    "}\n",
    "\n",
    "val t = new Temperature\n",
    "t.setFahrenheit(-40.0)\n",
    "t.getCelsius() // \"Crossover\" temperature\n",
    "\n",
    "t.setFahrenheit(574.5875)\n",
    "t.getKelvin() // \"Crossover\" temperature\n",
    "\n",
    "t.setFahrenheit(32.0)\n",
    "t.getCelsius()\n",
    "\n",
    "testFahrenheit(100.0)\n",
    "testCelsius(100.0)\n",
    "testKelvin(100.0)"
   ]
  },
  {
   "cell_type": "code",
   "execution_count": 99,
   "metadata": {},
   "outputs": [
    {
     "name": "stdout",
     "output_type": "stream",
     "text": [
      "      \n",
      "  X   \n",
      "      \n",
      "      \n",
      "  X   \n",
      "      \n",
      "      \n",
      "  X   \n",
      "      \n",
      "O     \n",
      "  X   \n",
      "      \n",
      "O     \n",
      "  X   \n",
      "    X \n"
     ]
    },
    {
     "data": {
      "text/plain": [
       "defined \u001b[32mclass\u001b[39m \u001b[36mCell\u001b[39m\n",
       "defined \u001b[32mclass\u001b[39m \u001b[36mGrid\u001b[39m\n",
       "\u001b[36mgrid\u001b[39m: \u001b[32mwrapper\u001b[39m.\u001b[32mwrapper\u001b[39m.\u001b[32mGrid\u001b[39m = $sess.cmd98Wrapper$Helper$Grid@58432f93\n",
       "\u001b[36mres98_3\u001b[39m: \u001b[32mString\u001b[39m = \u001b[32m\"successful move\"\u001b[39m\n",
       "\u001b[36mres98_4\u001b[39m: \u001b[32mString\u001b[39m = \u001b[32m\"invalid move\"\u001b[39m\n",
       "\u001b[36mres98_5\u001b[39m: \u001b[32mString\u001b[39m = \u001b[32m\"invalid move\"\u001b[39m\n",
       "\u001b[36mres98_6\u001b[39m: \u001b[32mString\u001b[39m = \u001b[32m\"successful move\"\u001b[39m\n",
       "\u001b[36mres98_7\u001b[39m: \u001b[32mString\u001b[39m = \u001b[32m\"successful move\"\u001b[39m"
      ]
     },
     "execution_count": 99,
     "metadata": {},
     "output_type": "execute_result"
    }
   ],
   "source": [
    "// 7\n",
    "class Cell {\n",
    "  var entry = ' '\n",
    "  def set(e:Char):String = {\n",
    "    if(entry==' ' && (e=='X' || e=='O')) {\n",
    "      entry = e\n",
    "      \"successful move\"\n",
    "    } else\n",
    "      \"invalid move\"\n",
    "  }\n",
    "}\n",
    "\n",
    "class Grid {\n",
    "  val cells = Vector(\n",
    "    Vector(new Cell, new Cell, new Cell),\n",
    "    Vector(new Cell, new Cell, new Cell),\n",
    "    Vector(new Cell, new Cell, new Cell)\n",
    "  )\n",
    "  def play(e:Char, x:Int, y:Int):String = {\n",
    "    val status = {\n",
    "      if(x < 0 || x > 2 || y < 0 || y > 2)\n",
    "        \"invalid move\"\n",
    "      else\n",
    "        cells(x)(y).set(e)\n",
    "    }\n",
    "    showBoard()\n",
    "    status\n",
    "  }\n",
    "  def showBoard():Unit = {\n",
    "    for(row <- cells) {\n",
    "      for(cell <- row) {\n",
    "        print(cell.entry + \" \")\n",
    "      }\n",
    "      println\n",
    "    }\n",
    "  }\n",
    "}\n",
    "\n",
    "val grid = new Grid\n",
    "grid.play('X', 1, 1)\n",
    "grid.play('X', 1, 1)\n",
    "grid.play('O', 1, 3)\n",
    "grid.play('O', 0, 0)\n",
    "grid.play('X', 2, 2)"
   ]
  },
  {
   "cell_type": "code",
   "execution_count": 100,
   "metadata": {},
   "outputs": [
    {
     "name": "stdout",
     "output_type": "stream",
     "text": [
      "X     \n",
      "      \n",
      "      \n",
      "X X   \n",
      "      \n",
      "      \n",
      "X X X \n",
      "      \n",
      "      \n",
      "  X   \n",
      "      \n",
      "      \n",
      "  X   \n",
      "  X   \n",
      "      \n",
      "  X   \n",
      "  X   \n",
      "  X   \n",
      "X     \n",
      "      \n",
      "      \n",
      "X     \n",
      "  X   \n",
      "      \n",
      "X     \n",
      "  X   \n",
      "    X \n",
      "    X \n",
      "      \n",
      "      \n",
      "    X \n",
      "  X   \n",
      "      \n",
      "    X \n",
      "  X   \n",
      "X     \n",
      "    X \n",
      "      \n",
      "      \n",
      "    X \n",
      "  O   \n",
      "      \n",
      "    X \n",
      "  O   \n",
      "X     \n",
      "O     \n",
      "      \n",
      "      \n",
      "O O   \n",
      "      \n",
      "      \n",
      "O O O \n",
      "      \n",
      "      \n"
     ]
    },
    {
     "data": {
      "text/plain": [
       "defined \u001b[32mclass\u001b[39m \u001b[36mCell\u001b[39m\n",
       "defined \u001b[32mclass\u001b[39m \u001b[36mGrid\u001b[39m\n",
       "\u001b[36mgrid\u001b[39m: \u001b[32mwrapper\u001b[39m.\u001b[32mwrapper\u001b[39m.\u001b[32mGrid\u001b[39m = $sess.cmd99Wrapper$Helper$Grid@52234712\n",
       "\u001b[36mres99_3\u001b[39m: \u001b[32mString\u001b[39m = \u001b[32m\"successful move\"\u001b[39m\n",
       "\u001b[36mres99_4\u001b[39m: \u001b[32mString\u001b[39m = \u001b[32m\"successful move\"\u001b[39m\n",
       "\u001b[36mres99_5\u001b[39m: \u001b[32mString\u001b[39m = \u001b[32m\"successful move\"\u001b[39m\n",
       "\u001b[36mres99_6\u001b[39m: \u001b[32mBoolean\u001b[39m = \u001b[32mtrue\u001b[39m\n",
       "\u001b[36mgrid2\u001b[39m: \u001b[32mwrapper\u001b[39m.\u001b[32mwrapper\u001b[39m.\u001b[32mGrid\u001b[39m = $sess.cmd99Wrapper$Helper$Grid@352badc1\n",
       "\u001b[36mres99_8\u001b[39m: \u001b[32mString\u001b[39m = \u001b[32m\"successful move\"\u001b[39m\n",
       "\u001b[36mres99_9\u001b[39m: \u001b[32mString\u001b[39m = \u001b[32m\"successful move\"\u001b[39m\n",
       "\u001b[36mres99_10\u001b[39m: \u001b[32mString\u001b[39m = \u001b[32m\"successful move\"\u001b[39m\n",
       "\u001b[36mres99_11\u001b[39m: \u001b[32mBoolean\u001b[39m = \u001b[32mtrue\u001b[39m\n",
       "\u001b[36mgrid3\u001b[39m: \u001b[32mwrapper\u001b[39m.\u001b[32mwrapper\u001b[39m.\u001b[32mGrid\u001b[39m = $sess.cmd99Wrapper$Helper$Grid@948f133\n",
       "\u001b[36mres99_13\u001b[39m: \u001b[32mString\u001b[39m = \u001b[32m\"successful move\"\u001b[39m\n",
       "\u001b[36mres99_14\u001b[39m: \u001b[32mString\u001b[39m = \u001b[32m\"successful move\"\u001b[39m\n",
       "\u001b[36mres99_15\u001b[39m: \u001b[32mString\u001b[39m = \u001b[32m\"successful move\"\u001b[39m\n",
       "\u001b[36mres99_16\u001b[39m: \u001b[32mBoolean\u001b[39m = \u001b[32mtrue\u001b[39m\n",
       "\u001b[36mgrid4\u001b[39m: \u001b[32mwrapper\u001b[39m.\u001b[32mwrapper\u001b[39m.\u001b[32mGrid\u001b[39m = $sess.cmd99Wrapper$Helper$Grid@776a4282\n",
       "\u001b[36mres99_18\u001b[39m: \u001b[32mString\u001b[39m = \u001b[32m\"successful move\"\u001b[39m\n",
       "\u001b[36mres99_19\u001b[39m: \u001b[32mString\u001b[39m = \u001b[32m\"successful move\"\u001b[39m\n",
       "\u001b[36mres99_20\u001b[39m: \u001b[32mString\u001b[39m = \u001b[32m\"successful move\"\u001b[39m\n",
       "\u001b[36mres99_21\u001b[39m: \u001b[32mBoolean\u001b[39m = \u001b[32mtrue\u001b[39m\n",
       "\u001b[36mgrid5\u001b[39m: \u001b[32mwrapper\u001b[39m.\u001b[32mwrapper\u001b[39m.\u001b[32mGrid\u001b[39m = $sess.cmd99Wrapper$Helper$Grid@3fb980aa\n",
       "\u001b[36mres99_23\u001b[39m: \u001b[32mString\u001b[39m = \u001b[32m\"successful move\"\u001b[39m\n",
       "\u001b[36mres99_24\u001b[39m: \u001b[32mString\u001b[39m = \u001b[32m\"successful move\"\u001b[39m\n",
       "\u001b[36mres99_25\u001b[39m: \u001b[32mString\u001b[39m = \u001b[32m\"successful move\"\u001b[39m\n",
       "\u001b[36mres99_26\u001b[39m: \u001b[32mBoolean\u001b[39m = \u001b[32mfalse\u001b[39m\n",
       "\u001b[36mgrid6\u001b[39m: \u001b[32mwrapper\u001b[39m.\u001b[32mwrapper\u001b[39m.\u001b[32mGrid\u001b[39m = $sess.cmd99Wrapper$Helper$Grid@57947739\n",
       "\u001b[36mres99_28\u001b[39m: \u001b[32mString\u001b[39m = \u001b[32m\"successful move\"\u001b[39m\n",
       "\u001b[36mres99_29\u001b[39m: \u001b[32mString\u001b[39m = \u001b[32m\"successful move\"\u001b[39m\n",
       "\u001b[36mres99_30\u001b[39m: \u001b[32mString\u001b[39m = \u001b[32m\"successful move\"\u001b[39m\n",
       "\u001b[36mres99_31\u001b[39m: \u001b[32mBoolean\u001b[39m = \u001b[32mtrue\u001b[39m"
      ]
     },
     "execution_count": 100,
     "metadata": {},
     "output_type": "execute_result"
    }
   ],
   "source": [
    "// 8\n",
    "class Cell {\n",
    "  var entry = ' '\n",
    "  def set(e:Char):String = {\n",
    "    if(entry==' ' && (e=='X' || e=='O')) {\n",
    "      entry = e\n",
    "      \"successful move\"\n",
    "    } else\n",
    "      \"invalid move\"\n",
    "  }\n",
    "}\n",
    "\n",
    "class Grid {\n",
    "  val cells = Vector(\n",
    "    Vector(new Cell, new Cell, new Cell),\n",
    "    Vector(new Cell, new Cell, new Cell),\n",
    "    Vector(new Cell, new Cell, new Cell)\n",
    "  )\n",
    "  def play(e:Char, x:Int, y:Int):String = {\n",
    "    val status = {\n",
    "      if(x < 0 || x > 2 || y < 0 || y > 2)\n",
    "        \"invalid move\"\n",
    "      else\n",
    "        cells(x)(y).set(e)\n",
    "    }\n",
    "    showBoard()\n",
    "    status\n",
    "  }\n",
    "  def showBoard():Unit = {\n",
    "    for(row <- cells) {\n",
    "      for(cell <- row) {\n",
    "        print(cell.entry + \" \")\n",
    "      }\n",
    "      println\n",
    "    }\n",
    "  }\n",
    "  def checkFor3(row:Vector[Cell]):Boolean = {\n",
    "    var countX = 0\n",
    "    var countO = 0\n",
    "    for(c <- row) {\n",
    "      if(c.entry == 'X') {\n",
    "        countX = countX + 1\n",
    "      }\n",
    "      else if(c.entry == 'O') {\n",
    "        countO = countO + 1\n",
    "      }\n",
    "    }\n",
    "    if(countX == 3) true\n",
    "        else if(countO == 3) true\n",
    "    else false\n",
    "  }\n",
    "  def checkWinner():Boolean = {\n",
    "    for(row <- cells) {\n",
    "      if(checkFor3(row)) return true\n",
    "    }\n",
    "    // transpose (to check columns)\n",
    "    for(row <- cells.transpose) {\n",
    "      if(checkFor3(row)) return true\n",
    "    }\n",
    "    // check diagonal\n",
    "    val diag1 = Vector(cells(0)(0), cells(1)(1), cells(2)(2))\n",
    "    if(checkFor3(diag1)) return true\n",
    "    val diag2 = Vector(cells(0)(2), cells(1)(1), cells(2)(0))\n",
    "    if(checkFor3(diag2)) return true\n",
    "    false\n",
    "  }\n",
    "}\n",
    "\n",
    "val grid = new Grid\n",
    "grid.play('X', 0, 0)\n",
    "grid.play('X', 0, 1)\n",
    "grid.play('X', 0, 2)\n",
    "grid.checkWinner()\n",
    "\n",
    "val grid2 = new Grid\n",
    "grid2.play('X', 0, 1)\n",
    "grid2.play('X', 1, 1)\n",
    "grid2.play('X', 2, 1)\n",
    "grid2.checkWinner()\n",
    "\n",
    "val grid3 = new Grid\n",
    "grid3.play('X', 0, 0)\n",
    "grid3.play('X', 1, 1)\n",
    "grid3.play('X', 2, 2)\n",
    "grid3.checkWinner()\n",
    "\n",
    "val grid4 = new Grid\n",
    "grid4.play('X', 0, 2)\n",
    "grid4.play('X', 1, 1)\n",
    "grid4.play('X', 2, 0)\n",
    "grid4.checkWinner()\n",
    "\n",
    "// need to be all same symbol\n",
    "val grid5 = new Grid\n",
    "grid5.play('X', 0, 2)\n",
    "grid5.play('O', 1, 1)\n",
    "grid5.play('X', 2, 0)\n",
    "grid5.checkWinner()\n",
    "\n",
    "// needs to work for O too!\n",
    "val grid6 = new Grid\n",
    "grid6.play('O', 0, 0)\n",
    "grid6.play('O', 0, 1)\n",
    "grid6.play('O', 0, 2)\n",
    "grid6.checkWinner()"
   ]
  },
  {
   "cell_type": "markdown",
   "metadata": {},
   "source": [
    "#### grp"
   ]
  }
 ],
 "metadata": {
  "kernelspec": {
   "display_name": "Scala",
   "language": "scala",
   "name": "scala"
  },
  "language_info": {
   "codemirror_mode": "text/x-scala",
   "file_extension": ".scala",
   "mimetype": "text/x-scala",
   "name": "scala211",
   "nbconvert_exporter": "script",
   "pygments_lexer": "scala",
   "version": "2.11.11"
  }
 },
 "nbformat": 4,
 "nbformat_minor": 2
}
