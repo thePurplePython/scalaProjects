{
 "cells": [
  {
   "cell_type": "markdown",
   "metadata": {},
   "source": [
    "#### grp"
   ]
  },
  {
   "cell_type": "markdown",
   "metadata": {},
   "source": [
    "# Atomic Scala Atoms & Exercises (up to Summary 1)"
   ]
  },
  {
   "cell_type": "markdown",
   "metadata": {},
   "source": [
    "https://www.scala-lang.org/"
   ]
  },
  {
   "cell_type": "code",
   "execution_count": 1,
   "metadata": {},
   "outputs": [
    {
     "data": {
      "text/plain": [
       "\u001b[36mres0\u001b[39m: \u001b[32mString\u001b[39m = \u001b[32m\"version 2.11.11\"\u001b[39m"
      ]
     },
     "execution_count": 1,
     "metadata": {},
     "output_type": "execute_result"
    }
   ],
   "source": [
    "util.Properties.versionString"
   ]
  },
  {
   "cell_type": "markdown",
   "metadata": {},
   "source": [
    "## 1. Running Scala:\n",
    "-  via REPL or IDE\n",
    "-  _.scala_ file extension"
   ]
  },
  {
   "cell_type": "markdown",
   "metadata": {},
   "source": [
    "### scala version"
   ]
  },
  {
   "cell_type": "code",
   "execution_count": 1,
   "metadata": {},
   "outputs": [
    {
     "data": {
      "text/plain": [
       "\u001b[36mres0\u001b[39m: \u001b[32mString\u001b[39m = \u001b[32m\"version 2.11.11\"\u001b[39m"
      ]
     },
     "execution_count": 1,
     "metadata": {},
     "output_type": "execute_result"
    }
   ],
   "source": [
    "util.Properties.versionString"
   ]
  },
  {
   "cell_type": "markdown",
   "metadata": {},
   "source": [
    "### arithmetic"
   ]
  },
  {
   "cell_type": "code",
   "execution_count": 2,
   "metadata": {},
   "outputs": [
    {
     "data": {
      "text/plain": [
       "\u001b[36mres1\u001b[39m: \u001b[32mDouble\u001b[39m = \u001b[32m474.6\u001b[39m"
      ]
     },
     "execution_count": 2,
     "metadata": {},
     "output_type": "execute_result"
    }
   ],
   "source": [
    "42 * 11.3"
   ]
  },
  {
   "cell_type": "markdown",
   "metadata": {},
   "source": [
    "### comment"
   ]
  },
  {
   "cell_type": "code",
   "execution_count": 3,
   "metadata": {},
   "outputs": [
    {
     "data": {
      "text/plain": [
       "\u001b[36mres2_0\u001b[39m: \u001b[32mInt\u001b[39m = \u001b[32m1974\u001b[39m\n",
       "\u001b[36mres2_1\u001b[39m: \u001b[32mInt\u001b[39m = \u001b[32m89\u001b[39m"
      ]
     },
     "execution_count": 3,
     "metadata": {},
     "output_type": "execute_result"
    }
   ],
   "source": [
    "47 * 42 // single-line comment\n",
    "47 + 42"
   ]
  },
  {
   "cell_type": "markdown",
   "metadata": {},
   "source": [
    "### multiline comment"
   ]
  },
  {
   "cell_type": "code",
   "execution_count": 4,
   "metadata": {},
   "outputs": [
    {
     "data": {
      "text/plain": [
       "\u001b[36mres3\u001b[39m: \u001b[32mInt\u001b[39m = \u001b[32m89\u001b[39m"
      ]
     },
     "execution_count": 4,
     "metadata": {},
     "output_type": "execute_result"
    }
   ],
   "source": [
    "47 + 42 /* a multiline comment\n",
    "doesn't care\n",
    "about newlines */"
   ]
  },
  {
   "cell_type": "markdown",
   "metadata": {},
   "source": [
    "### print line"
   ]
  },
  {
   "cell_type": "code",
   "execution_count": 5,
   "metadata": {},
   "outputs": [
    {
     "name": "stdout",
     "output_type": "stream",
     "text": [
      "hello, scala!\n"
     ]
    }
   ],
   "source": [
    "println(\"hello, scala!\")"
   ]
  },
  {
   "cell_type": "markdown",
   "metadata": {},
   "source": [
    "## 2. Values:\n",
    "-  holds information (**immutable**)"
   ]
  },
  {
   "cell_type": "code",
   "execution_count": 6,
   "metadata": {},
   "outputs": [
    {
     "name": "stdout",
     "output_type": "stream",
     "text": [
      "(11,1.4,a value)\n"
     ]
    },
    {
     "data": {
      "text/plain": [
       "\u001b[36mwhole\u001b[39m: \u001b[32mInt\u001b[39m = \u001b[32m11\u001b[39m\n",
       "\u001b[36mfractional\u001b[39m: \u001b[32mDouble\u001b[39m = \u001b[32m1.4\u001b[39m\n",
       "\u001b[36mwords\u001b[39m: \u001b[32mString\u001b[39m = \u001b[32m\"a value\"\u001b[39m"
      ]
     },
     "execution_count": 6,
     "metadata": {},
     "output_type": "execute_result"
    }
   ],
   "source": [
    "val whole = 11\n",
    "val fractional = 1.4\n",
    "val words = \"a value\"\n",
    "\n",
    "println(whole, fractional, words)"
   ]
  },
  {
   "cell_type": "markdown",
   "metadata": {},
   "source": [
    "#### exercises"
   ]
  },
  {
   "cell_type": "code",
   "execution_count": 7,
   "metadata": {},
   "outputs": [
    {
     "name": "stdout",
     "output_type": "stream",
     "text": [
      "17\n",
      "you cannot change a val\n",
      "ABC1234\n",
      "you cannot change a val\n",
      "15.56\n"
     ]
    },
    {
     "data": {
      "text/plain": [
       "\u001b[36mv1\u001b[39m: \u001b[32mInt\u001b[39m = \u001b[32m17\u001b[39m\n",
       "\u001b[36mv2\u001b[39m: \u001b[32mString\u001b[39m = \u001b[32m\"ABC1234\"\u001b[39m\n",
       "\u001b[36mv3\u001b[39m: \u001b[32mDouble\u001b[39m = \u001b[32m15.56\u001b[39m"
      ]
     },
     "execution_count": 7,
     "metadata": {},
     "output_type": "execute_result"
    }
   ],
   "source": [
    "// 1\n",
    "val v1 = 17\n",
    "println(v1)\n",
    "\n",
    "// 2\n",
    "// v1 = 20\n",
    "println(\"you cannot change a val\")\n",
    "\n",
    "// 3\n",
    "val v2 = \"ABC1234\"\n",
    "println(v2)\n",
    "\n",
    "// 4\n",
    "// v2 = \"DEF1234\"\n",
    "println(\"you cannot change a val\")\n",
    "\n",
    "// 5\n",
    "val v3 = 15.56\n",
    "println(v3)"
   ]
  },
  {
   "cell_type": "markdown",
   "metadata": {},
   "source": [
    "## 3. Data Types:\n",
    "-  _Double_ => fractional number\n",
    "-  _Int_ => whole number\n",
    "-  _String_ => sequence of characters\n",
    "-  _Boolean_ => true or false"
   ]
  },
  {
   "cell_type": "markdown",
   "metadata": {},
   "source": [
    "### add different types"
   ]
  },
  {
   "cell_type": "code",
   "execution_count": 8,
   "metadata": {},
   "outputs": [
    {
     "data": {
      "text/plain": [
       "\u001b[36mres7\u001b[39m: \u001b[32mString\u001b[39m = \u001b[32m\"5.9sally\"\u001b[39m"
      ]
     },
     "execution_count": 8,
     "metadata": {},
     "output_type": "execute_result"
    }
   ],
   "source": [
    "5.9 + \"sally\""
   ]
  },
  {
   "cell_type": "markdown",
   "metadata": {},
   "source": [
    "### cannot multiply mix types"
   ]
  },
  {
   "cell_type": "code",
   "execution_count": 8,
   "metadata": {},
   "outputs": [],
   "source": [
    "// 5.9 * \"sally\""
   ]
  },
  {
   "cell_type": "markdown",
   "metadata": {},
   "source": [
    "### specify type (or else Scala will perform *type inference*)"
   ]
  },
  {
   "cell_type": "code",
   "execution_count": 9,
   "metadata": {},
   "outputs": [
    {
     "data": {
      "text/plain": [
       "\u001b[36mn\u001b[39m: \u001b[32mInt\u001b[39m = \u001b[32m1\u001b[39m\n",
       "\u001b[36mp\u001b[39m: \u001b[32mDouble\u001b[39m = \u001b[32m1.2\u001b[39m"
      ]
     },
     "execution_count": 9,
     "metadata": {},
     "output_type": "execute_result"
    }
   ],
   "source": [
    "val n: Int = 1\n",
    "val p: Double = 1.2"
   ]
  },
  {
   "cell_type": "markdown",
   "metadata": {},
   "source": [
    "### basic types"
   ]
  },
  {
   "cell_type": "code",
   "execution_count": 10,
   "metadata": {},
   "outputs": [
    {
     "name": "stdout",
     "output_type": "stream",
     "text": [
      "(11,1.4,true,a value)\n",
      "triple quotes let\n",
      "you have many lines\n",
      "in your string\n"
     ]
    },
    {
     "data": {
      "text/plain": [
       "\u001b[36mwhole\u001b[39m: \u001b[32mInt\u001b[39m = \u001b[32m11\u001b[39m\n",
       "\u001b[36mfractional\u001b[39m: \u001b[32mDouble\u001b[39m = \u001b[32m1.4\u001b[39m\n",
       "\u001b[36mtrueOrFalse\u001b[39m: \u001b[32mBoolean\u001b[39m = \u001b[32mtrue\u001b[39m\n",
       "\u001b[36mwords\u001b[39m: \u001b[32mString\u001b[39m = \u001b[32m\"a value\"\u001b[39m\n",
       "\u001b[36mlines\u001b[39m: \u001b[32mString\u001b[39m = \u001b[32m\"\"\"\n",
       "triple quotes let\n",
       "you have many lines\n",
       "in your string\n",
       "\"\"\"\u001b[39m"
      ]
     },
     "execution_count": 10,
     "metadata": {},
     "output_type": "execute_result"
    }
   ],
   "source": [
    "val whole: Int = 11\n",
    "val fractional: Double = 1.4\n",
    "// true or false:\n",
    "val trueOrFalse: Boolean = true\n",
    "val words: String = \"a value\"\n",
    "val lines: String = \"\"\"triple quotes let\n",
    "you have many lines\n",
    "in your string\"\"\"\n",
    "\n",
    "println(whole, fractional, trueOrFalse, words)\n",
    "println(lines)"
   ]
  },
  {
   "cell_type": "markdown",
   "metadata": {},
   "source": [
    "### mix numbers"
   ]
  },
  {
   "cell_type": "code",
   "execution_count": 11,
   "metadata": {},
   "outputs": [
    {
     "data": {
      "text/plain": [
       "\u001b[36mn\u001b[39m: \u001b[32mDouble\u001b[39m = \u001b[32m2.2\u001b[39m"
      ]
     },
     "execution_count": 11,
     "metadata": {},
     "output_type": "execute_result"
    }
   ],
   "source": [
    "val n = 1 + 1.2"
   ]
  },
  {
   "cell_type": "markdown",
   "metadata": {},
   "source": [
    "#### exercises"
   ]
  },
  {
   "cell_type": "code",
   "execution_count": 12,
   "metadata": {},
   "outputs": [
    {
     "name": "stdout",
     "output_type": "stream",
     "text": [
      "5\n",
      "ABC1234\n",
      "5.4\n",
      "true\n",
      "apache \n",
      "spark \n",
      "is \n",
      "written \n",
      "in \n",
      "scala\n",
      "b2 cannot be a boolean (type mismatch) because it is a string\n",
      "i2 cannot be an int (type mismatch) because it is a double\n",
      "15.0\n"
     ]
    },
    {
     "data": {
      "text/plain": [
       "\u001b[36mi\u001b[39m: \u001b[32mInt\u001b[39m = \u001b[32m5\u001b[39m\n",
       "\u001b[36ms\u001b[39m: \u001b[32mString\u001b[39m = \u001b[32m\"ABC1234\"\u001b[39m\n",
       "\u001b[36md\u001b[39m: \u001b[32mDouble\u001b[39m = \u001b[32m5.4\u001b[39m\n",
       "\u001b[36mb\u001b[39m: \u001b[32mBoolean\u001b[39m = \u001b[32mtrue\u001b[39m\n",
       "\u001b[36ms2\u001b[39m: \u001b[32mString\u001b[39m = \u001b[32m\"\"\"\n",
       "apache \n",
       "spark \n",
       "is \n",
       "written \n",
       "in \n",
       "scala\n",
       "\"\"\"\u001b[39m\n",
       "\u001b[36md2\u001b[39m: \u001b[32mDouble\u001b[39m = \u001b[32m15.0\u001b[39m"
      ]
     },
     "execution_count": 12,
     "metadata": {},
     "output_type": "execute_result"
    }
   ],
   "source": [
    "// 1\n",
    "val i: Int = 5\n",
    "println(i)\n",
    "\n",
    "// 2\n",
    "val s: String = \"ABC1234\"\n",
    "println(s)\n",
    "\n",
    "// 3\n",
    "val d: Double = 5.4\n",
    "println(d)\n",
    "\n",
    "// 4\n",
    "val b: Boolean = true\n",
    "println(b)\n",
    "\n",
    "// 5\n",
    "val s2: String = \"\"\"apache \n",
    "spark \n",
    "is \n",
    "written \n",
    "in \n",
    "scala\"\"\"\n",
    "println(s2)\n",
    "\n",
    "// 6\n",
    "// val b2:Boolean = \"maybe\"\n",
    "println(\"b2 cannot be a boolean (type mismatch) because it is a string\")\n",
    "\n",
    "// 7\n",
    "// val i2:Int = 15.4\n",
    "println(\"i2 cannot be an int (type mismatch) because it is a double\")\n",
    "\n",
    "// 8\n",
    "val d2: Double = 15\n",
    "println(d2) // scala makes whole number a double"
   ]
  },
  {
   "cell_type": "markdown",
   "metadata": {},
   "source": [
    "## 4. Variables:\n",
    "-  holds information (**mutable**)"
   ]
  },
  {
   "cell_type": "markdown",
   "metadata": {},
   "source": [
    "#### exercises"
   ]
  },
  {
   "cell_type": "code",
   "execution_count": 18,
   "metadata": {},
   "outputs": [
    {
     "name": "stdout",
     "output_type": "stream",
     "text": [
      "10\n",
      "10\n",
      "10\n",
      "15\n",
      "20\n"
     ]
    },
    {
     "data": {
      "text/plain": [
       "\u001b[36mv\u001b[39m: \u001b[32mInt\u001b[39m = \u001b[32m5\u001b[39m\n",
       "\u001b[36mv1\u001b[39m: \u001b[32mInt\u001b[39m = \u001b[32m20\u001b[39m\n",
       "\u001b[36mconstantv1\u001b[39m: \u001b[32mInt\u001b[39m = \u001b[32m10\u001b[39m\n",
       "\u001b[36mv2\u001b[39m: \u001b[32mInt\u001b[39m = \u001b[32m15\u001b[39m"
      ]
     },
     "execution_count": 18,
     "metadata": {},
     "output_type": "execute_result"
    }
   ],
   "source": [
    "// 1\n",
    "val v = 5\n",
    "// v = 10\n",
    "\n",
    "// 2\n",
    "var v1: Int = 5\n",
    "v1 = 10\n",
    "val constantv1 = v1\n",
    "println(v1)\n",
    "println(constantv1)\n",
    "\n",
    "// 3\n",
    "v1 = 15\n",
    "println(constantv1)\n",
    "\n",
    "// 4\n",
    "var v2: Int = v1\n",
    "v1 = 20\n",
    "println(v2)\n",
    "println(v1)"
   ]
  },
  {
   "cell_type": "markdown",
   "metadata": {},
   "source": [
    "## 5. Expressions:\n",
    "-  produces a result"
   ]
  },
  {
   "cell_type": "markdown",
   "metadata": {},
   "source": [
    "### expressions"
   ]
  },
  {
   "cell_type": "code",
   "execution_count": 19,
   "metadata": {},
   "outputs": [
    {
     "data": {
      "text/plain": [
       "\u001b[36mi\u001b[39m: \u001b[32mInt\u001b[39m = \u001b[32m1\u001b[39m\n",
       "\u001b[36mj\u001b[39m: \u001b[32mInt\u001b[39m = \u001b[32m2\u001b[39m"
      ]
     },
     "execution_count": 19,
     "metadata": {},
     "output_type": "execute_result"
    }
   ],
   "source": [
    "val i = 1; val j = 2"
   ]
  },
  {
   "cell_type": "code",
   "execution_count": 20,
   "metadata": {},
   "outputs": [
    {
     "data": {
      "text/plain": [
       "\u001b[36mres19\u001b[39m: \u001b[32mInt\u001b[39m = \u001b[32m3\u001b[39m"
      ]
     },
     "execution_count": 20,
     "metadata": {},
     "output_type": "execute_result"
    }
   ],
   "source": [
    "i + j"
   ]
  },
  {
   "cell_type": "markdown",
   "metadata": {},
   "source": [
    "### multiline expressions"
   ]
  },
  {
   "cell_type": "code",
   "execution_count": 21,
   "metadata": {},
   "outputs": [
    {
     "name": "stdout",
     "output_type": "stream",
     "text": [
      "4\n"
     ]
    },
    {
     "data": {
      "text/plain": [
       "\u001b[36mc\u001b[39m: \u001b[32mInt\u001b[39m = \u001b[32m4\u001b[39m"
      ]
     },
     "execution_count": 21,
     "metadata": {},
     "output_type": "execute_result"
    }
   ],
   "source": [
    "val c = {\n",
    "    val i1 = 2\n",
    "    val j1 = 4/i1\n",
    "    i1 * j1\n",
    "}\n",
    "println(c)"
   ]
  },
  {
   "cell_type": "markdown",
   "metadata": {},
   "source": [
    "### unit (expression that does not produce a value)"
   ]
  },
  {
   "cell_type": "code",
   "execution_count": 24,
   "metadata": {},
   "outputs": [],
   "source": [
    "val f = {} // data type here is a unit"
   ]
  },
  {
   "cell_type": "markdown",
   "metadata": {},
   "source": [
    "#### exercises"
   ]
  },
  {
   "cell_type": "code",
   "execution_count": 27,
   "metadata": {},
   "outputs": [
    {
     "name": "stdout",
     "output_type": "stream",
     "text": [
      "5280\n",
      "1760.0\n",
      "1.1363636363636365\n"
     ]
    },
    {
     "data": {
      "text/plain": [
       "\u001b[36mfeetPerMile\u001b[39m: \u001b[32mInt\u001b[39m = \u001b[32m5280\u001b[39m\n",
       "\u001b[36myardsPerMile\u001b[39m: \u001b[32mDouble\u001b[39m = \u001b[32m1760.0\u001b[39m\n",
       "\u001b[36mmiles\u001b[39m: \u001b[32mDouble\u001b[39m = \u001b[32m1.1363636363636365\u001b[39m"
      ]
     },
     "execution_count": 27,
     "metadata": {},
     "output_type": "execute_result"
    }
   ],
   "source": [
    "// 1\n",
    "val feetPerMile = 5280\n",
    "println(feetPerMile)\n",
    "\n",
    "// 2\n",
    "val yardsPerMile = feetPerMile / 3.0\n",
    "println(yardsPerMile)\n",
    "\n",
    "// 3\n",
    "val miles = 2000 / yardsPerMile\n",
    "println(miles)"
   ]
  },
  {
   "cell_type": "code",
   "execution_count": 29,
   "metadata": {},
   "outputs": [
    {
     "name": "stdout",
     "output_type": "stream",
     "text": [
      "1760.0\n",
      "1.1363636363636365\n"
     ]
    },
    {
     "data": {
      "text/plain": [
       "\u001b[36myards2\u001b[39m: \u001b[32mDouble\u001b[39m = \u001b[32m1760.0\u001b[39m\n",
       "\u001b[36mmiles2\u001b[39m: \u001b[32mDouble\u001b[39m = \u001b[32m1.1363636363636365\u001b[39m"
      ]
     },
     "execution_count": 29,
     "metadata": {},
     "output_type": "execute_result"
    }
   ],
   "source": [
    "// 4\n",
    "val yards2: Double = {\n",
    "  val feetPerMile = 5280\n",
    "  feetPerMile/3.0\n",
    "}\n",
    "val miles2: Double = 2000/yards2\n",
    "\n",
    "println(yards2)\n",
    "println(miles2)"
   ]
  },
  {
   "cell_type": "markdown",
   "metadata": {},
   "source": [
    "## 6. Conditional Expressions:\n",
    "- if and else expressions"
   ]
  },
  {
   "cell_type": "markdown",
   "metadata": {},
   "source": [
    "### if statement"
   ]
  },
  {
   "cell_type": "code",
   "execution_count": 1,
   "metadata": {},
   "outputs": [
    {
     "name": "stdout",
     "output_type": "stream",
     "text": [
      "It's true!\n"
     ]
    }
   ],
   "source": [
    "if(1 > 0) {\n",
    "    println(\"It's true!\")\n",
    "}"
   ]
  },
  {
   "cell_type": "markdown",
   "metadata": {},
   "source": [
    "### separate boolean expressions"
   ]
  },
  {
   "cell_type": "code",
   "execution_count": 2,
   "metadata": {},
   "outputs": [
    {
     "name": "stdout",
     "output_type": "stream",
     "text": [
      "It's true!\n"
     ]
    },
    {
     "data": {
      "text/plain": [
       "\u001b[36mx\u001b[39m: \u001b[32mBoolean\u001b[39m = \u001b[32mtrue\u001b[39m"
      ]
     },
     "execution_count": 2,
     "metadata": {},
     "output_type": "execute_result"
    }
   ],
   "source": [
    "val x:Boolean = {1 > 0}\n",
    "\n",
    "if (x) {\n",
    "    println(\"It's true!\")\n",
    "}"
   ]
  },
  {
   "cell_type": "code",
   "execution_count": 6,
   "metadata": {},
   "outputs": [
    {
     "name": "stdout",
     "output_type": "stream",
     "text": [
      "It's false\n"
     ]
    },
    {
     "data": {
      "text/plain": [
       "\u001b[36my\u001b[39m: \u001b[32mBoolean\u001b[39m = \u001b[32mfalse\u001b[39m"
      ]
     },
     "execution_count": 6,
     "metadata": {},
     "output_type": "execute_result"
    }
   ],
   "source": [
    "val y:Boolean = {11 > 12}\n",
    "\n",
    "if (!y) {\n",
    "    println(\"It's false\")\n",
    "}"
   ]
  },
  {
   "cell_type": "markdown",
   "metadata": {},
   "source": [
    "### if else statements"
   ]
  },
  {
   "cell_type": "code",
   "execution_count": 7,
   "metadata": {},
   "outputs": [
    {
     "name": "stdout",
     "output_type": "stream",
     "text": [
      "It's false\n"
     ]
    },
    {
     "data": {
      "text/plain": [
       "\u001b[36mz\u001b[39m: \u001b[32mBoolean\u001b[39m = \u001b[32mfalse\u001b[39m"
      ]
     },
     "execution_count": 7,
     "metadata": {},
     "output_type": "execute_result"
    }
   ],
   "source": [
    "val z:Boolean = false\n",
    "\n",
    "if(z) {\n",
    "    println(\"It's true!\")\n",
    "} else {\n",
    "    println(\"It's false\")\n",
    "}"
   ]
  },
  {
   "cell_type": "code",
   "execution_count": 8,
   "metadata": {},
   "outputs": [
    {
     "name": "stdout",
     "output_type": "stream",
     "text": [
      "42\n"
     ]
    },
    {
     "data": {
      "text/plain": [
       "\u001b[36mresult\u001b[39m: \u001b[32mInt\u001b[39m = \u001b[32m42\u001b[39m"
      ]
     },
     "execution_count": 8,
     "metadata": {},
     "output_type": "execute_result"
    }
   ],
   "source": [
    "val result = {\n",
    "    if(99 > 100) { 4 }\n",
    "    else { 42 }\n",
    "}\n",
    "println(result)"
   ]
  },
  {
   "cell_type": "markdown",
   "metadata": {},
   "source": [
    "#### exercises"
   ]
  },
  {
   "cell_type": "code",
   "execution_count": 10,
   "metadata": {},
   "outputs": [
    {
     "name": "stdout",
     "output_type": "stream",
     "text": [
      "a is less than b\n",
      "c is less than 2\n",
      "d is not less than 2\n",
      "e is not less than g\n",
      "f is not less than g\n"
     ]
    },
    {
     "data": {
      "text/plain": [
       "\u001b[36ma\u001b[39m: \u001b[32mInt\u001b[39m = \u001b[32m1\u001b[39m\n",
       "\u001b[36mb\u001b[39m: \u001b[32mInt\u001b[39m = \u001b[32m5\u001b[39m\n",
       "\u001b[36mc\u001b[39m: \u001b[32mInt\u001b[39m = \u001b[32m1\u001b[39m\n",
       "\u001b[36md\u001b[39m: \u001b[32mInt\u001b[39m = \u001b[32m5\u001b[39m\n",
       "\u001b[36me\u001b[39m: \u001b[32mInt\u001b[39m = \u001b[32m1\u001b[39m\n",
       "\u001b[36mf\u001b[39m: \u001b[32mInt\u001b[39m = \u001b[32m5\u001b[39m\n",
       "\u001b[36mg\u001b[39m: \u001b[32mInt\u001b[39m = \u001b[32m5\u001b[39m"
      ]
     },
     "execution_count": 10,
     "metadata": {},
     "output_type": "execute_result"
    }
   ],
   "source": [
    "// 1\n",
    "val a = 1\n",
    "val b = 5\n",
    "\n",
    "if(a < b) {\n",
    "  println(\"a is less than b\")\n",
    "} else {\n",
    "  println(\"a is not less than b\")\n",
    "}\n",
    "\n",
    "// 2\n",
    "val c = 1\n",
    "val d = 5\n",
    "\n",
    "if(c < 2) {\n",
    "  println(\"c is less than 2\")\n",
    "} else {\n",
    "  println(\"c is not less than 2\")\n",
    "}\n",
    "\n",
    "if(d < 2) {\n",
    "  println(\"d is less than 2\")\n",
    "} else {\n",
    "  println(\"d is not less than 2\")\n",
    "}\n",
    "\n",
    "// 3\n",
    "val e = 1\n",
    "val f = 5\n",
    "val g = 5\n",
    "\n",
    "if(a < c) {\n",
    "  println (\"e is less than g\")\n",
    "} else {\n",
    "  println(\"e is not less than g\")\n",
    "}\n",
    "\n",
    "if(b < c) {\n",
    "  println(\"f is less than g\")\n",
    "} else {\n",
    "  println (\"f is not less than g\")\n",
    "}"
   ]
  },
  {
   "cell_type": "markdown",
   "metadata": {},
   "source": [
    "## 7. Evaluation Order:\n",
    "- order of operations\n",
    "- && means “and” and it requires that both the Boolean expression on the left and the one on the right are true to produce a true result\n",
    "- || means “or” and produces true if either the expression on the left or right of the operator is true (or if both are true)"
   ]
  },
  {
   "cell_type": "markdown",
   "metadata": {},
   "source": [
    "### calculations"
   ]
  },
  {
   "cell_type": "code",
   "execution_count": 17,
   "metadata": {},
   "outputs": [
    {
     "name": "stdout",
     "output_type": "stream",
     "text": [
      "Underweight\n"
     ]
    },
    {
     "data": {
      "text/plain": [
       "\u001b[36mlbs\u001b[39m: \u001b[32mInt\u001b[39m = \u001b[32m160\u001b[39m\n",
       "\u001b[36mheight\u001b[39m: \u001b[32mInt\u001b[39m = \u001b[32m68\u001b[39m\n",
       "\u001b[36mbmi\u001b[39m: \u001b[32mDouble\u001b[39m = \u001b[32m0.0\u001b[39m"
      ]
     },
     "execution_count": 17,
     "metadata": {},
     "output_type": "execute_result"
    }
   ],
   "source": [
    "val lbs = 160\n",
    "val height = 68\n",
    "\n",
    "val bmi = lbs / (height * height) * 703.07\n",
    "if (bmi < 18.5) println(\"Underweight\")\n",
    "else if (bmi < 25) println(\"Normal weight\")\n",
    "else println(\"Overweight\")"
   ]
  },
  {
   "cell_type": "code",
   "execution_count": 15,
   "metadata": {},
   "outputs": [
    {
     "name": "stdout",
     "output_type": "stream",
     "text": [
      "true\n",
      "true\n",
      "false\n"
     ]
    },
    {
     "data": {
      "text/plain": [
       "\u001b[36msunny\u001b[39m: \u001b[32mBoolean\u001b[39m = \u001b[32mtrue\u001b[39m\n",
       "\u001b[36mhoursSleep\u001b[39m: \u001b[32mInt\u001b[39m = \u001b[32m6\u001b[39m\n",
       "\u001b[36mexercise\u001b[39m: \u001b[32mBoolean\u001b[39m = \u001b[32mfalse\u001b[39m\n",
       "\u001b[36mtemp\u001b[39m: \u001b[32mInt\u001b[39m = \u001b[32m55\u001b[39m\n",
       "\u001b[36mhappy1\u001b[39m: \u001b[32mBoolean\u001b[39m = \u001b[32mtrue\u001b[39m\n",
       "\u001b[36msameHappy1\u001b[39m: \u001b[32mBoolean\u001b[39m = \u001b[32mtrue\u001b[39m\n",
       "\u001b[36mnotSame\u001b[39m: \u001b[32mBoolean\u001b[39m = \u001b[32mfalse\u001b[39m"
      ]
     },
     "execution_count": 15,
     "metadata": {},
     "output_type": "execute_result"
    }
   ],
   "source": [
    "val sunny = true\n",
    "val hoursSleep = 6\n",
    "val exercise = false\n",
    "val temp = 55\n",
    "\n",
    "val happy1 = sunny && temp > 50 || \n",
    "  exercise && hoursSleep > 7\n",
    "println(happy1)\n",
    "\n",
    "val sameHappy1 = (sunny && temp > 50) || \n",
    "  (exercise && hoursSleep > 7)\n",
    "println(sameHappy1)\n",
    "\n",
    "val notSame = \n",
    "  (sunny && temp > 50 || exercise) &&\n",
    "  hoursSleep > 7\n",
    "println(notSame)"
   ]
  },
  {
   "cell_type": "markdown",
   "metadata": {},
   "source": [
    "#### exercises"
   ]
  },
  {
   "cell_type": "code",
   "execution_count": 11,
   "metadata": {},
   "outputs": [
    {
     "name": "stdout",
     "output_type": "stream",
     "text": [
      "true\n",
      "true\n",
      "true\n",
      "26.666666666666668\n",
      "80.006\n"
     ]
    },
    {
     "data": {
      "text/plain": [
       "\u001b[36msky1\u001b[39m: \u001b[32mString\u001b[39m = \u001b[32m\"sunny\"\u001b[39m\n",
       "\u001b[36mtemperature1\u001b[39m: \u001b[32mInt\u001b[39m = \u001b[32m87\u001b[39m\n",
       "\u001b[36msunnyAndWarm\u001b[39m: \u001b[32mBoolean\u001b[39m = \u001b[32mtrue\u001b[39m\n",
       "\u001b[36msky2\u001b[39m: \u001b[32mString\u001b[39m = \u001b[32m\"sunny\"\u001b[39m\n",
       "\u001b[36mtemperature2\u001b[39m: \u001b[32mInt\u001b[39m = \u001b[32m87\u001b[39m\n",
       "\u001b[36msomewhatSunnyAndWarm\u001b[39m: \u001b[32mBoolean\u001b[39m = \u001b[32mtrue\u001b[39m\n",
       "\u001b[36msky3\u001b[39m: \u001b[32mString\u001b[39m = \u001b[32m\"sunny\"\u001b[39m\n",
       "\u001b[36mtemperature3\u001b[39m: \u001b[32mInt\u001b[39m = \u001b[32m10\u001b[39m\n",
       "\u001b[36msunnyAndExtreme\u001b[39m: \u001b[32mBoolean\u001b[39m = \u001b[32mtrue\u001b[39m\n",
       "\u001b[36mfaren\u001b[39m: \u001b[32mDouble\u001b[39m = \u001b[32m80.0\u001b[39m\n",
       "\u001b[36mcelsius\u001b[39m: \u001b[32mDouble\u001b[39m = \u001b[32m26.666666666666668\u001b[39m\n",
       "\u001b[36mc\u001b[39m: \u001b[32mDouble\u001b[39m = \u001b[32m26.67\u001b[39m\n",
       "\u001b[36mf\u001b[39m: \u001b[32mDouble\u001b[39m = \u001b[32m80.006\u001b[39m"
      ]
     },
     "execution_count": 11,
     "metadata": {},
     "output_type": "execute_result"
    }
   ],
   "source": [
    "// 1\n",
    "val sky1 = \"sunny\"\n",
    "var temperature1 = 87\n",
    "\n",
    "val sunnyAndWarm = sky1 == \"sunny\" && temperature1 > 80\n",
    "println(sunnyAndWarm)\n",
    "\n",
    "// 2\n",
    "val sky2 = \"sunny\"\n",
    "var temperature2 = 87\n",
    "val somewhatSunnyAndWarm =\n",
    "  (sky2 == \"sunny\" ||\n",
    "  sky2 == \"party cloudy\") &&\n",
    "  temperature2 > 80\n",
    "\n",
    "println(somewhatSunnyAndWarm)\n",
    "\n",
    "// 3\n",
    "val sky3 = \"sunny\"\n",
    "val temperature3 = 10\n",
    "\n",
    "val sunnyAndExtreme =\n",
    "  (sky3 == \"sunny\" ||\n",
    "  sky3 == \"party cloudy\") &&\n",
    "  (temperature3 > 80 ||\n",
    "  temperature3 < 20)\n",
    "\n",
    "println(sunnyAndExtreme)\n",
    "\n",
    "// 4\n",
    "val faren = 80.0\n",
    "val celsius = (faren-32.0) * (5.0/9.0)\n",
    "println(celsius)\n",
    "\n",
    "// 5\n",
    "val c = 26.67\n",
    "val f = c*(9.0/5) + 32\n",
    "println(f)"
   ]
  },
  {
   "cell_type": "markdown",
   "metadata": {},
   "source": [
    "## 8. Compound Expressions:\n",
    "- curly braces expressions"
   ]
  },
  {
   "cell_type": "markdown",
   "metadata": {},
   "source": [
    "### nested expressions"
   ]
  },
  {
   "cell_type": "code",
   "execution_count": 18,
   "metadata": {},
   "outputs": [
    {
     "name": "stdout",
     "output_type": "stream",
     "text": [
      "Operating hours: 9 - 20\n",
      "false\n"
     ]
    },
    {
     "data": {
      "text/plain": [
       "\u001b[36mhour\u001b[39m: \u001b[32mInt\u001b[39m = \u001b[32m6\u001b[39m\n",
       "\u001b[36misOpen\u001b[39m: \u001b[32mBoolean\u001b[39m = \u001b[32mfalse\u001b[39m"
      ]
     },
     "execution_count": 18,
     "metadata": {},
     "output_type": "execute_result"
    }
   ],
   "source": [
    "val hour = 6\n",
    "\n",
    "val isOpen = {\n",
    "    val opens = 9\n",
    "    val closes = 20\n",
    "    println(\"Operating hours: \" +\n",
    "      opens + \" - \" + closes)\n",
    "      if(hour >= opens && hour <= closes) {\n",
    "          true\n",
    "      } else {\n",
    "          false\n",
    "      }\n",
    "}\n",
    "println(isOpen)"
   ]
  },
  {
   "cell_type": "code",
   "execution_count": 19,
   "metadata": {},
   "outputs": [
    {
     "name": "stdout",
     "output_type": "stream",
     "text": [
      "Operating hours: 9 - 20\n",
      "true\n"
     ]
    },
    {
     "data": {
      "text/plain": [
       "\u001b[36mactivity\u001b[39m: \u001b[32mString\u001b[39m = \u001b[32m\"swimming\"\u001b[39m\n",
       "\u001b[36mhour\u001b[39m: \u001b[32mInt\u001b[39m = \u001b[32m10\u001b[39m\n",
       "\u001b[36misOpen\u001b[39m: \u001b[32mBoolean\u001b[39m = \u001b[32mtrue\u001b[39m"
      ]
     },
     "execution_count": 19,
     "metadata": {},
     "output_type": "execute_result"
    }
   ],
   "source": [
    "val activity = \"swimming\"\n",
    "val hour = 10\n",
    "\n",
    "val isOpen = {\n",
    "    if(activity == \"swimming\" ||\n",
    "       activity == \"ice skating\") {\n",
    "      val opens = 9\n",
    "      val closes = 20\n",
    "      println(\"Operating hours: \" +\n",
    "        opens + \" - \" + closes)\n",
    "      if(hour >= opens && hour <= closes) {\n",
    "          true\n",
    "      } else {\n",
    "        false\n",
    "      }\n",
    "    } else {\n",
    "      false\n",
    "    }\n",
    "}\n",
    "println(isOpen)"
   ]
  },
  {
   "cell_type": "markdown",
   "metadata": {},
   "source": [
    "#### exercises"
   ]
  },
  {
   "cell_type": "code",
   "execution_count": 27,
   "metadata": {},
   "outputs": [
    {
     "name": "stdout",
     "output_type": "stream",
     "text": [
      "a is less than or equal to c\n",
      "b is less than or equal to c\n",
      "both are!\n",
      "null:true && true = true\n",
      "biking: true\n"
     ]
    },
    {
     "data": {
      "text/plain": [
       "\u001b[36ma\u001b[39m: \u001b[32mInt\u001b[39m = \u001b[32m1\u001b[39m\n",
       "\u001b[36mb\u001b[39m: \u001b[32mInt\u001b[39m = \u001b[32m5\u001b[39m\n",
       "\u001b[36mc\u001b[39m: \u001b[32mInt\u001b[39m = \u001b[32m5\u001b[39m\n",
       "\u001b[36md\u001b[39m: \u001b[32mInt\u001b[39m = \u001b[32m1\u001b[39m\n",
       "\u001b[36me\u001b[39m: \u001b[32mInt\u001b[39m = \u001b[32m5\u001b[39m\n",
       "\u001b[36mf\u001b[39m: \u001b[32mInt\u001b[39m = \u001b[32m5\u001b[39m\n",
       "\u001b[36mairTemperature\u001b[39m: \u001b[32mInt\u001b[39m = \u001b[32m40\u001b[39m\n",
       "\u001b[36mhour\u001b[39m: \u001b[32mInt\u001b[39m = \u001b[32m7\u001b[39m\n",
       "\u001b[36misOpen\u001b[39m: \u001b[32mBoolean\u001b[39m = \u001b[32mtrue\u001b[39m\n",
       "\u001b[36misGoodTemperature\u001b[39m: \u001b[32mBoolean\u001b[39m = \u001b[32mtrue\u001b[39m\n",
       "\u001b[36mshouldDoActivity\u001b[39m: \u001b[32mBoolean\u001b[39m = \u001b[32mtrue\u001b[39m\n",
       "\u001b[36mdistance\u001b[39m: \u001b[32mInt\u001b[39m = \u001b[32m9\u001b[39m\n",
       "\u001b[36mactivity\u001b[39m: \u001b[32mString\u001b[39m = \u001b[32m\"biking\"\u001b[39m\n",
       "\u001b[36mwillDo\u001b[39m: \u001b[32mBoolean\u001b[39m = \u001b[32mtrue\u001b[39m"
      ]
     },
     "execution_count": 27,
     "metadata": {},
     "output_type": "execute_result"
    }
   ],
   "source": [
    "// 1\n",
    "val a = 1\n",
    "val b = 5 // change to 6 to test exercise 2\n",
    "val c = 5\n",
    "\n",
    "if(a <= c) {\n",
    "  println(\"a is less than or equal to c\")\n",
    "} else {\n",
    "  println(\"a is not less than or equal to c\")\n",
    "}\n",
    "\n",
    "if(b<=c) {\n",
    "  println(\"b is less than or equal to c\")\n",
    "} else {\n",
    "  println(\"b is not less than or equal to c\")\n",
    "}\n",
    "\n",
    "// 2\n",
    "val d = 1\n",
    "val e = 5\n",
    "val f = 5\n",
    "\n",
    "if(d <= f && e <= f) {\n",
    "  println(\"both are!\")\n",
    "} else if(d <= f || e <= f) {\n",
    "  println(\"one is and one isn't!\")\n",
    "}\n",
    "\n",
    "// 3\n",
    "val airTemperature = 40\n",
    "val hour = 7\n",
    "\n",
    "val isOpen = {\n",
    "  if(activity == \"swimming\") {\n",
    "      val opensAt = 9\n",
    "      val closesAt = 20\n",
    "      if(hour >= opensAt && hour <= closesAt) true\n",
    "      else false\n",
    "  } else {\n",
    "    true\n",
    "  }\n",
    "}\n",
    "\n",
    "val isGoodTemperature = {\n",
    "  if(activity == \"swimming\") {\n",
    "    if(airTemperature > 80) true\n",
    "    else false\n",
    "  } else if(activity == \"biking\") {\n",
    "    if(airTemperature > 50) true\n",
    "    else false\n",
    "  } else true\n",
    "}\n",
    "\n",
    "val shouldDoActivity = isOpen && isGoodTemperature\n",
    "println(activity + \":\" + isOpen + \" && \" +\n",
    "  isGoodTemperature + \" = \" + shouldDoActivity)\n",
    "\n",
    "// 4\n",
    "val distance = 9\n",
    "val activity = \"biking\"\n",
    "\n",
    "val willDo = {\n",
    "  if(activity == \"running\") {\n",
    "    distance < 10\n",
    "  } else if(activity == \"biking\") {\n",
    "    distance < 20\n",
    "  } else if(activity == \"walking\") {\n",
    "    distance < 6\n",
    "  } else {\n",
    "      false\n",
    "  }\n",
    "}\n",
    "\n",
    "println(activity + \": \" + willDo)"
   ]
  },
  {
   "cell_type": "markdown",
   "metadata": {},
   "source": [
    "# Summary 1"
   ]
  },
  {
   "cell_type": "code",
   "execution_count": 42,
   "metadata": {},
   "outputs": [
    {
     "name": "stdout",
     "output_type": "stream",
     "text": [
      "7\n",
      "45.0\n",
      "64.0\n",
      "15.0\n",
      "this is a string with\n",
      "     | many lines.\n",
      "     | How will it print?\n",
      "Normal weight\n",
      "()\n",
      "144.69114028475116\n"
     ]
    },
    {
     "data": {
      "text/plain": [
       "\u001b[36mi\u001b[39m: \u001b[32mInt\u001b[39m = \u001b[32m7\u001b[39m\n",
       "\u001b[36ma\u001b[39m: \u001b[32mInt\u001b[39m = \u001b[32m7\u001b[39m\n",
       "\u001b[36mj\u001b[39m: \u001b[32mInt\u001b[39m = \u001b[32m67\u001b[39m\n",
       "\u001b[36md\u001b[39m: \u001b[32mDouble\u001b[39m = \u001b[32m45.0\u001b[39m\n",
       "\u001b[36md2\u001b[39m: \u001b[32mDouble\u001b[39m = \u001b[32m64.0\u001b[39m\n",
       "\u001b[36md3\u001b[39m: \u001b[32mDouble\u001b[39m = \u001b[32m15.0\u001b[39m\n",
       "\u001b[36maString\u001b[39m: \u001b[32mString\u001b[39m = \u001b[32m\"\"\"\n",
       "this is a string with\n",
       "     | many lines.\n",
       "     | How will it print?\n",
       "\"\"\"\u001b[39m\n",
       "\u001b[36mlbs\u001b[39m: \u001b[32mDouble\u001b[39m = \u001b[32m150.0\u001b[39m\n",
       "\u001b[36mheight\u001b[39m: \u001b[32mDouble\u001b[39m = \u001b[32m68.0\u001b[39m\n",
       "\u001b[36maHeight\u001b[39m: \u001b[32mDouble\u001b[39m = \u001b[32m68.0\u001b[39m\n",
       "\u001b[36midealBMI\u001b[39m: \u001b[32mDouble\u001b[39m = \u001b[32m22.0\u001b[39m\n",
       "\u001b[36midealWeight\u001b[39m: \u001b[32mDouble\u001b[39m = \u001b[32m144.69114028475116\u001b[39m"
      ]
     },
     "execution_count": 42,
     "metadata": {},
     "output_type": "execute_result"
    }
   ],
   "source": [
    "// 1\n",
    "val i = 7\n",
    "println(i)\n",
    "\n",
    "// 2\n",
    "val a = 7\n",
    "//a = 5\n",
    "\n",
    "// 3\n",
    "var j = 67\n",
    "//j = 98.2\n",
    "\n",
    "// 4\n",
    "val d = 45d\n",
    "println(d)\n",
    "\n",
    "val d2:Double = 64.0\n",
    "println(d2)\n",
    "\n",
    "// 5\n",
    "val d3:Double = 15\n",
    "println(d3)\n",
    "\n",
    "// 6\n",
    "val aString = \"\"\"this is a string with\n",
    "     | many lines.\n",
    "     | How will it print?\"\"\"\n",
    "\n",
    "println(aString)\n",
    "\n",
    "// 7\n",
    "//val b:Boolean = \"maybe\"\n",
    "\n",
    "// 8\n",
    "//val x:Int = 15.4\n",
    "\n",
    "// 9\n",
    "val lbs = 150.0\n",
    "val height = 68.0\n",
    "val weightStatus = {\n",
    "  val bmi = lbs/(height*height) * 703.07\n",
    "  if(bmi < 18.5) println(\"Underweight\")\n",
    "    else if(bmi < 25) println(\"Normal weight\")\n",
    "    else println(\"Overweight\")\n",
    "}\n",
    "println(weightStatus)\n",
    "\n",
    "// 10\n",
    "val aHeight = 68.0\n",
    "val idealBMI = 22.0\n",
    "val idealWeight = {\n",
    "  idealBMI * (aHeight*aHeight) / 703.07\n",
    "}\n",
    "println(idealWeight)"
   ]
  },
  {
   "cell_type": "markdown",
   "metadata": {},
   "source": [
    "#### grp"
   ]
  }
 ],
 "metadata": {
  "kernelspec": {
   "display_name": "Scala",
   "language": "scala",
   "name": "scala"
  },
  "language_info": {
   "codemirror_mode": "text/x-scala",
   "file_extension": ".scala",
   "mimetype": "text/x-scala",
   "name": "scala211",
   "nbconvert_exporter": "script",
   "pygments_lexer": "scala",
   "version": "2.11.11"
  }
 },
 "nbformat": 4,
 "nbformat_minor": 2
}
